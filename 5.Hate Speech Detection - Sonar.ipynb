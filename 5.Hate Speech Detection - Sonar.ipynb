{
 "cells": [
  {
   "cell_type": "code",
   "execution_count": 1,
   "metadata": {
    "ExecuteTime": {
     "end_time": "2022-01-23T04:21:13.604992Z",
     "start_time": "2022-01-23T04:20:31.399063Z"
    }
   },
   "outputs": [],
   "source": [
    "import pandas as pd\n",
    "import numpy as np\n",
    "import seaborn as sns\n",
    "import matplotlib.pyplot as plt\n",
    "\n",
    "from hatesonar import Sonar \n",
    "\n",
    "import warnings\n",
    "warnings.filterwarnings('ignore')"
   ]
  },
  {
   "cell_type": "code",
   "execution_count": 2,
   "metadata": {
    "ExecuteTime": {
     "end_time": "2022-01-23T04:21:14.114888Z",
     "start_time": "2022-01-23T04:21:13.604992Z"
    }
   },
   "outputs": [],
   "source": [
    "df = pd.read_pickle('hate_speech_input.pkl')"
   ]
  },
  {
   "cell_type": "code",
   "execution_count": 3,
   "metadata": {
    "ExecuteTime": {
     "end_time": "2022-01-23T04:21:14.122766Z",
     "start_time": "2022-01-23T04:21:14.114888Z"
    }
   },
   "outputs": [],
   "source": [
    "df.reset_index(drop=True, inplace=True)"
   ]
  },
  {
   "cell_type": "code",
   "execution_count": 4,
   "metadata": {
    "ExecuteTime": {
     "end_time": "2022-01-23T04:21:14.269636Z",
     "start_time": "2022-01-23T04:21:14.122766Z"
    }
   },
   "outputs": [
    {
     "data": {
      "text/plain": [
       "(48617, 8)"
      ]
     },
     "execution_count": 4,
     "metadata": {},
     "output_type": "execute_result"
    }
   ],
   "source": [
    "df.shape"
   ]
  },
  {
   "cell_type": "code",
   "execution_count": 5,
   "metadata": {
    "ExecuteTime": {
     "end_time": "2022-01-23T04:21:14.746776Z",
     "start_time": "2022-01-23T04:21:14.269636Z"
    }
   },
   "outputs": [
    {
     "data": {
      "text/html": [
       "<div>\n",
       "<style scoped>\n",
       "    .dataframe tbody tr th:only-of-type {\n",
       "        vertical-align: middle;\n",
       "    }\n",
       "\n",
       "    .dataframe tbody tr th {\n",
       "        vertical-align: top;\n",
       "    }\n",
       "\n",
       "    .dataframe thead th {\n",
       "        text-align: right;\n",
       "    }\n",
       "</style>\n",
       "<table border=\"1\" class=\"dataframe\">\n",
       "  <thead>\n",
       "    <tr style=\"text-align: right;\">\n",
       "      <th></th>\n",
       "      <th>tweet_text</th>\n",
       "      <th>tweet_text_p</th>\n",
       "      <th>negative</th>\n",
       "      <th>neutral</th>\n",
       "      <th>positive</th>\n",
       "      <th>compound</th>\n",
       "      <th>sentiment</th>\n",
       "      <th>lemmatized</th>\n",
       "    </tr>\n",
       "  </thead>\n",
       "  <tbody>\n",
       "    <tr>\n",
       "      <th>0</th>\n",
       "      <td>Islam is a religion full of blessings and good...</td>\n",
       "      <td>Islam is a  full of blessings and good deeds, ...</td>\n",
       "      <td>0.000</td>\n",
       "      <td>0.564</td>\n",
       "      <td>0.436</td>\n",
       "      <td>0.8910</td>\n",
       "      <td>1</td>\n",
       "      <td>[full, blessing, good, deed, also, respect, li...</td>\n",
       "    </tr>\n",
       "    <tr>\n",
       "      <th>1</th>\n",
       "      <td>@ wagner_claire Religion and pity are antonyms...</td>\n",
       "      <td>and pity are antonyms. One is disaster, othe...</td>\n",
       "      <td>0.247</td>\n",
       "      <td>0.605</td>\n",
       "      <td>0.148</td>\n",
       "      <td>-0.2023</td>\n",
       "      <td>-1</td>\n",
       "      <td>[disaster, humanity, live, pity]</td>\n",
       "    </tr>\n",
       "    <tr>\n",
       "      <th>2</th>\n",
       "      <td>if the only reason people are on twitter is to...</td>\n",
       "      <td>if the only reason people are on twitter is to...</td>\n",
       "      <td>0.130</td>\n",
       "      <td>0.870</td>\n",
       "      <td>0.000</td>\n",
       "      <td>-0.3400</td>\n",
       "      <td>-1</td>\n",
       "      <td>[reason, people, argue, count]</td>\n",
       "    </tr>\n",
       "    <tr>\n",
       "      <th>3</th>\n",
       "      <td>Religion is needed to provide a moral compass ...</td>\n",
       "      <td>is needed to provide a moral compass to those...</td>\n",
       "      <td>0.173</td>\n",
       "      <td>0.827</td>\n",
       "      <td>0.000</td>\n",
       "      <td>-0.3182</td>\n",
       "      <td>-1</td>\n",
       "      <td>[need, provide, moral, compass, lack, empathy]</td>\n",
       "    </tr>\n",
       "    <tr>\n",
       "      <th>4</th>\n",
       "      <td>plus my religion has never been 'holier' than ...</td>\n",
       "      <td>plus my  has never been 'holier' than regular ...</td>\n",
       "      <td>0.000</td>\n",
       "      <td>0.811</td>\n",
       "      <td>0.189</td>\n",
       "      <td>0.4939</td>\n",
       "      <td>1</td>\n",
       "      <td>[never, holier, regular, life, regular, life, ...</td>\n",
       "    </tr>\n",
       "  </tbody>\n",
       "</table>\n",
       "</div>"
      ],
      "text/plain": [
       "                                          tweet_text  \\\n",
       "0  Islam is a religion full of blessings and good...   \n",
       "1  @ wagner_claire Religion and pity are antonyms...   \n",
       "2  if the only reason people are on twitter is to...   \n",
       "3  Religion is needed to provide a moral compass ...   \n",
       "4  plus my religion has never been 'holier' than ...   \n",
       "\n",
       "                                        tweet_text_p  negative  neutral  \\\n",
       "0  Islam is a  full of blessings and good deeds, ...     0.000    0.564   \n",
       "1    and pity are antonyms. One is disaster, othe...     0.247    0.605   \n",
       "2  if the only reason people are on twitter is to...     0.130    0.870   \n",
       "3   is needed to provide a moral compass to those...     0.173    0.827   \n",
       "4  plus my  has never been 'holier' than regular ...     0.000    0.811   \n",
       "\n",
       "   positive  compound  sentiment  \\\n",
       "0     0.436    0.8910          1   \n",
       "1     0.148   -0.2023         -1   \n",
       "2     0.000   -0.3400         -1   \n",
       "3     0.000   -0.3182         -1   \n",
       "4     0.189    0.4939          1   \n",
       "\n",
       "                                          lemmatized  \n",
       "0  [full, blessing, good, deed, also, respect, li...  \n",
       "1                   [disaster, humanity, live, pity]  \n",
       "2                     [reason, people, argue, count]  \n",
       "3     [need, provide, moral, compass, lack, empathy]  \n",
       "4  [never, holier, regular, life, regular, life, ...  "
      ]
     },
     "execution_count": 5,
     "metadata": {},
     "output_type": "execute_result"
    }
   ],
   "source": [
    "df.head()"
   ]
  },
  {
   "cell_type": "code",
   "execution_count": 6,
   "metadata": {
    "ExecuteTime": {
     "end_time": "2022-01-23T04:21:14.935076Z",
     "start_time": "2022-01-23T04:21:14.749290Z"
    }
   },
   "outputs": [
    {
     "data": {
      "text/html": [
       "<div>\n",
       "<style scoped>\n",
       "    .dataframe tbody tr th:only-of-type {\n",
       "        vertical-align: middle;\n",
       "    }\n",
       "\n",
       "    .dataframe tbody tr th {\n",
       "        vertical-align: top;\n",
       "    }\n",
       "\n",
       "    .dataframe thead th {\n",
       "        text-align: right;\n",
       "    }\n",
       "</style>\n",
       "<table border=\"1\" class=\"dataframe\">\n",
       "  <thead>\n",
       "    <tr style=\"text-align: right;\">\n",
       "      <th></th>\n",
       "      <th>negative</th>\n",
       "      <th>neutral</th>\n",
       "      <th>positive</th>\n",
       "      <th>compound</th>\n",
       "      <th>sentiment</th>\n",
       "    </tr>\n",
       "  </thead>\n",
       "  <tbody>\n",
       "    <tr>\n",
       "      <th>count</th>\n",
       "      <td>48617.000000</td>\n",
       "      <td>48617.000000</td>\n",
       "      <td>48617.000000</td>\n",
       "      <td>48617.000000</td>\n",
       "      <td>48617.000000</td>\n",
       "    </tr>\n",
       "    <tr>\n",
       "      <th>mean</th>\n",
       "      <td>0.113250</td>\n",
       "      <td>0.769190</td>\n",
       "      <td>0.117558</td>\n",
       "      <td>-0.000854</td>\n",
       "      <td>0.011025</td>\n",
       "    </tr>\n",
       "    <tr>\n",
       "      <th>std</th>\n",
       "      <td>0.124836</td>\n",
       "      <td>0.151591</td>\n",
       "      <td>0.121044</td>\n",
       "      <td>0.536449</td>\n",
       "      <td>0.912789</td>\n",
       "    </tr>\n",
       "    <tr>\n",
       "      <th>min</th>\n",
       "      <td>0.000000</td>\n",
       "      <td>0.164000</td>\n",
       "      <td>0.000000</td>\n",
       "      <td>-0.990200</td>\n",
       "      <td>-1.000000</td>\n",
       "    </tr>\n",
       "    <tr>\n",
       "      <th>25%</th>\n",
       "      <td>0.000000</td>\n",
       "      <td>0.667000</td>\n",
       "      <td>0.000000</td>\n",
       "      <td>-0.459900</td>\n",
       "      <td>-1.000000</td>\n",
       "    </tr>\n",
       "    <tr>\n",
       "      <th>50%</th>\n",
       "      <td>0.088000</td>\n",
       "      <td>0.773000</td>\n",
       "      <td>0.099000</td>\n",
       "      <td>0.000000</td>\n",
       "      <td>0.000000</td>\n",
       "    </tr>\n",
       "    <tr>\n",
       "      <th>75%</th>\n",
       "      <td>0.188000</td>\n",
       "      <td>0.875000</td>\n",
       "      <td>0.189000</td>\n",
       "      <td>0.451400</td>\n",
       "      <td>1.000000</td>\n",
       "    </tr>\n",
       "    <tr>\n",
       "      <th>max</th>\n",
       "      <td>0.792000</td>\n",
       "      <td>1.000000</td>\n",
       "      <td>0.805000</td>\n",
       "      <td>0.993200</td>\n",
       "      <td>1.000000</td>\n",
       "    </tr>\n",
       "  </tbody>\n",
       "</table>\n",
       "</div>"
      ],
      "text/plain": [
       "           negative       neutral      positive      compound     sentiment\n",
       "count  48617.000000  48617.000000  48617.000000  48617.000000  48617.000000\n",
       "mean       0.113250      0.769190      0.117558     -0.000854      0.011025\n",
       "std        0.124836      0.151591      0.121044      0.536449      0.912789\n",
       "min        0.000000      0.164000      0.000000     -0.990200     -1.000000\n",
       "25%        0.000000      0.667000      0.000000     -0.459900     -1.000000\n",
       "50%        0.088000      0.773000      0.099000      0.000000      0.000000\n",
       "75%        0.188000      0.875000      0.189000      0.451400      1.000000\n",
       "max        0.792000      1.000000      0.805000      0.993200      1.000000"
      ]
     },
     "execution_count": 6,
     "metadata": {},
     "output_type": "execute_result"
    }
   ],
   "source": [
    "df.describe()"
   ]
  },
  {
   "cell_type": "code",
   "execution_count": 7,
   "metadata": {
    "ExecuteTime": {
     "end_time": "2022-01-23T04:21:14.945333Z",
     "start_time": "2022-01-23T04:21:14.935076Z"
    }
   },
   "outputs": [
    {
     "data": {
      "text/plain": [
       "str"
      ]
     },
     "execution_count": 7,
     "metadata": {},
     "output_type": "execute_result"
    }
   ],
   "source": [
    "type(df['tweet_text'][1])"
   ]
  },
  {
   "cell_type": "code",
   "execution_count": 8,
   "metadata": {
    "ExecuteTime": {
     "end_time": "2022-01-23T04:21:18.509424Z",
     "start_time": "2022-01-23T04:21:14.945333Z"
    }
   },
   "outputs": [],
   "source": [
    "import sklearn.linear_model.logistic\n",
    "# Create an object of Sonar Hate Speech Detection\n",
    "sonar = Sonar()"
   ]
  },
  {
   "cell_type": "code",
   "execution_count": 9,
   "metadata": {
    "ExecuteTime": {
     "end_time": "2022-01-23T04:21:18.519307Z",
     "start_time": "2022-01-23T04:21:18.509424Z"
    }
   },
   "outputs": [],
   "source": [
    "Class = []\n",
    "hate = []\n",
    "offensive = []\n",
    "neither = []"
   ]
  },
  {
   "cell_type": "code",
   "execution_count": 10,
   "metadata": {
    "ExecuteTime": {
     "end_time": "2022-01-23T04:21:18.668757Z",
     "start_time": "2022-01-23T04:21:18.519307Z"
    }
   },
   "outputs": [],
   "source": [
    "def hate_speech_classifier(df, Class, hate, offensive, neither):\n",
    "    for i in df['tweet_text']:\n",
    "        sonar_dict = sonar.ping(text=i)\n",
    "        Class.append(list(sonar_dict.values())[1])\n",
    "        hate.append(list(list(sonar_dict.values())[2][0].values())[1])\n",
    "        offensive.append(list(list(sonar_dict.values())[2][1].values())[1])\n",
    "        neither.append(list(list(sonar_dict.values())[2][2].values())[1])"
   ]
  },
  {
   "cell_type": "code",
   "execution_count": 11,
   "metadata": {
    "ExecuteTime": {
     "end_time": "2022-01-23T04:21:54.999474Z",
     "start_time": "2022-01-23T04:21:18.668757Z"
    }
   },
   "outputs": [],
   "source": [
    "# Function calling \n",
    "hate_speech_classifier(df, Class, hate, offensive, neither)"
   ]
  },
  {
   "cell_type": "code",
   "execution_count": 12,
   "metadata": {
    "ExecuteTime": {
     "end_time": "2022-01-23T04:21:55.079710Z",
     "start_time": "2022-01-23T04:21:54.999474Z"
    }
   },
   "outputs": [],
   "source": [
    "# Prepare columns to add the scores later\n",
    "df[\"Class\"] = Class\n",
    "df[\"hate\"] = hate\n",
    "df[\"offensive\"] = offensive\n",
    "df[\"neither\"] = neither"
   ]
  },
  {
   "cell_type": "code",
   "execution_count": 13,
   "metadata": {
    "ExecuteTime": {
     "end_time": "2022-01-23T04:21:55.214631Z",
     "start_time": "2022-01-23T04:21:55.079710Z"
    }
   },
   "outputs": [
    {
     "data": {
      "text/plain": [
       "neither               44760\n",
       "offensive_language     3609\n",
       "hate_speech             248\n",
       "Name: Class, dtype: int64"
      ]
     },
     "execution_count": 13,
     "metadata": {},
     "output_type": "execute_result"
    }
   ],
   "source": [
    "df.Class.value_counts()"
   ]
  },
  {
   "cell_type": "code",
   "execution_count": 14,
   "metadata": {
    "ExecuteTime": {
     "end_time": "2022-01-23T04:21:56.699410Z",
     "start_time": "2022-01-23T04:21:55.214631Z"
    }
   },
   "outputs": [
    {
     "data": {
      "image/png": "[encoded data removed]",
      "text/plain": [
       "<Figure size 800x480 with 1 Axes>"
      ]
     },
     "metadata": {},
     "output_type": "display_data"
    }
   ],
   "source": [
    "# Draw Plot\n",
    "fig, ax = plt.subplots(figsize=(10, 6), subplot_kw=dict(aspect=\"equal\"), dpi= 80)\n",
    "\n",
    "data = [df.Class.value_counts()[-1], df.Class.value_counts()[1], df.Class.value_counts()[0]]\n",
    "categories = ['Hate Speech', 'Offensive', 'Neither']\n",
    "explode = [0.05,0.05,0.05]\n",
    "\n",
    "def func(pct, allvals):\n",
    "    absolute = int(pct/100.*np.sum(allvals))\n",
    "    return \"{:.1f}% ({:d} )\".format(pct, absolute)\n",
    "\n",
    "wedges, texts, autotexts = ax.pie(data, \n",
    "                                  autopct=lambda pct: func(pct, data),\n",
    "                                  textprops=dict(color=\"w\"), \n",
    "                                  colors=['#e55039', '#3c6382', '#78e08f'],\n",
    "                                  startangle=140,\n",
    "                                  explode=explode)\n",
    "\n",
    "# Decoration\n",
    "ax.legend(wedges, categories, title=\"Tweet contains:\", loc=\"center left\", bbox_to_anchor=(1, 0.2, 0.5, 1))\n",
    "plt.setp(autotexts, size=10, weight=700)\n",
    "ax.set_title(\"Hate Speech Detection\", fontsize=12, fontweight=\"bold\")\n",
    "plt.show()"
   ]
  },
  {
   "cell_type": "code",
   "execution_count": 15,
   "metadata": {
    "ExecuteTime": {
     "end_time": "2022-01-23T04:21:57.129192Z",
     "start_time": "2022-01-23T04:21:56.700923Z"
    }
   },
   "outputs": [
    {
     "data": {
      "image/png": "[encoded data removed]",
      "text/plain": [
       "<Figure size 288x360 with 1 Axes>"
      ]
     },
     "metadata": {
      "needs_background": "light"
     },
     "output_type": "display_data"
    }
   ],
   "source": [
    "labels = ['Hateful & Offensive', 'Neither']\n",
    "freq = [df.Class.value_counts()[-1] + df.Class.value_counts()[1], df.Class.value_counts()[0]]\n",
    "index = np.arange(len(freq))\n",
    "\n",
    "plt.figure(figsize=(4,5))\n",
    "plt.bar(index, freq, alpha=0.8, width=0.5, color=['red','#3c6382','black'])\n",
    "plt.xlabel('Contains', fontsize=13)\n",
    "plt.ylabel('Number of Tweets', fontsize=13)\n",
    "plt.xticks(index, labels, fontsize=11) \n",
    "plt.title(\"Distribution of the dataset\", fontsize=12, fontweight=\"bold\")\n",
    "plt.ylim(0, len(df['tweet_text']))\n",
    "plt.show()"
   ]
  },
  {
   "cell_type": "code",
   "execution_count": 16,
   "metadata": {
    "ExecuteTime": {
     "end_time": "2022-01-23T04:21:57.147706Z",
     "start_time": "2022-01-23T04:21:57.129192Z"
    }
   },
   "outputs": [],
   "source": [
    "labels = ['Hate Speech', 'Offensive Language']\n",
    "freq1 = [df.Class.value_counts()[-1], df.Class.value_counts()[1]]\n",
    "index1 = np.arange(len(freq1))"
   ]
  },
  {
   "cell_type": "code",
   "execution_count": 17,
   "metadata": {
    "ExecuteTime": {
     "end_time": "2022-01-23T04:21:57.358908Z",
     "start_time": "2022-01-23T04:21:57.149299Z"
    }
   },
   "outputs": [
    {
     "data": {
      "image/png": "[encoded data removed]",
      "text/plain": [
       "<Figure size 288x360 with 1 Axes>"
      ]
     },
     "metadata": {
      "needs_background": "light"
     },
     "output_type": "display_data"
    }
   ],
   "source": [
    "plt.figure(figsize=(4,5))\n",
    "plt.bar(index1, freq1, alpha=0.8, width=0.5, color=['red','black'])\n",
    "plt.xlabel('Contains', fontsize=13)\n",
    "plt.ylabel('Number of Tweets', fontsize=13)\n",
    "plt.xticks(index, labels, fontsize=11) \n",
    "plt.title(\"Problematic Tweets\", fontsize=12, fontweight=\"bold\")\n",
    "plt.ylim(0, 4000)\n",
    "plt.show()"
   ]
  },
  {
   "cell_type": "code",
   "execution_count": 18,
   "metadata": {
    "ExecuteTime": {
     "end_time": "2022-01-23T04:21:57.419707Z",
     "start_time": "2022-01-23T04:21:57.358908Z"
    }
   },
   "outputs": [],
   "source": [
    "df_hate = df[df['Class']=='hate_speech']\n",
    "df_offensive = df[df['Class']=='offensive_language']\n",
    "df_neither = df[df['Class']=='neither']"
   ]
  },
  {
   "cell_type": "code",
   "execution_count": 19,
   "metadata": {
    "ExecuteTime": {
     "end_time": "2022-01-23T04:21:57.499535Z",
     "start_time": "2022-01-23T04:21:57.419707Z"
    }
   },
   "outputs": [
    {
     "data": {
      "text/plain": [
       " 1    19349\n",
       "-1    17709\n",
       " 0     7702\n",
       "Name: sentiment, dtype: int64"
      ]
     },
     "execution_count": 19,
     "metadata": {},
     "output_type": "execute_result"
    }
   ],
   "source": [
    "df_neither.sentiment.value_counts()"
   ]
  },
  {
   "cell_type": "code",
   "execution_count": 20,
   "metadata": {
    "ExecuteTime": {
     "end_time": "2022-01-23T04:21:57.599638Z",
     "start_time": "2022-01-23T04:21:57.499535Z"
    }
   },
   "outputs": [
    {
     "data": {
      "text/plain": [
       "-1    2124\n",
       " 1    1109\n",
       " 0     376\n",
       "Name: sentiment, dtype: int64"
      ]
     },
     "execution_count": 20,
     "metadata": {},
     "output_type": "execute_result"
    }
   ],
   "source": [
    "df_offensive.sentiment.value_counts()"
   ]
  },
  {
   "cell_type": "code",
   "execution_count": 21,
   "metadata": {
    "ExecuteTime": {
     "end_time": "2022-01-23T04:21:57.779053Z",
     "start_time": "2022-01-23T04:21:57.599638Z"
    }
   },
   "outputs": [
    {
     "data": {
      "text/plain": [
       "0.17231587890712338"
      ]
     },
     "execution_count": 21,
     "metadata": {},
     "output_type": "execute_result"
    }
   ],
   "source": [
    "7707/(19336+17683+7707)"
   ]
  },
  {
   "cell_type": "code",
   "execution_count": 22,
   "metadata": {
    "ExecuteTime": {
     "end_time": "2022-01-23T04:21:58.047239Z",
     "start_time": "2022-01-23T04:21:57.779053Z"
    }
   },
   "outputs": [
    {
     "data": {
      "image/png": "[encoded data removed]",
      "text/plain": [
       "<Figure size 360x432 with 1 Axes>"
      ]
     },
     "metadata": {
      "needs_background": "light"
     },
     "output_type": "display_data"
    }
   ],
   "source": [
    "labels = ['Negative', 'Positive', 'Neutral']\n",
    "freq = [df_hate.sentiment.value_counts()[-1], df_hate.sentiment.value_counts()[1], df_hate.sentiment.value_counts()[0]]\n",
    "index = np.arange(len(freq))\n",
    "\n",
    "plt.figure(figsize=(5,6))\n",
    "\n",
    "# Chart 1: Sentiment of Tweets classified as Hateful\n",
    "plt.barh(index, freq, alpha=0.8, color=['#e74c3c','#3c6382','black'])\n",
    "plt.xlabel('Number of tweets', fontsize=13)\n",
    "plt.ylabel('Sentiment', fontsize=13)\n",
    "plt.yticks(index, labels, fontsize=11) \n",
    "plt.title(\"Hate Speech by Sentiment\", fontsize=12, fontweight=\"bold\")\n",
    "plt.show()"
   ]
  },
  {
   "cell_type": "code",
   "execution_count": 23,
   "metadata": {
    "ExecuteTime": {
     "end_time": "2022-01-23T04:21:58.209641Z",
     "start_time": "2022-01-23T04:21:58.049383Z"
    }
   },
   "outputs": [
    {
     "data": {
      "image/png": "[encoded data removed]",
      "text/plain": [
       "<Figure size 360x432 with 1 Axes>"
      ]
     },
     "metadata": {
      "needs_background": "light"
     },
     "output_type": "display_data"
    }
   ],
   "source": [
    "labels = ['Negative', 'Positive', 'Neutral']\n",
    "freq = [df_offensive.sentiment.value_counts()[-1], df_offensive.sentiment.value_counts()[1], df_offensive.sentiment.value_counts()[0]]\n",
    "index = np.arange(len(freq))\n",
    "\n",
    "plt.figure(figsize=(5,6))\n",
    "\n",
    "# Chart 2: Sentiment of Tweets classified as Offensive\n",
    "plt.barh(index, freq, alpha=0.8, color=['#e74c3c','#3c6382','black'])\n",
    "plt.xlabel('Number of tweets', fontsize=13)\n",
    "plt.ylabel('Sentiment', fontsize=13)\n",
    "plt.yticks(index, labels, fontsize=11) \n",
    "plt.title(\"Offensive Language by Sentiment\", fontsize=12, fontweight=\"bold\")\n",
    "plt.show()"
   ]
  },
  {
   "cell_type": "code",
   "execution_count": 24,
   "metadata": {
    "ExecuteTime": {
     "end_time": "2022-01-23T04:21:58.419630Z",
     "start_time": "2022-01-23T04:21:58.209641Z"
    }
   },
   "outputs": [
    {
     "data": {
      "image/png": "[encoded data removed]",
      "text/plain": [
       "<Figure size 360x432 with 1 Axes>"
      ]
     },
     "metadata": {
      "needs_background": "light"
     },
     "output_type": "display_data"
    }
   ],
   "source": [
    "labels = ['Negative', 'Positive', 'Neutral']\n",
    "freq = [df_neither.sentiment.value_counts()[-1], df_neither.sentiment.value_counts()[1], df_neither.sentiment.value_counts()[0]]\n",
    "index = np.arange(len(freq))\n",
    "\n",
    "plt.figure(figsize=(5,6))\n",
    "\n",
    "# Chart 3: Sentiment of Tweets classified as Neither\n",
    "plt.barh(index, freq, alpha=0.8, color=['#e74c3c','#3c6382','black'])\n",
    "plt.xlabel('Number of tweets', fontsize=13)\n",
    "plt.ylabel('Sentiment', fontsize=13)\n",
    "plt.yticks(index, labels, fontsize=11) \n",
    "plt.title(\"Normal Tweets by Sentiment\", fontsize=12, fontweight=\"bold\")\n",
    "plt.show()"
   ]
  },
  {
   "cell_type": "code",
   "execution_count": 25,
   "metadata": {
    "ExecuteTime": {
     "end_time": "2022-01-23T04:21:58.766866Z",
     "start_time": "2022-01-23T04:21:58.419630Z"
    }
   },
   "outputs": [
    {
     "data": {
      "text/plain": [
       "<Figure size 1440x360 with 0 Axes>"
      ]
     },
     "metadata": {},
     "output_type": "display_data"
    },
    {
     "data": {
      "image/png": "[encoded data removed]",
      "text/plain": [
       "<Figure size 360x360 with 1 Axes>"
      ]
     },
     "metadata": {
      "needs_background": "light"
     },
     "output_type": "display_data"
    }
   ],
   "source": [
    "# Provide a dictionary to the palette argument\n",
    "plt.figure(figsize=(20,5))\n",
    "sns.lmplot( x=\"compound\", y=\"hate\", data=df_hate, fit_reg=False, hue='Class', legend=False, palette=dict(neither=\"black\", offensive_language=\"#3c6382\", hate_speech=\"#e74c3c\"))\n",
    " \n",
    "# Move the legend to an empty part of the plot\n",
    "plt.legend(loc='lower right')\n",
    "plt.show()"
   ]
  },
  {
   "cell_type": "code",
   "execution_count": 26,
   "metadata": {
    "ExecuteTime": {
     "end_time": "2022-01-23T04:21:58.782884Z",
     "start_time": "2022-01-23T04:21:58.766866Z"
    }
   },
   "outputs": [],
   "source": [
    "df_hate.sort_values('hate', inplace=True, ascending=False)"
   ]
  },
  {
   "cell_type": "code",
   "execution_count": 27,
   "metadata": {
    "ExecuteTime": {
     "end_time": "2022-01-23T04:21:58.947805Z",
     "start_time": "2022-01-23T04:21:58.782884Z"
    }
   },
   "outputs": [],
   "source": [
    "df_hate.reset_index(drop=True, inplace=True)"
   ]
  },
  {
   "cell_type": "code",
   "execution_count": 28,
   "metadata": {
    "ExecuteTime": {
     "end_time": "2022-01-23T04:21:59.099408Z",
     "start_time": "2022-01-23T04:21:58.949313Z"
    }
   },
   "outputs": [
    {
     "data": {
      "text/html": [
       "<div>\n",
       "<style scoped>\n",
       "    .dataframe tbody tr th:only-of-type {\n",
       "        vertical-align: middle;\n",
       "    }\n",
       "\n",
       "    .dataframe tbody tr th {\n",
       "        vertical-align: top;\n",
       "    }\n",
       "\n",
       "    .dataframe thead th {\n",
       "        text-align: right;\n",
       "    }\n",
       "</style>\n",
       "<table border=\"1\" class=\"dataframe\">\n",
       "  <thead>\n",
       "    <tr style=\"text-align: right;\">\n",
       "      <th></th>\n",
       "      <th>tweet_text</th>\n",
       "      <th>tweet_text_p</th>\n",
       "      <th>negative</th>\n",
       "      <th>neutral</th>\n",
       "      <th>positive</th>\n",
       "      <th>compound</th>\n",
       "      <th>sentiment</th>\n",
       "      <th>lemmatized</th>\n",
       "      <th>Class</th>\n",
       "      <th>hate</th>\n",
       "      <th>offensive</th>\n",
       "      <th>neither</th>\n",
       "    </tr>\n",
       "  </thead>\n",
       "  <tbody>\n",
       "    <tr>\n",
       "      <th>0</th>\n",
       "      <td>@ WritersofColour \"your religion is misogynist...</td>\n",
       "      <td>\"your  is misogynistic\" a white feminist abus...</td>\n",
       "      <td>0.273</td>\n",
       "      <td>0.727</td>\n",
       "      <td>0.000</td>\n",
       "      <td>-0.4588</td>\n",
       "      <td>-1</td>\n",
       "      <td>[white, feminist, abuse]</td>\n",
       "      <td>hate_speech</td>\n",
       "      <td>0.870408</td>\n",
       "      <td>0.069669</td>\n",
       "      <td>0.059924</td>\n",
       "    </tr>\n",
       "    <tr>\n",
       "      <th>1</th>\n",
       "      <td>What the fuck is wrong with the human race? Re...</td>\n",
       "      <td>What the fuck is wrong with the human race?  &amp;...</td>\n",
       "      <td>0.452</td>\n",
       "      <td>0.548</td>\n",
       "      <td>0.000</td>\n",
       "      <td>-0.7650</td>\n",
       "      <td>-1</td>\n",
       "      <td>[fuck, wrong, human, race, republican]</td>\n",
       "      <td>hate_speech</td>\n",
       "      <td>0.824041</td>\n",
       "      <td>0.144219</td>\n",
       "      <td>0.031740</td>\n",
       "    </tr>\n",
       "    <tr>\n",
       "      <th>2</th>\n",
       "      <td>The systematic extermination of white race,wes...</td>\n",
       "      <td>The systematic extermination of white race,wes...</td>\n",
       "      <td>0.000</td>\n",
       "      <td>0.863</td>\n",
       "      <td>0.137</td>\n",
       "      <td>0.4019</td>\n",
       "      <td>1</td>\n",
       "      <td>[systematic, extermination, white, race, weste...</td>\n",
       "      <td>hate_speech</td>\n",
       "      <td>0.819088</td>\n",
       "      <td>0.136934</td>\n",
       "      <td>0.043978</td>\n",
       "    </tr>\n",
       "    <tr>\n",
       "      <th>3</th>\n",
       "      <td>What? White is a race. Judaism is a Religion s...</td>\n",
       "      <td>What? White is a race. Judaism is a  so someon...</td>\n",
       "      <td>0.000</td>\n",
       "      <td>1.000</td>\n",
       "      <td>0.000</td>\n",
       "      <td>0.0000</td>\n",
       "      <td>0</td>\n",
       "      <td>[white, race, judaism, white, jewish, common]</td>\n",
       "      <td>hate_speech</td>\n",
       "      <td>0.813112</td>\n",
       "      <td>0.143532</td>\n",
       "      <td>0.043356</td>\n",
       "    </tr>\n",
       "    <tr>\n",
       "      <th>4</th>\n",
       "      <td>@ yesnicksearcy @ ksoderbl # AntiWhite anti-ra...</td>\n",
       "      <td>AntiWhite anti-racism is the new . Race doe...</td>\n",
       "      <td>0.000</td>\n",
       "      <td>0.836</td>\n",
       "      <td>0.164</td>\n",
       "      <td>0.4466</td>\n",
       "      <td>1</td>\n",
       "      <td>[anti, racism, race, exist, white, people, neg...</td>\n",
       "      <td>hate_speech</td>\n",
       "      <td>0.809880</td>\n",
       "      <td>0.166541</td>\n",
       "      <td>0.023578</td>\n",
       "    </tr>\n",
       "    <tr>\n",
       "      <th>5</th>\n",
       "      <td>As a white ((Aryan)) who is the exact same rac...</td>\n",
       "      <td>As a white ((Aryan)) who is the exact same rac...</td>\n",
       "      <td>0.089</td>\n",
       "      <td>0.911</td>\n",
       "      <td>0.000</td>\n",
       "      <td>-0.1901</td>\n",
       "      <td>-1</td>\n",
       "      <td>[exact, race, white, different, culture, demand]</td>\n",
       "      <td>hate_speech</td>\n",
       "      <td>0.798556</td>\n",
       "      <td>0.130696</td>\n",
       "      <td>0.070748</td>\n",
       "    </tr>\n",
       "    <tr>\n",
       "      <th>6</th>\n",
       "      <td>White supremacy is an ideology. It has nothing...</td>\n",
       "      <td>White supremacy is an ideology. It has nothing...</td>\n",
       "      <td>0.000</td>\n",
       "      <td>0.870</td>\n",
       "      <td>0.130</td>\n",
       "      <td>0.1779</td>\n",
       "      <td>1</td>\n",
       "      <td>[ideology, race, black, person, white, suprema...</td>\n",
       "      <td>hate_speech</td>\n",
       "      <td>0.795342</td>\n",
       "      <td>0.161176</td>\n",
       "      <td>0.043482</td>\n",
       "    </tr>\n",
       "    <tr>\n",
       "      <th>7</th>\n",
       "      <td>So why that logic then it shouldn’t be racist ...</td>\n",
       "      <td>So why that logic then it shouldn’t be racist ...</td>\n",
       "      <td>0.104</td>\n",
       "      <td>0.896</td>\n",
       "      <td>0.000</td>\n",
       "      <td>-0.6124</td>\n",
       "      <td>-1</td>\n",
       "      <td>[logic, racist, white, people, do, white, peop...</td>\n",
       "      <td>hate_speech</td>\n",
       "      <td>0.792905</td>\n",
       "      <td>0.170698</td>\n",
       "      <td>0.036397</td>\n",
       "    </tr>\n",
       "    <tr>\n",
       "      <th>8</th>\n",
       "      <td>@ BlushingGiraffe White is a race, anyone can ...</td>\n",
       "      <td>White is a race, anyone can be a Muslim.. It ...</td>\n",
       "      <td>0.156</td>\n",
       "      <td>0.596</td>\n",
       "      <td>0.248</td>\n",
       "      <td>0.2509</td>\n",
       "      <td>1</td>\n",
       "      <td>[white, race, muslim, racist, disagree, date, ...</td>\n",
       "      <td>hate_speech</td>\n",
       "      <td>0.767149</td>\n",
       "      <td>0.061211</td>\n",
       "      <td>0.171641</td>\n",
       "    </tr>\n",
       "    <tr>\n",
       "      <th>9</th>\n",
       "      <td>Using one person/ persons to make a negative s...</td>\n",
       "      <td>Using one person/ persons to make a negative s...</td>\n",
       "      <td>0.214</td>\n",
       "      <td>0.677</td>\n",
       "      <td>0.109</td>\n",
       "      <td>-0.7163</td>\n",
       "      <td>-1</td>\n",
       "      <td>[use, person, person, make, negative, statemen...</td>\n",
       "      <td>hate_speech</td>\n",
       "      <td>0.759593</td>\n",
       "      <td>0.180686</td>\n",
       "      <td>0.059721</td>\n",
       "    </tr>\n",
       "  </tbody>\n",
       "</table>\n",
       "</div>"
      ],
      "text/plain": [
       "                                          tweet_text  \\\n",
       "0  @ WritersofColour \"your religion is misogynist...   \n",
       "1  What the fuck is wrong with the human race? Re...   \n",
       "2  The systematic extermination of white race,wes...   \n",
       "3  What? White is a race. Judaism is a Religion s...   \n",
       "4  @ yesnicksearcy @ ksoderbl # AntiWhite anti-ra...   \n",
       "5  As a white ((Aryan)) who is the exact same rac...   \n",
       "6  White supremacy is an ideology. It has nothing...   \n",
       "7  So why that logic then it shouldn’t be racist ...   \n",
       "8  @ BlushingGiraffe White is a race, anyone can ...   \n",
       "9  Using one person/ persons to make a negative s...   \n",
       "\n",
       "                                        tweet_text_p  negative  neutral  \\\n",
       "0   \"your  is misogynistic\" a white feminist abus...     0.273    0.727   \n",
       "1  What the fuck is wrong with the human race?  &...     0.452    0.548   \n",
       "2  The systematic extermination of white race,wes...     0.000    0.863   \n",
       "3  What? White is a race. Judaism is a  so someon...     0.000    1.000   \n",
       "4     AntiWhite anti-racism is the new . Race doe...     0.000    0.836   \n",
       "5  As a white ((Aryan)) who is the exact same rac...     0.089    0.911   \n",
       "6  White supremacy is an ideology. It has nothing...     0.000    0.870   \n",
       "7  So why that logic then it shouldn’t be racist ...     0.104    0.896   \n",
       "8   White is a race, anyone can be a Muslim.. It ...     0.156    0.596   \n",
       "9  Using one person/ persons to make a negative s...     0.214    0.677   \n",
       "\n",
       "   positive  compound  sentiment  \\\n",
       "0     0.000   -0.4588         -1   \n",
       "1     0.000   -0.7650         -1   \n",
       "2     0.137    0.4019          1   \n",
       "3     0.000    0.0000          0   \n",
       "4     0.164    0.4466          1   \n",
       "5     0.000   -0.1901         -1   \n",
       "6     0.130    0.1779          1   \n",
       "7     0.000   -0.6124         -1   \n",
       "8     0.248    0.2509          1   \n",
       "9     0.109   -0.7163         -1   \n",
       "\n",
       "                                          lemmatized        Class      hate  \\\n",
       "0                           [white, feminist, abuse]  hate_speech  0.870408   \n",
       "1             [fuck, wrong, human, race, republican]  hate_speech  0.824041   \n",
       "2  [systematic, extermination, white, race, weste...  hate_speech  0.819088   \n",
       "3      [white, race, judaism, white, jewish, common]  hate_speech  0.813112   \n",
       "4  [anti, racism, race, exist, white, people, neg...  hate_speech  0.809880   \n",
       "5   [exact, race, white, different, culture, demand]  hate_speech  0.798556   \n",
       "6  [ideology, race, black, person, white, suprema...  hate_speech  0.795342   \n",
       "7  [logic, racist, white, people, do, white, peop...  hate_speech  0.792905   \n",
       "8  [white, race, muslim, racist, disagree, date, ...  hate_speech  0.767149   \n",
       "9  [use, person, person, make, negative, statemen...  hate_speech  0.759593   \n",
       "\n",
       "   offensive   neither  \n",
       "0   0.069669  0.059924  \n",
       "1   0.144219  0.031740  \n",
       "2   0.136934  0.043978  \n",
       "3   0.143532  0.043356  \n",
       "4   0.166541  0.023578  \n",
       "5   0.130696  0.070748  \n",
       "6   0.161176  0.043482  \n",
       "7   0.170698  0.036397  \n",
       "8   0.061211  0.171641  \n",
       "9   0.180686  0.059721  "
      ]
     },
     "execution_count": 28,
     "metadata": {},
     "output_type": "execute_result"
    }
   ],
   "source": [
    "df_hate.head(10)"
   ]
  },
  {
   "cell_type": "code",
   "execution_count": 29,
   "metadata": {
    "ExecuteTime": {
     "end_time": "2022-01-23T04:21:59.267004Z",
     "start_time": "2022-01-23T04:21:59.099408Z"
    }
   },
   "outputs": [],
   "source": [
    "df_offensive.sort_values('offensive',inplace=True, ascending=False)"
   ]
  },
  {
   "cell_type": "code",
   "execution_count": 30,
   "metadata": {
    "ExecuteTime": {
     "end_time": "2022-01-23T04:21:59.429475Z",
     "start_time": "2022-01-23T04:21:59.267004Z"
    }
   },
   "outputs": [],
   "source": [
    "df_offensive.reset_index(drop=True, inplace=True)"
   ]
  },
  {
   "cell_type": "code",
   "execution_count": 31,
   "metadata": {
    "ExecuteTime": {
     "end_time": "2022-01-23T04:21:59.638966Z",
     "start_time": "2022-01-23T04:21:59.429475Z"
    }
   },
   "outputs": [
    {
     "data": {
      "text/html": [
       "<div>\n",
       "<style scoped>\n",
       "    .dataframe tbody tr th:only-of-type {\n",
       "        vertical-align: middle;\n",
       "    }\n",
       "\n",
       "    .dataframe tbody tr th {\n",
       "        vertical-align: top;\n",
       "    }\n",
       "\n",
       "    .dataframe thead th {\n",
       "        text-align: right;\n",
       "    }\n",
       "</style>\n",
       "<table border=\"1\" class=\"dataframe\">\n",
       "  <thead>\n",
       "    <tr style=\"text-align: right;\">\n",
       "      <th></th>\n",
       "      <th>tweet_text</th>\n",
       "      <th>tweet_text_p</th>\n",
       "      <th>negative</th>\n",
       "      <th>neutral</th>\n",
       "      <th>positive</th>\n",
       "      <th>compound</th>\n",
       "      <th>sentiment</th>\n",
       "      <th>lemmatized</th>\n",
       "      <th>Class</th>\n",
       "      <th>hate</th>\n",
       "      <th>offensive</th>\n",
       "      <th>neither</th>\n",
       "    </tr>\n",
       "  </thead>\n",
       "  <tbody>\n",
       "    <tr>\n",
       "      <th>0</th>\n",
       "      <td>dustin speaking \"son of a bitch\" is my religion</td>\n",
       "      <td>dustin speaking \"son of a bitch\" is my</td>\n",
       "      <td>0.388</td>\n",
       "      <td>0.612</td>\n",
       "      <td>0.000</td>\n",
       "      <td>-0.5859</td>\n",
       "      <td>-1</td>\n",
       "      <td>[speak, bitch]</td>\n",
       "      <td>offensive_language</td>\n",
       "      <td>0.010516</td>\n",
       "      <td>0.989317</td>\n",
       "      <td>0.000167</td>\n",
       "    </tr>\n",
       "    <tr>\n",
       "      <th>1</th>\n",
       "      <td>Anja Nissen saying \"vegan bitches!\" in her las...</td>\n",
       "      <td>Anja Nissen saying \"vegan bitches!\" in her las...</td>\n",
       "      <td>0.000</td>\n",
       "      <td>1.000</td>\n",
       "      <td>0.000</td>\n",
       "      <td>0.0000</td>\n",
       "      <td>0</td>\n",
       "      <td>[say, vegan, bitch, last, instagram, story]</td>\n",
       "      <td>offensive_language</td>\n",
       "      <td>0.009915</td>\n",
       "      <td>0.989315</td>\n",
       "      <td>0.000770</td>\n",
       "    </tr>\n",
       "    <tr>\n",
       "      <th>2</th>\n",
       "      <td>Spencer Reid saying \"son of a bitch\" is my rel...</td>\n",
       "      <td>Spencer Reid saying \"son of a bitch\" is my</td>\n",
       "      <td>0.352</td>\n",
       "      <td>0.648</td>\n",
       "      <td>0.000</td>\n",
       "      <td>-0.5859</td>\n",
       "      <td>-1</td>\n",
       "      <td>[say, bitch]</td>\n",
       "      <td>offensive_language</td>\n",
       "      <td>0.010632</td>\n",
       "      <td>0.988830</td>\n",
       "      <td>0.000538</td>\n",
       "    </tr>\n",
       "    <tr>\n",
       "      <th>3</th>\n",
       "      <td>No more drugs for me, pussy n religion is all ...</td>\n",
       "      <td>No more drugs for me, pussy n  is all I neeed</td>\n",
       "      <td>0.216</td>\n",
       "      <td>0.784</td>\n",
       "      <td>0.000</td>\n",
       "      <td>-0.2960</td>\n",
       "      <td>-1</td>\n",
       "      <td>[drug, neeed]</td>\n",
       "      <td>offensive_language</td>\n",
       "      <td>0.011703</td>\n",
       "      <td>0.987489</td>\n",
       "      <td>0.000808</td>\n",
       "    </tr>\n",
       "    <tr>\n",
       "      <th>4</th>\n",
       "      <td>Honestly tho. Pussy and religion is all I need</td>\n",
       "      <td>Honestly tho. Pussy and  is all I need</td>\n",
       "      <td>0.000</td>\n",
       "      <td>0.667</td>\n",
       "      <td>0.333</td>\n",
       "      <td>0.4588</td>\n",
       "      <td>1</td>\n",
       "      <td>[honestly, pussy, need]</td>\n",
       "      <td>offensive_language</td>\n",
       "      <td>0.012881</td>\n",
       "      <td>0.986379</td>\n",
       "      <td>0.000740</td>\n",
       "    </tr>\n",
       "    <tr>\n",
       "      <th>5</th>\n",
       "      <td>No more drugs for me, pussy &amp; religion is all ...</td>\n",
       "      <td>No more drugs for me, pussy &amp;  is all I need.</td>\n",
       "      <td>0.216</td>\n",
       "      <td>0.784</td>\n",
       "      <td>0.000</td>\n",
       "      <td>-0.2960</td>\n",
       "      <td>-1</td>\n",
       "      <td>[drug, pussy, need]</td>\n",
       "      <td>offensive_language</td>\n",
       "      <td>0.012452</td>\n",
       "      <td>0.986363</td>\n",
       "      <td>0.001185</td>\n",
       "    </tr>\n",
       "    <tr>\n",
       "      <th>6</th>\n",
       "      <td>no more drugs for me pussy &amp; religion is all i...</td>\n",
       "      <td>no more drugs for me pussy &amp;  is all i need</td>\n",
       "      <td>0.216</td>\n",
       "      <td>0.784</td>\n",
       "      <td>0.000</td>\n",
       "      <td>-0.2960</td>\n",
       "      <td>-1</td>\n",
       "      <td>[drug, pussy, need]</td>\n",
       "      <td>offensive_language</td>\n",
       "      <td>0.012452</td>\n",
       "      <td>0.986363</td>\n",
       "      <td>0.001185</td>\n",
       "    </tr>\n",
       "    <tr>\n",
       "      <th>7</th>\n",
       "      <td>No more drugs for me, pussy &amp; religion is all ...</td>\n",
       "      <td>No more drugs for me, pussy &amp;  is all I need</td>\n",
       "      <td>0.216</td>\n",
       "      <td>0.784</td>\n",
       "      <td>0.000</td>\n",
       "      <td>-0.2960</td>\n",
       "      <td>-1</td>\n",
       "      <td>[drug, pussy, need]</td>\n",
       "      <td>offensive_language</td>\n",
       "      <td>0.012452</td>\n",
       "      <td>0.986363</td>\n",
       "      <td>0.001185</td>\n",
       "    </tr>\n",
       "    <tr>\n",
       "      <th>8</th>\n",
       "      <td>No more drugs for me pussy &amp; religion is all I...</td>\n",
       "      <td>No more drugs for me pussy &amp;  is all I need</td>\n",
       "      <td>0.216</td>\n",
       "      <td>0.784</td>\n",
       "      <td>0.000</td>\n",
       "      <td>-0.2960</td>\n",
       "      <td>-1</td>\n",
       "      <td>[drug, pussy, need]</td>\n",
       "      <td>offensive_language</td>\n",
       "      <td>0.012452</td>\n",
       "      <td>0.986363</td>\n",
       "      <td>0.001185</td>\n",
       "    </tr>\n",
       "    <tr>\n",
       "      <th>9</th>\n",
       "      <td>RT @ TeamKanyeDaily: No more drugs for me, pus...</td>\n",
       "      <td>RT : No more drugs for me, pussy and  is all I...</td>\n",
       "      <td>0.180</td>\n",
       "      <td>0.820</td>\n",
       "      <td>0.000</td>\n",
       "      <td>-0.2960</td>\n",
       "      <td>-1</td>\n",
       "      <td>[drug, pussy, need]</td>\n",
       "      <td>offensive_language</td>\n",
       "      <td>0.012066</td>\n",
       "      <td>0.986205</td>\n",
       "      <td>0.001729</td>\n",
       "    </tr>\n",
       "  </tbody>\n",
       "</table>\n",
       "</div>"
      ],
      "text/plain": [
       "                                          tweet_text  \\\n",
       "0    dustin speaking \"son of a bitch\" is my religion   \n",
       "1  Anja Nissen saying \"vegan bitches!\" in her las...   \n",
       "2  Spencer Reid saying \"son of a bitch\" is my rel...   \n",
       "3  No more drugs for me, pussy n religion is all ...   \n",
       "4     Honestly tho. Pussy and religion is all I need   \n",
       "5  No more drugs for me, pussy & religion is all ...   \n",
       "6  no more drugs for me pussy & religion is all i...   \n",
       "7  No more drugs for me, pussy & religion is all ...   \n",
       "8  No more drugs for me pussy & religion is all I...   \n",
       "9  RT @ TeamKanyeDaily: No more drugs for me, pus...   \n",
       "\n",
       "                                        tweet_text_p  negative  neutral  \\\n",
       "0            dustin speaking \"son of a bitch\" is my      0.388    0.612   \n",
       "1  Anja Nissen saying \"vegan bitches!\" in her las...     0.000    1.000   \n",
       "2        Spencer Reid saying \"son of a bitch\" is my      0.352    0.648   \n",
       "3      No more drugs for me, pussy n  is all I neeed     0.216    0.784   \n",
       "4             Honestly tho. Pussy and  is all I need     0.000    0.667   \n",
       "5      No more drugs for me, pussy &  is all I need.     0.216    0.784   \n",
       "6        no more drugs for me pussy &  is all i need     0.216    0.784   \n",
       "7       No more drugs for me, pussy &  is all I need     0.216    0.784   \n",
       "8        No more drugs for me pussy &  is all I need     0.216    0.784   \n",
       "9  RT : No more drugs for me, pussy and  is all I...     0.180    0.820   \n",
       "\n",
       "   positive  compound  sentiment                                   lemmatized  \\\n",
       "0     0.000   -0.5859         -1                               [speak, bitch]   \n",
       "1     0.000    0.0000          0  [say, vegan, bitch, last, instagram, story]   \n",
       "2     0.000   -0.5859         -1                                 [say, bitch]   \n",
       "3     0.000   -0.2960         -1                                [drug, neeed]   \n",
       "4     0.333    0.4588          1                      [honestly, pussy, need]   \n",
       "5     0.000   -0.2960         -1                          [drug, pussy, need]   \n",
       "6     0.000   -0.2960         -1                          [drug, pussy, need]   \n",
       "7     0.000   -0.2960         -1                          [drug, pussy, need]   \n",
       "8     0.000   -0.2960         -1                          [drug, pussy, need]   \n",
       "9     0.000   -0.2960         -1                          [drug, pussy, need]   \n",
       "\n",
       "                Class      hate  offensive   neither  \n",
       "0  offensive_language  0.010516   0.989317  0.000167  \n",
       "1  offensive_language  0.009915   0.989315  0.000770  \n",
       "2  offensive_language  0.010632   0.988830  0.000538  \n",
       "3  offensive_language  0.011703   0.987489  0.000808  \n",
       "4  offensive_language  0.012881   0.986379  0.000740  \n",
       "5  offensive_language  0.012452   0.986363  0.001185  \n",
       "6  offensive_language  0.012452   0.986363  0.001185  \n",
       "7  offensive_language  0.012452   0.986363  0.001185  \n",
       "8  offensive_language  0.012452   0.986363  0.001185  \n",
       "9  offensive_language  0.012066   0.986205  0.001729  "
      ]
     },
     "execution_count": 31,
     "metadata": {},
     "output_type": "execute_result"
    }
   ],
   "source": [
    "df_offensive.head(10)"
   ]
  },
  {
   "cell_type": "code",
   "execution_count": 32,
   "metadata": {
    "ExecuteTime": {
     "end_time": "2022-01-23T04:21:59.819388Z",
     "start_time": "2022-01-23T04:21:59.638966Z"
    }
   },
   "outputs": [
    {
     "data": {
      "text/plain": [
       "['“Freedom of religion is a fundamental right in our democratic state, & a right that most Canadians value” @ DonPlett on # TWULaw @ TWULawSchool',\n",
       " 'neither',\n",
       " [{'class_name': 'hate_speech', 'confidence': 0.053492434596591795},\n",
       "  {'class_name': 'offensive_language', 'confidence': 0.32412768795897584},\n",
       "  {'class_name': 'neither', 'confidence': 0.6223798774444324}]]"
      ]
     },
     "execution_count": 32,
     "metadata": {},
     "output_type": "execute_result"
    }
   ],
   "source": [
    "list(sonar.ping(text=df.tweet_text.iloc[189]).values())\n"
   ]
  },
  {
   "cell_type": "code",
   "execution_count": 33,
   "metadata": {
    "ExecuteTime": {
     "end_time": "2022-01-23T04:21:59.984576Z",
     "start_time": "2022-01-23T04:21:59.819388Z"
    }
   },
   "outputs": [
    {
     "data": {
      "text/plain": [
       "{'text': \"At least I'm not a nigger\",\n",
       " 'top_class': 'hate_speech',\n",
       " 'classes': [{'class_name': 'hate_speech', 'confidence': 0.6043278155427668},\n",
       "  {'class_name': 'offensive_language', 'confidence': 0.395427373894216},\n",
       "  {'class_name': 'neither', 'confidence': 0.0002448105630171915}]}"
      ]
     },
     "execution_count": 33,
     "metadata": {},
     "output_type": "execute_result"
    }
   ],
   "source": [
    "sonar.ping(text=\"At least I'm not a nigger\")"
   ]
  },
  {
   "cell_type": "code",
   "execution_count": 34,
   "metadata": {
    "ExecuteTime": {
     "end_time": "2022-01-23T04:22:00.616875Z",
     "start_time": "2022-01-23T04:21:59.984576Z"
    }
   },
   "outputs": [],
   "source": [
    "df.drop(['negative', 'neutral', 'positive', 'compound', 'sentiment'], axis=1, inplace=True)\n",
    "df.to_pickle('hate_speech_results.pkl')"
   ]
  }
 ],
 "metadata": {
  "kernelspec": {
   "display_name": "Python 3",
   "language": "python",
   "name": "python3"
  },
  "language_info": {
   "codemirror_mode": {
    "name": "ipython",
    "version": 3
   },
   "file_extension": ".py",
   "mimetype": "text/x-python",
   "name": "python",
   "nbconvert_exporter": "python",
   "pygments_lexer": "ipython3",
   "version": "3.9.7"
  },
  "varInspector": {
   "cols": {
    "lenName": 16,
    "lenType": 16,
    "lenVar": 40
   },
   "kernels_config": {
    "python": {
     "delete_cmd_postfix": "",
     "delete_cmd_prefix": "del ",
     "library": "var_list.py",
     "varRefreshCmd": "print(var_dic_list())"
    },
    "r": {
     "delete_cmd_postfix": ") ",
     "delete_cmd_prefix": "rm(",
     "library": "var_list.r",
     "varRefreshCmd": "cat(var_dic_list()) "
    }
   },
   "types_to_exclude": [
    "module",
    "function",
    "builtin_function_or_method",
    "instance",
    "_Feature"
   ],
   "window_display": false
  }
 },
 "nbformat": 4,
 "nbformat_minor": 2
}
