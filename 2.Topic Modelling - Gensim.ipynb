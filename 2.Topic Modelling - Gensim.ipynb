{
 "cells": [
  {
   "cell_type": "code",
   "execution_count": 3,
   "metadata": {
    "ExecuteTime": {
     "end_time": "2022-01-18T14:09:26.767967Z",
     "start_time": "2022-01-18T14:09:26.751926Z"
    }
   },
   "outputs": [],
   "source": [
    "import pandas as pd\n",
    "import numpy as np\n",
    "import networkx as nx\n",
    "import itertools\n",
    "import collections\n",
    "import spacy\n",
    "from pprint import pprint\n",
    "import re\n",
    "\n",
    "import matplotlib.pyplot as plt\n",
    "import seaborn as sns\n",
    "import pyLDAvis\n",
    "import pyLDAvis.gensim_models\n",
    "\n",
    "import gensim\n",
    "import gensim.corpora as corpora\n",
    "from gensim.utils import simple_preprocess\n",
    "from gensim.models import CoherenceModel\n",
    "from gensim.models.wrappers import LdaMallet\n",
    "\n",
    "from nltk import bigrams\n",
    "from nltk.stem import PorterStemmer\n",
    "\n",
    "sns.set(font_scale=1.5)\n",
    "sns.set_style(\"whitegrid\")\n",
    "\n",
    "import warnings \n",
    "warnings.filterwarnings(\"ignore\", category=DeprecationWarning)\n",
    "\n",
    "%matplotlib inline"
   ]
  },
  {
   "cell_type": "code",
   "execution_count": 4,
   "metadata": {
    "ExecuteTime": {
     "end_time": "2022-01-18T14:28:37.773983Z",
     "start_time": "2022-01-18T14:28:37.353802Z"
    }
   },
   "outputs": [],
   "source": [
    "df = pd.read_pickle('pre-processed.pkl')"
   ]
  },
  {
   "cell_type": "code",
   "execution_count": 5,
   "metadata": {
    "ExecuteTime": {
     "end_time": "2022-01-18T14:28:38.402161Z",
     "start_time": "2022-01-18T14:28:38.389648Z"
    }
   },
   "outputs": [
    {
     "data": {
      "text/plain": [
       "(49458, 5)"
      ]
     },
     "execution_count": 5,
     "metadata": {},
     "output_type": "execute_result"
    }
   ],
   "source": [
    "df.shape"
   ]
  },
  {
   "cell_type": "code",
   "execution_count": 6,
   "metadata": {
    "ExecuteTime": {
     "end_time": "2022-01-18T14:28:39.756478Z",
     "start_time": "2022-01-18T14:28:39.229194Z"
    }
   },
   "outputs": [
    {
     "data": {
      "text/html": [
       "<div>\n",
       "<style scoped>\n",
       "    .dataframe tbody tr th:only-of-type {\n",
       "        vertical-align: middle;\n",
       "    }\n",
       "\n",
       "    .dataframe tbody tr th {\n",
       "        vertical-align: top;\n",
       "    }\n",
       "\n",
       "    .dataframe thead th {\n",
       "        text-align: right;\n",
       "    }\n",
       "</style>\n",
       "<table border=\"1\" class=\"dataframe\">\n",
       "  <thead>\n",
       "    <tr style=\"text-align: right;\">\n",
       "      <th></th>\n",
       "      <th>tweet_text</th>\n",
       "      <th>tidy_tweet</th>\n",
       "      <th>tidy_tweet_tokens</th>\n",
       "      <th>tokens_no_stop</th>\n",
       "      <th>no_stop_joined</th>\n",
       "    </tr>\n",
       "  </thead>\n",
       "  <tbody>\n",
       "    <tr>\n",
       "      <th>0</th>\n",
       "      <td>Islam is a religion full of blessings and good...</td>\n",
       "      <td>islam full blessings good deeds which also res...</td>\n",
       "      <td>[islam, full, blessings, good, deeds, which, a...</td>\n",
       "      <td>[islam, full, blessings, good, deeds, also, re...</td>\n",
       "      <td>islam full blessings good deeds also respected...</td>\n",
       "    </tr>\n",
       "    <tr>\n",
       "      <th>1</th>\n",
       "      <td>@ wagner_claire Religion and pity are antonyms...</td>\n",
       "      <td>pity antonyms disaster other humanity live wit...</td>\n",
       "      <td>[pity, antonyms, disaster, other, humanity, li...</td>\n",
       "      <td>[pity, antonyms, disaster, humanity, live, wit...</td>\n",
       "      <td>pity antonyms disaster humanity live without pity</td>\n",
       "    </tr>\n",
       "    <tr>\n",
       "      <th>2</th>\n",
       "      <td>if the only reason people are on twitter is to...</td>\n",
       "      <td>only reason people twitter argue about hitler ...</td>\n",
       "      <td>[only, reason, people, twitter, argue, about, ...</td>\n",
       "      <td>[reason, people, argue, hitler, count]</td>\n",
       "      <td>reason people argue hitler count</td>\n",
       "    </tr>\n",
       "    <tr>\n",
       "      <th>3</th>\n",
       "      <td>Religion is needed to provide a moral compass ...</td>\n",
       "      <td>needed provide moral compass those lack empathy</td>\n",
       "      <td>[needed, provide, moral, compass, those, lack,...</td>\n",
       "      <td>[needed, provide, moral, compass, lack, empathy]</td>\n",
       "      <td>needed provide moral compass lack empathy</td>\n",
       "    </tr>\n",
       "    <tr>\n",
       "      <th>4</th>\n",
       "      <td>plus my religion has never been 'holier' than ...</td>\n",
       "      <td>plus never been holier than regular life regul...</td>\n",
       "      <td>[plus, never, been, holier, than, regular, lif...</td>\n",
       "      <td>[plus, never, holier, regular, life, regular, ...</td>\n",
       "      <td>plus never holier regular life regular life in...</td>\n",
       "    </tr>\n",
       "  </tbody>\n",
       "</table>\n",
       "</div>"
      ],
      "text/plain": [
       "                                          tweet_text  \\\n",
       "0  Islam is a religion full of blessings and good...   \n",
       "1  @ wagner_claire Religion and pity are antonyms...   \n",
       "2  if the only reason people are on twitter is to...   \n",
       "3  Religion is needed to provide a moral compass ...   \n",
       "4  plus my religion has never been 'holier' than ...   \n",
       "\n",
       "                                          tidy_tweet  \\\n",
       "0  islam full blessings good deeds which also res...   \n",
       "1  pity antonyms disaster other humanity live wit...   \n",
       "2  only reason people twitter argue about hitler ...   \n",
       "3    needed provide moral compass those lack empathy   \n",
       "4  plus never been holier than regular life regul...   \n",
       "\n",
       "                                   tidy_tweet_tokens  \\\n",
       "0  [islam, full, blessings, good, deeds, which, a...   \n",
       "1  [pity, antonyms, disaster, other, humanity, li...   \n",
       "2  [only, reason, people, twitter, argue, about, ...   \n",
       "3  [needed, provide, moral, compass, those, lack,...   \n",
       "4  [plus, never, been, holier, than, regular, lif...   \n",
       "\n",
       "                                      tokens_no_stop  \\\n",
       "0  [islam, full, blessings, good, deeds, also, re...   \n",
       "1  [pity, antonyms, disaster, humanity, live, wit...   \n",
       "2             [reason, people, argue, hitler, count]   \n",
       "3   [needed, provide, moral, compass, lack, empathy]   \n",
       "4  [plus, never, holier, regular, life, regular, ...   \n",
       "\n",
       "                                      no_stop_joined  \n",
       "0  islam full blessings good deeds also respected...  \n",
       "1  pity antonyms disaster humanity live without pity  \n",
       "2                   reason people argue hitler count  \n",
       "3          needed provide moral compass lack empathy  \n",
       "4  plus never holier regular life regular life in...  "
      ]
     },
     "execution_count": 6,
     "metadata": {},
     "output_type": "execute_result"
    }
   ],
   "source": [
    "df.head()"
   ]
  },
  {
   "cell_type": "code",
   "execution_count": 7,
   "metadata": {
    "ExecuteTime": {
     "end_time": "2022-01-18T14:28:41.500650Z",
     "start_time": "2022-01-18T14:28:41.476621Z"
    }
   },
   "outputs": [
    {
     "data": {
      "text/html": [
       "<div>\n",
       "<style scoped>\n",
       "    .dataframe tbody tr th:only-of-type {\n",
       "        vertical-align: middle;\n",
       "    }\n",
       "\n",
       "    .dataframe tbody tr th {\n",
       "        vertical-align: top;\n",
       "    }\n",
       "\n",
       "    .dataframe thead th {\n",
       "        text-align: right;\n",
       "    }\n",
       "</style>\n",
       "<table border=\"1\" class=\"dataframe\">\n",
       "  <thead>\n",
       "    <tr style=\"text-align: right;\">\n",
       "      <th></th>\n",
       "      <th>tweet_text</th>\n",
       "      <th>tidy_tweet</th>\n",
       "      <th>tidy_tweet_tokens</th>\n",
       "      <th>tokens_no_stop</th>\n",
       "      <th>no_stop_joined</th>\n",
       "    </tr>\n",
       "  </thead>\n",
       "  <tbody>\n",
       "    <tr>\n",
       "      <th>0</th>\n",
       "      <td>Islam is a religion full of blessings and good...</td>\n",
       "      <td>islam full blessings good deeds which also res...</td>\n",
       "      <td>[islam, full, blessings, good, deeds, which, a...</td>\n",
       "      <td>[islam, full, blessings, good, deeds, also, re...</td>\n",
       "      <td>islam full blessings good deeds also respected...</td>\n",
       "    </tr>\n",
       "    <tr>\n",
       "      <th>1</th>\n",
       "      <td>@ wagner_claire Religion and pity are antonyms...</td>\n",
       "      <td>pity antonyms disaster other humanity live wit...</td>\n",
       "      <td>[pity, antonyms, disaster, other, humanity, li...</td>\n",
       "      <td>[pity, antonyms, disaster, humanity, live, wit...</td>\n",
       "      <td>pity antonyms disaster humanity live without pity</td>\n",
       "    </tr>\n",
       "    <tr>\n",
       "      <th>2</th>\n",
       "      <td>if the only reason people are on twitter is to...</td>\n",
       "      <td>only reason people twitter argue about hitler ...</td>\n",
       "      <td>[only, reason, people, twitter, argue, about, ...</td>\n",
       "      <td>[reason, people, argue, hitler, count]</td>\n",
       "      <td>reason people argue hitler count</td>\n",
       "    </tr>\n",
       "    <tr>\n",
       "      <th>3</th>\n",
       "      <td>Religion is needed to provide a moral compass ...</td>\n",
       "      <td>needed provide moral compass those lack empathy</td>\n",
       "      <td>[needed, provide, moral, compass, those, lack,...</td>\n",
       "      <td>[needed, provide, moral, compass, lack, empathy]</td>\n",
       "      <td>needed provide moral compass lack empathy</td>\n",
       "    </tr>\n",
       "    <tr>\n",
       "      <th>4</th>\n",
       "      <td>plus my religion has never been 'holier' than ...</td>\n",
       "      <td>plus never been holier than regular life regul...</td>\n",
       "      <td>[plus, never, been, holier, than, regular, lif...</td>\n",
       "      <td>[plus, never, holier, regular, life, regular, ...</td>\n",
       "      <td>plus never holier regular life regular life in...</td>\n",
       "    </tr>\n",
       "  </tbody>\n",
       "</table>\n",
       "</div>"
      ],
      "text/plain": [
       "                                          tweet_text  \\\n",
       "0  Islam is a religion full of blessings and good...   \n",
       "1  @ wagner_claire Religion and pity are antonyms...   \n",
       "2  if the only reason people are on twitter is to...   \n",
       "3  Religion is needed to provide a moral compass ...   \n",
       "4  plus my religion has never been 'holier' than ...   \n",
       "\n",
       "                                          tidy_tweet  \\\n",
       "0  islam full blessings good deeds which also res...   \n",
       "1  pity antonyms disaster other humanity live wit...   \n",
       "2  only reason people twitter argue about hitler ...   \n",
       "3    needed provide moral compass those lack empathy   \n",
       "4  plus never been holier than regular life regul...   \n",
       "\n",
       "                                   tidy_tweet_tokens  \\\n",
       "0  [islam, full, blessings, good, deeds, which, a...   \n",
       "1  [pity, antonyms, disaster, other, humanity, li...   \n",
       "2  [only, reason, people, twitter, argue, about, ...   \n",
       "3  [needed, provide, moral, compass, those, lack,...   \n",
       "4  [plus, never, been, holier, than, regular, lif...   \n",
       "\n",
       "                                      tokens_no_stop  \\\n",
       "0  [islam, full, blessings, good, deeds, also, re...   \n",
       "1  [pity, antonyms, disaster, humanity, live, wit...   \n",
       "2             [reason, people, argue, hitler, count]   \n",
       "3   [needed, provide, moral, compass, lack, empathy]   \n",
       "4  [plus, never, holier, regular, life, regular, ...   \n",
       "\n",
       "                                      no_stop_joined  \n",
       "0  islam full blessings good deeds also respected...  \n",
       "1  pity antonyms disaster humanity live without pity  \n",
       "2                   reason people argue hitler count  \n",
       "3          needed provide moral compass lack empathy  \n",
       "4  plus never holier regular life regular life in...  "
      ]
     },
     "execution_count": 7,
     "metadata": {},
     "output_type": "execute_result"
    }
   ],
   "source": [
    "df1 = df\n",
    "df.head()"
   ]
  },
  {
   "cell_type": "code",
   "execution_count": 8,
   "metadata": {
    "ExecuteTime": {
     "end_time": "2022-01-18T14:29:02.041627Z",
     "start_time": "2022-01-18T14:28:44.402521Z"
    }
   },
   "outputs": [],
   "source": [
    "def reg(str):\n",
    "    if(re.search('islam', str) == None):\n",
    "        return 0\n",
    "    else:\n",
    "        return 1\n",
    "\n",
    "df1['islam'] = \"\"\n",
    "for i in range(len(df1['tidy_tweet'])):\n",
    "    df1['islam'][i] = reg(df1['tidy_tweet'][i])"
   ]
  },
  {
   "cell_type": "code",
   "execution_count": 9,
   "metadata": {
    "ExecuteTime": {
     "end_time": "2022-01-18T14:29:02.105798Z",
     "start_time": "2022-01-18T14:29:02.072753Z"
    }
   },
   "outputs": [
    {
     "data": {
      "text/html": [
       "<div>\n",
       "<style scoped>\n",
       "    .dataframe tbody tr th:only-of-type {\n",
       "        vertical-align: middle;\n",
       "    }\n",
       "\n",
       "    .dataframe tbody tr th {\n",
       "        vertical-align: top;\n",
       "    }\n",
       "\n",
       "    .dataframe thead th {\n",
       "        text-align: right;\n",
       "    }\n",
       "</style>\n",
       "<table border=\"1\" class=\"dataframe\">\n",
       "  <thead>\n",
       "    <tr style=\"text-align: right;\">\n",
       "      <th></th>\n",
       "      <th>tweet_text</th>\n",
       "      <th>tidy_tweet</th>\n",
       "      <th>tidy_tweet_tokens</th>\n",
       "      <th>tokens_no_stop</th>\n",
       "      <th>no_stop_joined</th>\n",
       "      <th>islam</th>\n",
       "    </tr>\n",
       "  </thead>\n",
       "  <tbody>\n",
       "    <tr>\n",
       "      <th>0</th>\n",
       "      <td>Islam is a religion full of blessings and good...</td>\n",
       "      <td>islam full blessings good deeds which also res...</td>\n",
       "      <td>[islam, full, blessings, good, deeds, which, a...</td>\n",
       "      <td>[islam, full, blessings, good, deeds, also, re...</td>\n",
       "      <td>islam full blessings good deeds also respected...</td>\n",
       "      <td>1</td>\n",
       "    </tr>\n",
       "    <tr>\n",
       "      <th>1</th>\n",
       "      <td>@ wagner_claire Religion and pity are antonyms...</td>\n",
       "      <td>pity antonyms disaster other humanity live wit...</td>\n",
       "      <td>[pity, antonyms, disaster, other, humanity, li...</td>\n",
       "      <td>[pity, antonyms, disaster, humanity, live, wit...</td>\n",
       "      <td>pity antonyms disaster humanity live without pity</td>\n",
       "      <td>0</td>\n",
       "    </tr>\n",
       "    <tr>\n",
       "      <th>2</th>\n",
       "      <td>if the only reason people are on twitter is to...</td>\n",
       "      <td>only reason people twitter argue about hitler ...</td>\n",
       "      <td>[only, reason, people, twitter, argue, about, ...</td>\n",
       "      <td>[reason, people, argue, hitler, count]</td>\n",
       "      <td>reason people argue hitler count</td>\n",
       "      <td>0</td>\n",
       "    </tr>\n",
       "    <tr>\n",
       "      <th>3</th>\n",
       "      <td>Religion is needed to provide a moral compass ...</td>\n",
       "      <td>needed provide moral compass those lack empathy</td>\n",
       "      <td>[needed, provide, moral, compass, those, lack,...</td>\n",
       "      <td>[needed, provide, moral, compass, lack, empathy]</td>\n",
       "      <td>needed provide moral compass lack empathy</td>\n",
       "      <td>0</td>\n",
       "    </tr>\n",
       "    <tr>\n",
       "      <th>4</th>\n",
       "      <td>plus my religion has never been 'holier' than ...</td>\n",
       "      <td>plus never been holier than regular life regul...</td>\n",
       "      <td>[plus, never, been, holier, than, regular, lif...</td>\n",
       "      <td>[plus, never, holier, regular, life, regular, ...</td>\n",
       "      <td>plus never holier regular life regular life in...</td>\n",
       "      <td>0</td>\n",
       "    </tr>\n",
       "  </tbody>\n",
       "</table>\n",
       "</div>"
      ],
      "text/plain": [
       "                                          tweet_text  \\\n",
       "0  Islam is a religion full of blessings and good...   \n",
       "1  @ wagner_claire Religion and pity are antonyms...   \n",
       "2  if the only reason people are on twitter is to...   \n",
       "3  Religion is needed to provide a moral compass ...   \n",
       "4  plus my religion has never been 'holier' than ...   \n",
       "\n",
       "                                          tidy_tweet  \\\n",
       "0  islam full blessings good deeds which also res...   \n",
       "1  pity antonyms disaster other humanity live wit...   \n",
       "2  only reason people twitter argue about hitler ...   \n",
       "3    needed provide moral compass those lack empathy   \n",
       "4  plus never been holier than regular life regul...   \n",
       "\n",
       "                                   tidy_tweet_tokens  \\\n",
       "0  [islam, full, blessings, good, deeds, which, a...   \n",
       "1  [pity, antonyms, disaster, other, humanity, li...   \n",
       "2  [only, reason, people, twitter, argue, about, ...   \n",
       "3  [needed, provide, moral, compass, those, lack,...   \n",
       "4  [plus, never, been, holier, than, regular, lif...   \n",
       "\n",
       "                                      tokens_no_stop  \\\n",
       "0  [islam, full, blessings, good, deeds, also, re...   \n",
       "1  [pity, antonyms, disaster, humanity, live, wit...   \n",
       "2             [reason, people, argue, hitler, count]   \n",
       "3   [needed, provide, moral, compass, lack, empathy]   \n",
       "4  [plus, never, holier, regular, life, regular, ...   \n",
       "\n",
       "                                      no_stop_joined islam  \n",
       "0  islam full blessings good deeds also respected...     1  \n",
       "1  pity antonyms disaster humanity live without pity     0  \n",
       "2                   reason people argue hitler count     0  \n",
       "3          needed provide moral compass lack empathy     0  \n",
       "4  plus never holier regular life regular life in...     0  "
      ]
     },
     "execution_count": 9,
     "metadata": {},
     "output_type": "execute_result"
    }
   ],
   "source": [
    "df1.head()"
   ]
  },
  {
   "cell_type": "code",
   "execution_count": 10,
   "metadata": {
    "ExecuteTime": {
     "end_time": "2022-01-18T14:30:59.682003Z",
     "start_time": "2022-01-18T14:30:59.467950Z"
    }
   },
   "outputs": [],
   "source": [
    "df2 = df1.loc[df1['islam'] != 0]\n",
    "df2\n",
    "df2 = df2.drop(['islam'], axis=1)\n",
    "df2.to_pickle('df_islam.pkl')"
   ]
  },
  {
   "cell_type": "code",
   "execution_count": 11,
   "metadata": {
    "ExecuteTime": {
     "end_time": "2022-01-18T14:31:00.094532Z",
     "start_time": "2022-01-18T14:30:59.870435Z"
    }
   },
   "outputs": [
    {
     "data": {
      "text/plain": [
       "[('islam', 'full'),\n",
       " ('full', 'blessings'),\n",
       " ('blessings', 'good'),\n",
       " ('good', 'deeds'),\n",
       " ('deeds', 'also'),\n",
       " ('also', 'respected'),\n",
       " ('respected', 'lives'),\n",
       " ('lives', 'well'),\n",
       " ('well', 'blood'),\n",
       " ('blood', 'fact'),\n",
       " ('fact', 'islam')]"
      ]
     },
     "execution_count": 11,
     "metadata": {},
     "output_type": "execute_result"
    }
   ],
   "source": [
    "# Create list of lists containing bigrams in tweets\n",
    "terms_bigram = [list(bigrams(tweet)) for tweet in df['tokens_no_stop']]\n",
    "\n",
    "# View bigrams for the first tweet\n",
    "terms_bigram[0]"
   ]
  },
  {
   "cell_type": "code",
   "execution_count": 12,
   "metadata": {
    "ExecuteTime": {
     "end_time": "2022-01-18T14:35:27.500079Z",
     "start_time": "2022-01-18T14:35:27.354852Z"
    }
   },
   "outputs": [],
   "source": [
    "# Flatten list of bigrams in clean tweets\n",
    "bigrams = list(itertools.chain(*terms_bigram))\n",
    "\n",
    "# Create counter of words in clean bigrams\n",
    "bigram_counts = collections.Counter(bigrams)"
   ]
  },
  {
   "cell_type": "code",
   "execution_count": 13,
   "metadata": {
    "ExecuteTime": {
     "end_time": "2022-01-18T14:35:28.768948Z",
     "start_time": "2022-01-18T14:35:28.712842Z"
    }
   },
   "outputs": [],
   "source": [
    "bigram_df = pd.DataFrame(bigram_counts.most_common(25), columns=['bigram', 'count'])"
   ]
  },
  {
   "cell_type": "code",
   "execution_count": 14,
   "metadata": {
    "ExecuteTime": {
     "end_time": "2022-01-18T14:35:29.576803Z",
     "start_time": "2022-01-18T14:35:29.560797Z"
    }
   },
   "outputs": [
    {
     "data": {
      "text/plain": [
       "346534"
      ]
     },
     "execution_count": 14,
     "metadata": {},
     "output_type": "execute_result"
    }
   ],
   "source": [
    "len(bigram_counts)"
   ]
  },
  {
   "cell_type": "code",
   "execution_count": 15,
   "metadata": {
    "ExecuteTime": {
     "end_time": "2022-01-18T14:35:32.872716Z",
     "start_time": "2022-01-18T14:35:32.848695Z"
    }
   },
   "outputs": [
    {
     "data": {
      "text/html": [
       "<div>\n",
       "<style scoped>\n",
       "    .dataframe tbody tr th:only-of-type {\n",
       "        vertical-align: middle;\n",
       "    }\n",
       "\n",
       "    .dataframe tbody tr th {\n",
       "        vertical-align: top;\n",
       "    }\n",
       "\n",
       "    .dataframe thead th {\n",
       "        text-align: right;\n",
       "    }\n",
       "</style>\n",
       "<table border=\"1\" class=\"dataframe\">\n",
       "  <thead>\n",
       "    <tr style=\"text-align: right;\">\n",
       "      <th></th>\n",
       "      <th>bigram</th>\n",
       "      <th>count</th>\n",
       "    </tr>\n",
       "  </thead>\n",
       "  <tbody>\n",
       "    <tr>\n",
       "      <th>0</th>\n",
       "      <td>(islam, peace)</td>\n",
       "      <td>631</td>\n",
       "    </tr>\n",
       "    <tr>\n",
       "      <th>1</th>\n",
       "      <td>(climate, change)</td>\n",
       "      <td>268</td>\n",
       "    </tr>\n",
       "    <tr>\n",
       "      <th>2</th>\n",
       "      <td>(church, state)</td>\n",
       "      <td>261</td>\n",
       "    </tr>\n",
       "    <tr>\n",
       "      <th>3</th>\n",
       "      <td>(mark, zuckerberg)</td>\n",
       "      <td>257</td>\n",
       "    </tr>\n",
       "    <tr>\n",
       "      <th>4</th>\n",
       "      <td>(zuckerberg, says)</td>\n",
       "      <td>256</td>\n",
       "    </tr>\n",
       "    <tr>\n",
       "      <th>5</th>\n",
       "      <td>(atheist, believes)</td>\n",
       "      <td>253</td>\n",
       "    </tr>\n",
       "    <tr>\n",
       "      <th>6</th>\n",
       "      <td>(separation, church)</td>\n",
       "      <td>208</td>\n",
       "    </tr>\n",
       "    <tr>\n",
       "      <th>7</th>\n",
       "      <td>(longer, atheist)</td>\n",
       "      <td>207</td>\n",
       "    </tr>\n",
       "    <tr>\n",
       "      <th>8</th>\n",
       "      <td>(says, longer)</td>\n",
       "      <td>205</td>\n",
       "    </tr>\n",
       "    <tr>\n",
       "      <th>9</th>\n",
       "      <td>(race, gender)</td>\n",
       "      <td>189</td>\n",
       "    </tr>\n",
       "    <tr>\n",
       "      <th>10</th>\n",
       "      <td>(freedom, speech)</td>\n",
       "      <td>175</td>\n",
       "    </tr>\n",
       "    <tr>\n",
       "      <th>11</th>\n",
       "      <td>(islam, peaceful)</td>\n",
       "      <td>161</td>\n",
       "    </tr>\n",
       "    <tr>\n",
       "      <th>12</th>\n",
       "      <td>(sexual, orientation)</td>\n",
       "      <td>161</td>\n",
       "    </tr>\n",
       "    <tr>\n",
       "      <th>13</th>\n",
       "      <td>(people, like)</td>\n",
       "      <td>156</td>\n",
       "    </tr>\n",
       "    <tr>\n",
       "      <th>14</th>\n",
       "      <td>(jesus, christ)</td>\n",
       "      <td>152</td>\n",
       "    </tr>\n",
       "    <tr>\n",
       "      <th>15</th>\n",
       "      <td>(many, people)</td>\n",
       "      <td>149</td>\n",
       "    </tr>\n",
       "    <tr>\n",
       "      <th>16</th>\n",
       "      <td>(belief, system)</td>\n",
       "      <td>126</td>\n",
       "    </tr>\n",
       "    <tr>\n",
       "      <th>17</th>\n",
       "      <td>(regardless, race)</td>\n",
       "      <td>121</td>\n",
       "    </tr>\n",
       "    <tr>\n",
       "      <th>18</th>\n",
       "      <td>(united, states)</td>\n",
       "      <td>119</td>\n",
       "    </tr>\n",
       "    <tr>\n",
       "      <th>19</th>\n",
       "      <td>(change, science)</td>\n",
       "      <td>118</td>\n",
       "    </tr>\n",
       "    <tr>\n",
       "      <th>20</th>\n",
       "      <td>(free, speech)</td>\n",
       "      <td>109</td>\n",
       "    </tr>\n",
       "    <tr>\n",
       "      <th>21</th>\n",
       "      <td>(human, rights)</td>\n",
       "      <td>109</td>\n",
       "    </tr>\n",
       "    <tr>\n",
       "      <th>22</th>\n",
       "      <td>(middle, east)</td>\n",
       "      <td>107</td>\n",
       "    </tr>\n",
       "    <tr>\n",
       "      <th>23</th>\n",
       "      <td>(people, believe)</td>\n",
       "      <td>107</td>\n",
       "    </tr>\n",
       "    <tr>\n",
       "      <th>24</th>\n",
       "      <td>(catholic, church)</td>\n",
       "      <td>104</td>\n",
       "    </tr>\n",
       "  </tbody>\n",
       "</table>\n",
       "</div>"
      ],
      "text/plain": [
       "                   bigram  count\n",
       "0          (islam, peace)    631\n",
       "1       (climate, change)    268\n",
       "2         (church, state)    261\n",
       "3      (mark, zuckerberg)    257\n",
       "4      (zuckerberg, says)    256\n",
       "5     (atheist, believes)    253\n",
       "6    (separation, church)    208\n",
       "7       (longer, atheist)    207\n",
       "8          (says, longer)    205\n",
       "9          (race, gender)    189\n",
       "10      (freedom, speech)    175\n",
       "11      (islam, peaceful)    161\n",
       "12  (sexual, orientation)    161\n",
       "13         (people, like)    156\n",
       "14        (jesus, christ)    152\n",
       "15         (many, people)    149\n",
       "16       (belief, system)    126\n",
       "17     (regardless, race)    121\n",
       "18       (united, states)    119\n",
       "19      (change, science)    118\n",
       "20         (free, speech)    109\n",
       "21        (human, rights)    109\n",
       "22         (middle, east)    107\n",
       "23      (people, believe)    107\n",
       "24     (catholic, church)    104"
      ]
     },
     "execution_count": 15,
     "metadata": {},
     "output_type": "execute_result"
    }
   ],
   "source": [
    "bigram_df.head(25)"
   ]
  },
  {
   "cell_type": "code",
   "execution_count": 16,
   "metadata": {
    "ExecuteTime": {
     "end_time": "2022-01-18T14:35:37.969200Z",
     "start_time": "2022-01-18T14:35:36.046304Z"
    }
   },
   "outputs": [
    {
     "name": "stdout",
     "output_type": "stream",
     "text": [
      "Number of Bigrams Identified 25\n"
     ]
    },
    {
     "data": {
      "image/png": "[encoded data removed]",
      "text/plain": [
       "<Figure size 864x720 with 1 Axes>"
      ]
     },
     "metadata": {
      "needs_background": "light"
     },
     "output_type": "display_data"
    }
   ],
   "source": [
    "bigram_label = ['islam - peace','climate - change', 'church - state', 'mark - zuckerberg','zuckerberg - says', 'atheist - believes',\n",
    "               'separation - church', 'longer - atheist', 'says - longer', 'race - gender',\n",
    "               'freedom - speech', 'islam - peaceful', 'sexual - orientation', 'people - like', 'jesus - christ',\n",
    "               'many - people', 'belief - system', 'regardless - race', 'united - states', 'change - science', \n",
    "               'free - speech', 'human - rights', 'middle - east','people - believe', 'catholic - church']\n",
    "bigram_freq = bigram_df['count'].head(25)\n",
    "index = np.arange(len(bigram_freq))\n",
    "\n",
    "print(\"Number of Bigrams Identified\", len(bigram_df))\n",
    "plt.figure(figsize=(12,10))\n",
    "plt.bar(index, bigram_freq, alpha=0.8, color= 'black')\n",
    "plt.xlabel('Bigrams', fontsize=13)\n",
    "plt.ylabel('Frequency', fontsize=13)\n",
    "plt.xticks(index, bigram_label, fontsize=13, rotation=90, fontweight=\"bold\") \n",
    "plt.title('Top 25 Bigrams', fontsize=14, fontweight=\"bold\")\n",
    "plt.show()"
   ]
  },
  {
   "cell_type": "code",
   "execution_count": 17,
   "metadata": {
    "ExecuteTime": {
     "end_time": "2022-01-18T14:35:40.450236Z",
     "start_time": "2022-01-18T14:35:40.018677Z"
    }
   },
   "outputs": [
    {
     "data": {
      "image/png": "[encoded data removed]",
      "text/plain": [
       "<Figure size 792x648 with 1 Axes>"
      ]
     },
     "metadata": {},
     "output_type": "display_data"
    }
   ],
   "source": [
    "# Create dictionary of bigrams and their counts\n",
    "d = bigram_df.set_index('bigram').T.to_dict('records')\n",
    "# Create network plot \n",
    "G = nx.Graph()\n",
    "\n",
    "# Create connections between nodes\n",
    "for k, v in d[0].items():\n",
    "    G.add_edge(k[0], k[1], weight=(v * 5))\n",
    "\n",
    "fig, ax = plt.subplots(figsize=(11, 9))\n",
    "\n",
    "pos = nx.spring_layout(G, k=2)\n",
    "\n",
    "# Plot networks\n",
    "nx.draw_networkx(G, pos,\n",
    "                 font_size=10,\n",
    "                 width=3,\n",
    "                 edge_color='grey',\n",
    "                 node_color='purple',\n",
    "                 with_labels = False,\n",
    "                 ax=ax)\n",
    "\n",
    "# Create offset labels\n",
    "for key, value in pos.items():\n",
    "    x, y = value[0]+.135, value[1]+.065\n",
    "    ax.text(x, y,\n",
    "            s=key,\n",
    "            bbox=dict(facecolor='red', alpha=0.15),\n",
    "            horizontalalignment='center', fontsize=14)\n",
    "    \n",
    "plt.show()"
   ]
  },
  {
   "cell_type": "code",
   "execution_count": 18,
   "metadata": {
    "ExecuteTime": {
     "end_time": "2022-01-18T14:35:42.551819Z",
     "start_time": "2022-01-18T14:35:42.543789Z"
    }
   },
   "outputs": [],
   "source": [
    "data = df.no_stop_joined.values.tolist()"
   ]
  },
  {
   "cell_type": "code",
   "execution_count": 19,
   "metadata": {
    "ExecuteTime": {
     "end_time": "2022-01-18T14:35:44.179030Z",
     "start_time": "2022-01-18T14:35:43.435086Z"
    }
   },
   "outputs": [
    {
     "name": "stdout",
     "output_type": "stream",
     "text": [
      "['islam full blessings good deeds also respected lives well blood fact islam']\n"
     ]
    }
   ],
   "source": [
    "print(data[:1])"
   ]
  },
  {
   "cell_type": "code",
   "execution_count": 20,
   "metadata": {
    "ExecuteTime": {
     "end_time": "2022-01-18T14:35:45.679624Z",
     "start_time": "2022-01-18T14:35:45.080910Z"
    }
   },
   "outputs": [],
   "source": [
    "def sent_to_words(sentences):\n",
    "    for sentence in sentences:\n",
    "        yield(gensim.utils.simple_preprocess(str(sentence), deacc=True))  # deacc=True removes punctuations"
   ]
  },
  {
   "cell_type": "code",
   "execution_count": 21,
   "metadata": {
    "ExecuteTime": {
     "end_time": "2022-01-18T14:35:48.023123Z",
     "start_time": "2022-01-18T14:35:46.678154Z"
    }
   },
   "outputs": [
    {
     "name": "stdout",
     "output_type": "stream",
     "text": [
      "[['islam', 'full', 'blessings', 'good', 'deeds', 'also', 'respected', 'lives', 'well', 'blood', 'fact', 'islam']]\n"
     ]
    }
   ],
   "source": [
    "data_words = list(sent_to_words(data))\n",
    "\n",
    "print(data_words[:1])"
   ]
  },
  {
   "cell_type": "code",
   "execution_count": 22,
   "metadata": {
    "ExecuteTime": {
     "end_time": "2022-01-18T14:36:01.320212Z",
     "start_time": "2022-01-18T14:35:52.157222Z"
    }
   },
   "outputs": [],
   "source": [
    "# Build the bigram and trigram model\n",
    "bigram = gensim.models.Phrases(data_words, min_count=10, threshold=100)\n",
    "trigram = gensim.models.Phrases(bigram[data_words], threshold=100)\n",
    "\n",
    "# Faster way to get a sentence clubbed as a bigram\n",
    "bigram_mod = gensim.models.phrases.Phraser(bigram)\n",
    "trigram_mod = gensim.models.phrases.Phraser(trigram)"
   ]
  },
  {
   "cell_type": "code",
   "execution_count": 23,
   "metadata": {
    "ExecuteTime": {
     "end_time": "2022-01-18T14:38:03.505328Z",
     "start_time": "2022-01-18T14:38:03.497328Z"
    }
   },
   "outputs": [
    {
     "name": "stdout",
     "output_type": "stream",
     "text": [
      "['impotence', 'human', 'mind', 'deal', 'occurrences', 'cannot', 'understand', 'karl_marx']\n"
     ]
    }
   ],
   "source": [
    "# See trigram example\n",
    "print(trigram_mod[bigram_mod[data_words[5]]])"
   ]
  },
  {
   "cell_type": "code",
   "execution_count": 24,
   "metadata": {
    "ExecuteTime": {
     "end_time": "2022-01-18T14:38:04.843835Z",
     "start_time": "2022-01-18T14:38:04.835816Z"
    }
   },
   "outputs": [],
   "source": [
    "def make_bigrams(texts):\n",
    "    return [bigram_mod[doc] for doc in texts]\n",
    "\n",
    "def make_trigrams(texts):\n",
    "    return [trigram_mod[bigram_mod[doc]] for doc in texts]"
   ]
  },
  {
   "cell_type": "code",
   "execution_count": 25,
   "metadata": {
    "ExecuteTime": {
     "end_time": "2022-01-18T14:38:07.497806Z",
     "start_time": "2022-01-18T14:38:05.827941Z"
    }
   },
   "outputs": [],
   "source": [
    "# Form Bigrams\n",
    "data_words_bigrams = make_bigrams(data_words)"
   ]
  },
  {
   "cell_type": "code",
   "execution_count": 26,
   "metadata": {
    "ExecuteTime": {
     "end_time": "2022-01-18T14:38:08.978868Z",
     "start_time": "2022-01-18T14:38:08.956311Z"
    }
   },
   "outputs": [],
   "source": [
    "def lemmatization(tweets, allowed_postags=['NOUN', 'ADJ', 'VERB', 'ADV']):\n",
    "    \"\"\"https://spacy.io/api/annotation\"\"\"\n",
    "    tweets_out = []\n",
    "    for sent in tweets:\n",
    "        doc = nlp(\" \".join(sent)) \n",
    "        tweets_out.append([token.lemma_ for token in doc if token.pos_ in allowed_postags])\n",
    "    return tweets_out"
   ]
  },
  {
   "cell_type": "code",
   "execution_count": 27,
   "metadata": {
    "ExecuteTime": {
     "end_time": "2022-01-18T14:38:13.563552Z",
     "start_time": "2022-01-18T14:38:10.486485Z"
    }
   },
   "outputs": [],
   "source": [
    "nlp = spacy.load('en_core_web_sm', disable=['parser', 'ner'])"
   ]
  },
  {
   "cell_type": "code",
   "execution_count": 28,
   "metadata": {
    "ExecuteTime": {
     "end_time": "2022-01-18T14:42:08.327842Z",
     "start_time": "2022-01-18T14:38:15.029094Z"
    }
   },
   "outputs": [],
   "source": [
    "df['lemmatized'] = pd.Series(lemmatization(data_words_bigrams, allowed_postags=['NOUN', 'ADJ', 'VERB', 'ADV']))"
   ]
  },
  {
   "cell_type": "code",
   "execution_count": 29,
   "metadata": {
    "ExecuteTime": {
     "end_time": "2022-01-18T14:42:09.496183Z",
     "start_time": "2022-01-18T14:42:09.464213Z"
    }
   },
   "outputs": [
    {
     "data": {
      "text/html": [
       "<div>\n",
       "<style scoped>\n",
       "    .dataframe tbody tr th:only-of-type {\n",
       "        vertical-align: middle;\n",
       "    }\n",
       "\n",
       "    .dataframe tbody tr th {\n",
       "        vertical-align: top;\n",
       "    }\n",
       "\n",
       "    .dataframe thead th {\n",
       "        text-align: right;\n",
       "    }\n",
       "</style>\n",
       "<table border=\"1\" class=\"dataframe\">\n",
       "  <thead>\n",
       "    <tr style=\"text-align: right;\">\n",
       "      <th></th>\n",
       "      <th>tweet_text</th>\n",
       "      <th>tidy_tweet</th>\n",
       "      <th>tidy_tweet_tokens</th>\n",
       "      <th>tokens_no_stop</th>\n",
       "      <th>no_stop_joined</th>\n",
       "      <th>islam</th>\n",
       "      <th>lemmatized</th>\n",
       "    </tr>\n",
       "  </thead>\n",
       "  <tbody>\n",
       "    <tr>\n",
       "      <th>0</th>\n",
       "      <td>Islam is a religion full of blessings and good...</td>\n",
       "      <td>islam full blessings good deeds which also res...</td>\n",
       "      <td>[islam, full, blessings, good, deeds, which, a...</td>\n",
       "      <td>[islam, full, blessings, good, deeds, also, re...</td>\n",
       "      <td>islam full blessings good deeds also respected...</td>\n",
       "      <td>1</td>\n",
       "      <td>[full, blessing, good, deed, also, respect, li...</td>\n",
       "    </tr>\n",
       "    <tr>\n",
       "      <th>1</th>\n",
       "      <td>@ wagner_claire Religion and pity are antonyms...</td>\n",
       "      <td>pity antonyms disaster other humanity live wit...</td>\n",
       "      <td>[pity, antonyms, disaster, other, humanity, li...</td>\n",
       "      <td>[pity, antonyms, disaster, humanity, live, wit...</td>\n",
       "      <td>pity antonyms disaster humanity live without pity</td>\n",
       "      <td>0</td>\n",
       "      <td>[disaster, humanity, live, pity]</td>\n",
       "    </tr>\n",
       "    <tr>\n",
       "      <th>2</th>\n",
       "      <td>if the only reason people are on twitter is to...</td>\n",
       "      <td>only reason people twitter argue about hitler ...</td>\n",
       "      <td>[only, reason, people, twitter, argue, about, ...</td>\n",
       "      <td>[reason, people, argue, hitler, count]</td>\n",
       "      <td>reason people argue hitler count</td>\n",
       "      <td>0</td>\n",
       "      <td>[reason, people, argue, count]</td>\n",
       "    </tr>\n",
       "    <tr>\n",
       "      <th>3</th>\n",
       "      <td>Religion is needed to provide a moral compass ...</td>\n",
       "      <td>needed provide moral compass those lack empathy</td>\n",
       "      <td>[needed, provide, moral, compass, those, lack,...</td>\n",
       "      <td>[needed, provide, moral, compass, lack, empathy]</td>\n",
       "      <td>needed provide moral compass lack empathy</td>\n",
       "      <td>0</td>\n",
       "      <td>[need, provide, moral_compass, lack, empathy]</td>\n",
       "    </tr>\n",
       "    <tr>\n",
       "      <th>4</th>\n",
       "      <td>plus my religion has never been 'holier' than ...</td>\n",
       "      <td>plus never been holier than regular life regul...</td>\n",
       "      <td>[plus, never, been, holier, than, regular, lif...</td>\n",
       "      <td>[plus, never, holier, regular, life, regular, ...</td>\n",
       "      <td>plus never holier regular life regular life in...</td>\n",
       "      <td>0</td>\n",
       "      <td>[never, holier, regular, life, regular, life, ...</td>\n",
       "    </tr>\n",
       "    <tr>\n",
       "      <th>...</th>\n",
       "      <td>...</td>\n",
       "      <td>...</td>\n",
       "      <td>...</td>\n",
       "      <td>...</td>\n",
       "      <td>...</td>\n",
       "      <td>...</td>\n",
       "      <td>...</td>\n",
       "    </tr>\n",
       "    <tr>\n",
       "      <th>49453</th>\n",
       "      <td>Now all you have is programs of religion being...</td>\n",
       "      <td>have programs being split into separate linked...</td>\n",
       "      <td>[have, programs, being, split, into, separate,...</td>\n",
       "      <td>[programs, split, separate, linked, cults, pro...</td>\n",
       "      <td>programs split separate linked cults prostitut...</td>\n",
       "      <td>0</td>\n",
       "      <td>[program, split, separate, link, cult, prostit...</td>\n",
       "    </tr>\n",
       "    <tr>\n",
       "      <th>49454</th>\n",
       "      <td>Morality is defined by conscience rather than ...</td>\n",
       "      <td>morality defined conscience rather than</td>\n",
       "      <td>[morality, defined, conscience, rather, than]</td>\n",
       "      <td>[morality, defined, conscience, rather]</td>\n",
       "      <td>morality defined conscience rather</td>\n",
       "      <td>0</td>\n",
       "      <td>[morality, define, conscience, rather]</td>\n",
       "    </tr>\n",
       "    <tr>\n",
       "      <th>49455</th>\n",
       "      <td>Persecution of vulnerable minorities can be as...</td>\n",
       "      <td>persecution vulnerable minorities much functio...</td>\n",
       "      <td>[persecution, vulnerable, minorities, much, fu...</td>\n",
       "      <td>[persecution, vulnerable, minorities, much, fu...</td>\n",
       "      <td>persecution vulnerable minorities much functio...</td>\n",
       "      <td>0</td>\n",
       "      <td>[persecution, vulnerable, minority, much, func...</td>\n",
       "    </tr>\n",
       "    <tr>\n",
       "      <th>49456</th>\n",
       "      <td>With his clerical fascism. Though the Catholic...</td>\n",
       "      <td>with clerical fascism though catholic church b...</td>\n",
       "      <td>[with, clerical, fascism, though, catholic, ch...</td>\n",
       "      <td>[clerical, fascism, though, catholic, church, ...</td>\n",
       "      <td>clerical fascism though catholic church becomi...</td>\n",
       "      <td>0</td>\n",
       "      <td>[clerical, fascism, catholic, church, become, ...</td>\n",
       "    </tr>\n",
       "    <tr>\n",
       "      <th>49457</th>\n",
       "      <td>The problems with many SJWs is that they treat...</td>\n",
       "      <td>problems with many sjws that they treat like e...</td>\n",
       "      <td>[problems, with, many, sjws, that, they, treat...</td>\n",
       "      <td>[problems, many, sjws, treat, like, every, fan...</td>\n",
       "      <td>problems many sjws treat like every fanatic pe...</td>\n",
       "      <td>0</td>\n",
       "      <td>[problem, many, sjw, treat, fanatic, people, n...</td>\n",
       "    </tr>\n",
       "  </tbody>\n",
       "</table>\n",
       "<p>49458 rows × 7 columns</p>\n",
       "</div>"
      ],
      "text/plain": [
       "                                              tweet_text  \\\n",
       "0      Islam is a religion full of blessings and good...   \n",
       "1      @ wagner_claire Religion and pity are antonyms...   \n",
       "2      if the only reason people are on twitter is to...   \n",
       "3      Religion is needed to provide a moral compass ...   \n",
       "4      plus my religion has never been 'holier' than ...   \n",
       "...                                                  ...   \n",
       "49453  Now all you have is programs of religion being...   \n",
       "49454  Morality is defined by conscience rather than ...   \n",
       "49455  Persecution of vulnerable minorities can be as...   \n",
       "49456  With his clerical fascism. Though the Catholic...   \n",
       "49457  The problems with many SJWs is that they treat...   \n",
       "\n",
       "                                              tidy_tweet  \\\n",
       "0      islam full blessings good deeds which also res...   \n",
       "1      pity antonyms disaster other humanity live wit...   \n",
       "2      only reason people twitter argue about hitler ...   \n",
       "3        needed provide moral compass those lack empathy   \n",
       "4      plus never been holier than regular life regul...   \n",
       "...                                                  ...   \n",
       "49453  have programs being split into separate linked...   \n",
       "49454            morality defined conscience rather than   \n",
       "49455  persecution vulnerable minorities much functio...   \n",
       "49456  with clerical fascism though catholic church b...   \n",
       "49457  problems with many sjws that they treat like e...   \n",
       "\n",
       "                                       tidy_tweet_tokens  \\\n",
       "0      [islam, full, blessings, good, deeds, which, a...   \n",
       "1      [pity, antonyms, disaster, other, humanity, li...   \n",
       "2      [only, reason, people, twitter, argue, about, ...   \n",
       "3      [needed, provide, moral, compass, those, lack,...   \n",
       "4      [plus, never, been, holier, than, regular, lif...   \n",
       "...                                                  ...   \n",
       "49453  [have, programs, being, split, into, separate,...   \n",
       "49454      [morality, defined, conscience, rather, than]   \n",
       "49455  [persecution, vulnerable, minorities, much, fu...   \n",
       "49456  [with, clerical, fascism, though, catholic, ch...   \n",
       "49457  [problems, with, many, sjws, that, they, treat...   \n",
       "\n",
       "                                          tokens_no_stop  \\\n",
       "0      [islam, full, blessings, good, deeds, also, re...   \n",
       "1      [pity, antonyms, disaster, humanity, live, wit...   \n",
       "2                 [reason, people, argue, hitler, count]   \n",
       "3       [needed, provide, moral, compass, lack, empathy]   \n",
       "4      [plus, never, holier, regular, life, regular, ...   \n",
       "...                                                  ...   \n",
       "49453  [programs, split, separate, linked, cults, pro...   \n",
       "49454            [morality, defined, conscience, rather]   \n",
       "49455  [persecution, vulnerable, minorities, much, fu...   \n",
       "49456  [clerical, fascism, though, catholic, church, ...   \n",
       "49457  [problems, many, sjws, treat, like, every, fan...   \n",
       "\n",
       "                                          no_stop_joined islam  \\\n",
       "0      islam full blessings good deeds also respected...     1   \n",
       "1      pity antonyms disaster humanity live without pity     0   \n",
       "2                       reason people argue hitler count     0   \n",
       "3              needed provide moral compass lack empathy     0   \n",
       "4      plus never holier regular life regular life in...     0   \n",
       "...                                                  ...   ...   \n",
       "49453  programs split separate linked cults prostitut...     0   \n",
       "49454                 morality defined conscience rather     0   \n",
       "49455  persecution vulnerable minorities much functio...     0   \n",
       "49456  clerical fascism though catholic church becomi...     0   \n",
       "49457  problems many sjws treat like every fanatic pe...     0   \n",
       "\n",
       "                                              lemmatized  \n",
       "0      [full, blessing, good, deed, also, respect, li...  \n",
       "1                       [disaster, humanity, live, pity]  \n",
       "2                         [reason, people, argue, count]  \n",
       "3          [need, provide, moral_compass, lack, empathy]  \n",
       "4      [never, holier, regular, life, regular, life, ...  \n",
       "...                                                  ...  \n",
       "49453  [program, split, separate, link, cult, prostit...  \n",
       "49454             [morality, define, conscience, rather]  \n",
       "49455  [persecution, vulnerable, minority, much, func...  \n",
       "49456  [clerical, fascism, catholic, church, become, ...  \n",
       "49457  [problem, many, sjw, treat, fanatic, people, n...  \n",
       "\n",
       "[49458 rows x 7 columns]"
      ]
     },
     "execution_count": 29,
     "metadata": {},
     "output_type": "execute_result"
    }
   ],
   "source": [
    "df"
   ]
  },
  {
   "cell_type": "code",
   "execution_count": 30,
   "metadata": {
    "ExecuteTime": {
     "end_time": "2022-01-18T14:43:55.343950Z",
     "start_time": "2022-01-18T14:43:55.335922Z"
    }
   },
   "outputs": [],
   "source": [
    "# Join the tweet back together\n",
    "def rejoin_words(row):\n",
    "    words = row['lemmatized']\n",
    "    joined_words = (\" \".join(words))\n",
    "    return joined_words"
   ]
  },
  {
   "cell_type": "code",
   "execution_count": 31,
   "metadata": {
    "ExecuteTime": {
     "end_time": "2022-01-18T14:43:57.012260Z",
     "start_time": "2022-01-18T14:43:56.590540Z"
    }
   },
   "outputs": [],
   "source": [
    "df['lemmatized_joined'] = df.apply(rejoin_words, axis=1)"
   ]
  },
  {
   "cell_type": "code",
   "execution_count": 36,
   "metadata": {
    "ExecuteTime": {
     "end_time": "2022-01-18T14:44:04.183348Z",
     "start_time": "2022-01-18T14:44:04.135341Z"
    }
   },
   "outputs": [],
   "source": [
    "df = df.drop_duplicates(subset=['lemmatized_joined'], keep='first', inplace=False)"
   ]
  },
  {
   "cell_type": "code",
   "execution_count": 37,
   "metadata": {
    "ExecuteTime": {
     "end_time": "2022-01-18T14:44:05.591767Z",
     "start_time": "2022-01-18T14:44:05.583739Z"
    }
   },
   "outputs": [
    {
     "data": {
      "text/plain": [
       "(47347, 8)"
      ]
     },
     "execution_count": 37,
     "metadata": {},
     "output_type": "execute_result"
    }
   ],
   "source": [
    "df.shape"
   ]
  },
  {
   "cell_type": "code",
   "execution_count": 38,
   "metadata": {
    "ExecuteTime": {
     "end_time": "2022-01-18T14:44:06.778692Z",
     "start_time": "2022-01-18T14:44:06.730663Z"
    }
   },
   "outputs": [
    {
     "name": "stdout",
     "output_type": "stream",
     "text": [
      "<class 'pandas.core.frame.DataFrame'>\n",
      "Int64Index: 47347 entries, 0 to 49457\n",
      "Data columns (total 8 columns):\n",
      " #   Column             Non-Null Count  Dtype \n",
      "---  ------             --------------  ----- \n",
      " 0   tweet_text         47347 non-null  object\n",
      " 1   tidy_tweet         47347 non-null  object\n",
      " 2   tidy_tweet_tokens  47347 non-null  object\n",
      " 3   tokens_no_stop     47347 non-null  object\n",
      " 4   no_stop_joined     47347 non-null  object\n",
      " 5   islam              47347 non-null  object\n",
      " 6   lemmatized         47347 non-null  object\n",
      " 7   lemmatized_joined  47347 non-null  object\n",
      "dtypes: object(8)\n",
      "memory usage: 3.3+ MB\n"
     ]
    }
   ],
   "source": [
    "df.info()"
   ]
  },
  {
   "cell_type": "code",
   "execution_count": 39,
   "metadata": {
    "ExecuteTime": {
     "end_time": "2022-01-18T14:44:10.186741Z",
     "start_time": "2022-01-18T14:44:10.178734Z"
    }
   },
   "outputs": [],
   "source": [
    "stemmer = PorterStemmer()"
   ]
  },
  {
   "cell_type": "code",
   "execution_count": 40,
   "metadata": {
    "ExecuteTime": {
     "end_time": "2022-01-18T14:44:19.238733Z",
     "start_time": "2022-01-18T14:44:11.188799Z"
    }
   },
   "outputs": [],
   "source": [
    "df['stemmed'] = df['lemmatized'].apply(lambda x : [stemmer.stem(y) for y in x])"
   ]
  },
  {
   "cell_type": "code",
   "execution_count": 41,
   "metadata": {
    "ExecuteTime": {
     "end_time": "2022-01-18T14:44:20.333041Z",
     "start_time": "2022-01-18T14:44:20.293026Z"
    }
   },
   "outputs": [
    {
     "data": {
      "text/html": [
       "<div>\n",
       "<style scoped>\n",
       "    .dataframe tbody tr th:only-of-type {\n",
       "        vertical-align: middle;\n",
       "    }\n",
       "\n",
       "    .dataframe tbody tr th {\n",
       "        vertical-align: top;\n",
       "    }\n",
       "\n",
       "    .dataframe thead th {\n",
       "        text-align: right;\n",
       "    }\n",
       "</style>\n",
       "<table border=\"1\" class=\"dataframe\">\n",
       "  <thead>\n",
       "    <tr style=\"text-align: right;\">\n",
       "      <th></th>\n",
       "      <th>tweet_text</th>\n",
       "      <th>tidy_tweet</th>\n",
       "      <th>tidy_tweet_tokens</th>\n",
       "      <th>tokens_no_stop</th>\n",
       "      <th>no_stop_joined</th>\n",
       "      <th>islam</th>\n",
       "      <th>lemmatized</th>\n",
       "      <th>lemmatized_joined</th>\n",
       "      <th>stemmed</th>\n",
       "    </tr>\n",
       "  </thead>\n",
       "  <tbody>\n",
       "    <tr>\n",
       "      <th>0</th>\n",
       "      <td>Islam is a religion full of blessings and good...</td>\n",
       "      <td>islam full blessings good deeds which also res...</td>\n",
       "      <td>[islam, full, blessings, good, deeds, which, a...</td>\n",
       "      <td>[islam, full, blessings, good, deeds, also, re...</td>\n",
       "      <td>islam full blessings good deeds also respected...</td>\n",
       "      <td>1</td>\n",
       "      <td>[full, blessing, good, deed, also, respect, li...</td>\n",
       "      <td>full blessing good deed also respect life well...</td>\n",
       "      <td>[full, bless, good, deed, also, respect, life,...</td>\n",
       "    </tr>\n",
       "    <tr>\n",
       "      <th>1</th>\n",
       "      <td>@ wagner_claire Religion and pity are antonyms...</td>\n",
       "      <td>pity antonyms disaster other humanity live wit...</td>\n",
       "      <td>[pity, antonyms, disaster, other, humanity, li...</td>\n",
       "      <td>[pity, antonyms, disaster, humanity, live, wit...</td>\n",
       "      <td>pity antonyms disaster humanity live without pity</td>\n",
       "      <td>0</td>\n",
       "      <td>[disaster, humanity, live, pity]</td>\n",
       "      <td>disaster humanity live pity</td>\n",
       "      <td>[disast, human, live, piti]</td>\n",
       "    </tr>\n",
       "    <tr>\n",
       "      <th>2</th>\n",
       "      <td>if the only reason people are on twitter is to...</td>\n",
       "      <td>only reason people twitter argue about hitler ...</td>\n",
       "      <td>[only, reason, people, twitter, argue, about, ...</td>\n",
       "      <td>[reason, people, argue, hitler, count]</td>\n",
       "      <td>reason people argue hitler count</td>\n",
       "      <td>0</td>\n",
       "      <td>[reason, people, argue, count]</td>\n",
       "      <td>reason people argue count</td>\n",
       "      <td>[reason, peopl, argu, count]</td>\n",
       "    </tr>\n",
       "    <tr>\n",
       "      <th>3</th>\n",
       "      <td>Religion is needed to provide a moral compass ...</td>\n",
       "      <td>needed provide moral compass those lack empathy</td>\n",
       "      <td>[needed, provide, moral, compass, those, lack,...</td>\n",
       "      <td>[needed, provide, moral, compass, lack, empathy]</td>\n",
       "      <td>needed provide moral compass lack empathy</td>\n",
       "      <td>0</td>\n",
       "      <td>[need, provide, moral_compass, lack, empathy]</td>\n",
       "      <td>need provide moral_compass lack empathy</td>\n",
       "      <td>[need, provid, moral_compass, lack, empathi]</td>\n",
       "    </tr>\n",
       "    <tr>\n",
       "      <th>4</th>\n",
       "      <td>plus my religion has never been 'holier' than ...</td>\n",
       "      <td>plus never been holier than regular life regul...</td>\n",
       "      <td>[plus, never, been, holier, than, regular, lif...</td>\n",
       "      <td>[plus, never, holier, regular, life, regular, ...</td>\n",
       "      <td>plus never holier regular life regular life in...</td>\n",
       "      <td>0</td>\n",
       "      <td>[never, holier, regular, life, regular, life, ...</td>\n",
       "      <td>never holier regular life regular life include...</td>\n",
       "      <td>[never, holier, regular, life, regular, life, ...</td>\n",
       "    </tr>\n",
       "    <tr>\n",
       "      <th>...</th>\n",
       "      <td>...</td>\n",
       "      <td>...</td>\n",
       "      <td>...</td>\n",
       "      <td>...</td>\n",
       "      <td>...</td>\n",
       "      <td>...</td>\n",
       "      <td>...</td>\n",
       "      <td>...</td>\n",
       "      <td>...</td>\n",
       "    </tr>\n",
       "    <tr>\n",
       "      <th>49453</th>\n",
       "      <td>Now all you have is programs of religion being...</td>\n",
       "      <td>have programs being split into separate linked...</td>\n",
       "      <td>[have, programs, being, split, into, separate,...</td>\n",
       "      <td>[programs, split, separate, linked, cults, pro...</td>\n",
       "      <td>programs split separate linked cults prostitut...</td>\n",
       "      <td>0</td>\n",
       "      <td>[program, split, separate, link, cult, prostit...</td>\n",
       "      <td>program split separate link cult prostitution ...</td>\n",
       "      <td>[program, split, separ, link, cult, prostitut,...</td>\n",
       "    </tr>\n",
       "    <tr>\n",
       "      <th>49454</th>\n",
       "      <td>Morality is defined by conscience rather than ...</td>\n",
       "      <td>morality defined conscience rather than</td>\n",
       "      <td>[morality, defined, conscience, rather, than]</td>\n",
       "      <td>[morality, defined, conscience, rather]</td>\n",
       "      <td>morality defined conscience rather</td>\n",
       "      <td>0</td>\n",
       "      <td>[morality, define, conscience, rather]</td>\n",
       "      <td>morality define conscience rather</td>\n",
       "      <td>[moral, defin, conscienc, rather]</td>\n",
       "    </tr>\n",
       "    <tr>\n",
       "      <th>49455</th>\n",
       "      <td>Persecution of vulnerable minorities can be as...</td>\n",
       "      <td>persecution vulnerable minorities much functio...</td>\n",
       "      <td>[persecution, vulnerable, minorities, much, fu...</td>\n",
       "      <td>[persecution, vulnerable, minorities, much, fu...</td>\n",
       "      <td>persecution vulnerable minorities much functio...</td>\n",
       "      <td>0</td>\n",
       "      <td>[persecution, vulnerable, minority, much, func...</td>\n",
       "      <td>persecution vulnerable minority much function ...</td>\n",
       "      <td>[persecut, vulner, minor, much, function, auth...</td>\n",
       "    </tr>\n",
       "    <tr>\n",
       "      <th>49456</th>\n",
       "      <td>With his clerical fascism. Though the Catholic...</td>\n",
       "      <td>with clerical fascism though catholic church b...</td>\n",
       "      <td>[with, clerical, fascism, though, catholic, ch...</td>\n",
       "      <td>[clerical, fascism, though, catholic, church, ...</td>\n",
       "      <td>clerical fascism though catholic church becomi...</td>\n",
       "      <td>0</td>\n",
       "      <td>[clerical, fascism, catholic, church, become, ...</td>\n",
       "      <td>clerical fascism catholic church become white ...</td>\n",
       "      <td>[cleric, fascism, cathol, church, becom, white...</td>\n",
       "    </tr>\n",
       "    <tr>\n",
       "      <th>49457</th>\n",
       "      <td>The problems with many SJWs is that they treat...</td>\n",
       "      <td>problems with many sjws that they treat like e...</td>\n",
       "      <td>[problems, with, many, sjws, that, they, treat...</td>\n",
       "      <td>[problems, many, sjws, treat, like, every, fan...</td>\n",
       "      <td>problems many sjws treat like every fanatic pe...</td>\n",
       "      <td>0</td>\n",
       "      <td>[problem, many, sjw, treat, fanatic, people, n...</td>\n",
       "      <td>problem many sjw treat fanatic people normally...</td>\n",
       "      <td>[problem, mani, sjw, treat, fanat, peopl, norm...</td>\n",
       "    </tr>\n",
       "  </tbody>\n",
       "</table>\n",
       "<p>47347 rows × 9 columns</p>\n",
       "</div>"
      ],
      "text/plain": [
       "                                              tweet_text  \\\n",
       "0      Islam is a religion full of blessings and good...   \n",
       "1      @ wagner_claire Religion and pity are antonyms...   \n",
       "2      if the only reason people are on twitter is to...   \n",
       "3      Religion is needed to provide a moral compass ...   \n",
       "4      plus my religion has never been 'holier' than ...   \n",
       "...                                                  ...   \n",
       "49453  Now all you have is programs of religion being...   \n",
       "49454  Morality is defined by conscience rather than ...   \n",
       "49455  Persecution of vulnerable minorities can be as...   \n",
       "49456  With his clerical fascism. Though the Catholic...   \n",
       "49457  The problems with many SJWs is that they treat...   \n",
       "\n",
       "                                              tidy_tweet  \\\n",
       "0      islam full blessings good deeds which also res...   \n",
       "1      pity antonyms disaster other humanity live wit...   \n",
       "2      only reason people twitter argue about hitler ...   \n",
       "3        needed provide moral compass those lack empathy   \n",
       "4      plus never been holier than regular life regul...   \n",
       "...                                                  ...   \n",
       "49453  have programs being split into separate linked...   \n",
       "49454            morality defined conscience rather than   \n",
       "49455  persecution vulnerable minorities much functio...   \n",
       "49456  with clerical fascism though catholic church b...   \n",
       "49457  problems with many sjws that they treat like e...   \n",
       "\n",
       "                                       tidy_tweet_tokens  \\\n",
       "0      [islam, full, blessings, good, deeds, which, a...   \n",
       "1      [pity, antonyms, disaster, other, humanity, li...   \n",
       "2      [only, reason, people, twitter, argue, about, ...   \n",
       "3      [needed, provide, moral, compass, those, lack,...   \n",
       "4      [plus, never, been, holier, than, regular, lif...   \n",
       "...                                                  ...   \n",
       "49453  [have, programs, being, split, into, separate,...   \n",
       "49454      [morality, defined, conscience, rather, than]   \n",
       "49455  [persecution, vulnerable, minorities, much, fu...   \n",
       "49456  [with, clerical, fascism, though, catholic, ch...   \n",
       "49457  [problems, with, many, sjws, that, they, treat...   \n",
       "\n",
       "                                          tokens_no_stop  \\\n",
       "0      [islam, full, blessings, good, deeds, also, re...   \n",
       "1      [pity, antonyms, disaster, humanity, live, wit...   \n",
       "2                 [reason, people, argue, hitler, count]   \n",
       "3       [needed, provide, moral, compass, lack, empathy]   \n",
       "4      [plus, never, holier, regular, life, regular, ...   \n",
       "...                                                  ...   \n",
       "49453  [programs, split, separate, linked, cults, pro...   \n",
       "49454            [morality, defined, conscience, rather]   \n",
       "49455  [persecution, vulnerable, minorities, much, fu...   \n",
       "49456  [clerical, fascism, though, catholic, church, ...   \n",
       "49457  [problems, many, sjws, treat, like, every, fan...   \n",
       "\n",
       "                                          no_stop_joined islam  \\\n",
       "0      islam full blessings good deeds also respected...     1   \n",
       "1      pity antonyms disaster humanity live without pity     0   \n",
       "2                       reason people argue hitler count     0   \n",
       "3              needed provide moral compass lack empathy     0   \n",
       "4      plus never holier regular life regular life in...     0   \n",
       "...                                                  ...   ...   \n",
       "49453  programs split separate linked cults prostitut...     0   \n",
       "49454                 morality defined conscience rather     0   \n",
       "49455  persecution vulnerable minorities much functio...     0   \n",
       "49456  clerical fascism though catholic church becomi...     0   \n",
       "49457  problems many sjws treat like every fanatic pe...     0   \n",
       "\n",
       "                                              lemmatized  \\\n",
       "0      [full, blessing, good, deed, also, respect, li...   \n",
       "1                       [disaster, humanity, live, pity]   \n",
       "2                         [reason, people, argue, count]   \n",
       "3          [need, provide, moral_compass, lack, empathy]   \n",
       "4      [never, holier, regular, life, regular, life, ...   \n",
       "...                                                  ...   \n",
       "49453  [program, split, separate, link, cult, prostit...   \n",
       "49454             [morality, define, conscience, rather]   \n",
       "49455  [persecution, vulnerable, minority, much, func...   \n",
       "49456  [clerical, fascism, catholic, church, become, ...   \n",
       "49457  [problem, many, sjw, treat, fanatic, people, n...   \n",
       "\n",
       "                                       lemmatized_joined  \\\n",
       "0      full blessing good deed also respect life well...   \n",
       "1                            disaster humanity live pity   \n",
       "2                              reason people argue count   \n",
       "3                need provide moral_compass lack empathy   \n",
       "4      never holier regular life regular life include...   \n",
       "...                                                  ...   \n",
       "49453  program split separate link cult prostitution ...   \n",
       "49454                  morality define conscience rather   \n",
       "49455  persecution vulnerable minority much function ...   \n",
       "49456  clerical fascism catholic church become white ...   \n",
       "49457  problem many sjw treat fanatic people normally...   \n",
       "\n",
       "                                                 stemmed  \n",
       "0      [full, bless, good, deed, also, respect, life,...  \n",
       "1                            [disast, human, live, piti]  \n",
       "2                           [reason, peopl, argu, count]  \n",
       "3           [need, provid, moral_compass, lack, empathi]  \n",
       "4      [never, holier, regular, life, regular, life, ...  \n",
       "...                                                  ...  \n",
       "49453  [program, split, separ, link, cult, prostitut,...  \n",
       "49454                  [moral, defin, conscienc, rather]  \n",
       "49455  [persecut, vulner, minor, much, function, auth...  \n",
       "49456  [cleric, fascism, cathol, church, becom, white...  \n",
       "49457  [problem, mani, sjw, treat, fanat, peopl, norm...  \n",
       "\n",
       "[47347 rows x 9 columns]"
      ]
     },
     "execution_count": 41,
     "metadata": {},
     "output_type": "execute_result"
    }
   ],
   "source": [
    "df"
   ]
  },
  {
   "cell_type": "code",
   "execution_count": 42,
   "metadata": {
    "ExecuteTime": {
     "end_time": "2022-01-18T14:44:42.138698Z",
     "start_time": "2022-01-18T14:44:41.495334Z"
    }
   },
   "outputs": [],
   "source": [
    "# Create Dictionary\n",
    "id2word_stemmed = corpora.Dictionary(df['stemmed'])"
   ]
  },
  {
   "cell_type": "code",
   "execution_count": 43,
   "metadata": {
    "ExecuteTime": {
     "end_time": "2022-01-18T14:44:43.958667Z",
     "start_time": "2022-01-18T14:44:43.162547Z"
    }
   },
   "outputs": [],
   "source": [
    "# Create Dictionary\n",
    "id2word_lemma = corpora.Dictionary(df['tokens_no_stop'])"
   ]
  },
  {
   "cell_type": "code",
   "execution_count": 44,
   "metadata": {
    "ExecuteTime": {
     "end_time": "2022-01-18T14:44:45.881618Z",
     "start_time": "2022-01-18T14:44:44.940772Z"
    }
   },
   "outputs": [],
   "source": [
    "# Create Dictionary\n",
    "id2word_tidy = corpora.Dictionary(df['tidy_tweet_tokens'])"
   ]
  },
  {
   "cell_type": "code",
   "execution_count": 45,
   "metadata": {
    "ExecuteTime": {
     "end_time": "2022-01-18T14:44:46.854227Z",
     "start_time": "2022-01-18T14:44:46.846226Z"
    }
   },
   "outputs": [
    {
     "name": "stdout",
     "output_type": "stream",
     "text": [
      "Dictionary(20880 unique tokens: ['also', 'bless', 'blood', 'deed', 'fact']...)\n"
     ]
    }
   ],
   "source": [
    "print(id2word_stemmed)"
   ]
  },
  {
   "cell_type": "code",
   "execution_count": 46,
   "metadata": {
    "ExecuteTime": {
     "end_time": "2022-01-18T14:44:47.845175Z",
     "start_time": "2022-01-18T14:44:47.837152Z"
    }
   },
   "outputs": [
    {
     "name": "stdout",
     "output_type": "stream",
     "text": [
      "Dictionary(37100 unique tokens: ['also', 'blessings', 'blood', 'deeds', 'fact']...)\n"
     ]
    }
   ],
   "source": [
    "print(id2word_lemma)"
   ]
  },
  {
   "cell_type": "code",
   "execution_count": 47,
   "metadata": {
    "ExecuteTime": {
     "end_time": "2022-01-18T14:44:48.826271Z",
     "start_time": "2022-01-18T14:44:48.818366Z"
    }
   },
   "outputs": [
    {
     "name": "stdout",
     "output_type": "stream",
     "text": [
      "Dictionary(37184 unique tokens: ['also', 'blessings', 'blood', 'deeds', 'fact']...)\n"
     ]
    }
   ],
   "source": [
    "print(id2word_tidy)"
   ]
  },
  {
   "cell_type": "code",
   "execution_count": 48,
   "metadata": {
    "ExecuteTime": {
     "end_time": "2022-01-18T14:44:49.825203Z",
     "start_time": "2022-01-18T14:44:49.809214Z"
    }
   },
   "outputs": [],
   "source": [
    "# Create Corpus\n",
    "tweets_stemmed = df['stemmed']"
   ]
  },
  {
   "cell_type": "code",
   "execution_count": 49,
   "metadata": {
    "ExecuteTime": {
     "end_time": "2022-01-18T14:44:50.771210Z",
     "start_time": "2022-01-18T14:44:50.752596Z"
    }
   },
   "outputs": [
    {
     "data": {
      "text/plain": [
       "['disast', 'human', 'live', 'piti']"
      ]
     },
     "execution_count": 49,
     "metadata": {},
     "output_type": "execute_result"
    }
   ],
   "source": [
    "df['stemmed'][1]"
   ]
  },
  {
   "cell_type": "code",
   "execution_count": 50,
   "metadata": {
    "ExecuteTime": {
     "end_time": "2022-01-18T14:44:52.016890Z",
     "start_time": "2022-01-18T14:44:51.666908Z"
    }
   },
   "outputs": [
    {
     "data": {
      "text/plain": [
       "'@ wagner_claire Religion and pity are antonyms. One is disaster, other is humanity. We can live without religion but not pity. Yet we hug ...'"
      ]
     },
     "execution_count": 50,
     "metadata": {},
     "output_type": "execute_result"
    }
   ],
   "source": [
    "df['tweet_text'][1]"
   ]
  },
  {
   "cell_type": "code",
   "execution_count": 51,
   "metadata": {
    "ExecuteTime": {
     "end_time": "2022-01-18T14:44:54.074954Z",
     "start_time": "2022-01-18T14:44:52.934878Z"
    }
   },
   "outputs": [],
   "source": [
    "df.to_pickle('processed.pkl')"
   ]
  },
  {
   "cell_type": "code",
   "execution_count": 52,
   "metadata": {
    "ExecuteTime": {
     "end_time": "2022-01-18T14:44:55.210932Z",
     "start_time": "2022-01-18T14:44:55.194849Z"
    }
   },
   "outputs": [
    {
     "data": {
      "text/plain": [
       "0        [full, bless, good, deed, also, respect, life,...\n",
       "1                              [disast, human, live, piti]\n",
       "2                             [reason, peopl, argu, count]\n",
       "3             [need, provid, moral_compass, lack, empathi]\n",
       "4        [never, holier, regular, life, regular, life, ...\n",
       "                               ...                        \n",
       "49453    [program, split, separ, link, cult, prostitut,...\n",
       "49454                    [moral, defin, conscienc, rather]\n",
       "49455    [persecut, vulner, minor, much, function, auth...\n",
       "49456    [cleric, fascism, cathol, church, becom, white...\n",
       "49457    [problem, mani, sjw, treat, fanat, peopl, norm...\n",
       "Name: stemmed, Length: 47347, dtype: object"
      ]
     },
     "execution_count": 52,
     "metadata": {},
     "output_type": "execute_result"
    }
   ],
   "source": [
    "tweets_stemmed"
   ]
  },
  {
   "cell_type": "code",
   "execution_count": 53,
   "metadata": {
    "ExecuteTime": {
     "end_time": "2022-01-18T14:44:56.752806Z",
     "start_time": "2022-01-18T14:44:56.272702Z"
    }
   },
   "outputs": [],
   "source": [
    "# Term Document Frequency\n",
    "corpus_stemmed = [id2word_stemmed.doc2bow(tweet) for tweet in tweets_stemmed]"
   ]
  },
  {
   "cell_type": "code",
   "execution_count": 54,
   "metadata": {
    "ExecuteTime": {
     "end_time": "2022-01-18T14:44:57.960765Z",
     "start_time": "2022-01-18T14:44:57.952732Z"
    }
   },
   "outputs": [
    {
     "name": "stdout",
     "output_type": "stream",
     "text": [
      "47347\n"
     ]
    }
   ],
   "source": [
    "print(len(corpus_stemmed))"
   ]
  },
  {
   "cell_type": "code",
   "execution_count": 55,
   "metadata": {
    "ExecuteTime": {
     "end_time": "2022-01-18T14:44:59.280985Z",
     "start_time": "2022-01-18T14:44:59.208980Z"
    }
   },
   "outputs": [
    {
     "name": "stdout",
     "output_type": "stream",
     "text": [
      "[(12, 1), (127, 1), (136, 1), (369, 1), (477, 1), (605, 1), (994, 1), (1310, 1)]\n"
     ]
    }
   ],
   "source": [
    "print(corpus_stemmed[480])"
   ]
  },
  {
   "cell_type": "code",
   "execution_count": 56,
   "metadata": {
    "ExecuteTime": {
     "end_time": "2022-01-18T14:45:00.362333Z",
     "start_time": "2022-01-18T14:45:00.349571Z"
    }
   },
   "outputs": [
    {
     "data": {
      "text/plain": [
       "[[('also', 1),\n",
       "  ('bless', 1),\n",
       "  ('blood', 1),\n",
       "  ('deed', 1),\n",
       "  ('fact', 1),\n",
       "  ('full', 1),\n",
       "  ('good', 1),\n",
       "  ('life', 1),\n",
       "  ('respect', 1),\n",
       "  ('well', 1)],\n",
       " [('disast', 1), ('human', 1), ('live', 1), ('piti', 1)],\n",
       " [('argu', 1), ('count', 1), ('peopl', 1), ('reason', 1)]]"
      ]
     },
     "execution_count": 56,
     "metadata": {},
     "output_type": "execute_result"
    }
   ],
   "source": [
    "# Human readable format of corpus (term-frequency)\n",
    "[[(id2word_stemmed[id], freq) for id, freq in cp] for cp in corpus_stemmed[:3]]"
   ]
  },
  {
   "cell_type": "code",
   "execution_count": 57,
   "metadata": {
    "ExecuteTime": {
     "end_time": "2022-01-18T14:48:23.887366Z",
     "start_time": "2022-01-18T14:45:01.410158Z"
    }
   },
   "outputs": [],
   "source": [
    "# Build LDA model\n",
    "lda_model_stemmed = gensim.models.ldamodel.LdaModel(corpus=corpus_stemmed,\n",
    "                                           id2word=id2word_stemmed,\n",
    "                                           num_topics=10, \n",
    "                                           random_state=100,\n",
    "                                           update_every=1,\n",
    "                                           chunksize=100,\n",
    "                                           passes=15,\n",
    "                                           alpha='auto',\n",
    "                                           per_word_topics=True)"
   ]
  },
  {
   "cell_type": "code",
   "execution_count": 58,
   "metadata": {
    "ExecuteTime": {
     "end_time": "2022-01-18T14:48:25.054400Z",
     "start_time": "2022-01-18T14:48:25.038523Z"
    }
   },
   "outputs": [
    {
     "name": "stdout",
     "output_type": "stream",
     "text": [
      "[(0,\n",
      "  '0.052*\"love\" + 0.044*\"realli\" + 0.039*\"live\" + 0.036*\"understand\" + '\n",
      "  '0.030*\"care\" + 0.028*\"peac\" + 0.028*\"organ\" + 0.028*\"real\" + '\n",
      "  '0.020*\"societi\" + 0.017*\"fuck\"'),\n",
      " (1,\n",
      "  '0.156*\"peopl\" + 0.062*\"know\" + 0.039*\"hate\" + 0.031*\"race\" + 0.028*\"call\" + '\n",
      "  '0.026*\"tell\" + 0.021*\"keep\" + 0.018*\"stop\" + 0.016*\"forc\" + 0.015*\"money\"'),\n",
      " (2,\n",
      "  '0.089*\"believ\" + 0.038*\"also\" + 0.035*\"never\" + 0.029*\"problem\" + '\n",
      "  '0.025*\"fact\" + 0.024*\"year\" + 0.023*\"becom\" + 0.020*\"power\" + '\n",
      "  '0.020*\"respect\" + 0.019*\"group\"'),\n",
      " (3,\n",
      "  '0.043*\"christian\" + 0.042*\"think\" + 0.041*\"make\" + 0.032*\"right\" + '\n",
      "  '0.024*\"go\" + 0.021*\"come\" + 0.020*\"take\" + 0.017*\"follow\" + 0.017*\"time\" + '\n",
      "  '0.016*\"much\"'),\n",
      " (4,\n",
      "  '0.037*\"use\" + 0.035*\"true\" + 0.032*\"other\" + 0.025*\"scienc\" + 0.023*\"long\" '\n",
      "  '+ 0.022*\"kill\" + 0.021*\"word\" + 0.019*\"chang\" + 0.019*\"exist\" + '\n",
      "  '0.018*\"evil\"'),\n",
      " (5,\n",
      "  '0.053*\"human\" + 0.037*\"talk\" + 0.037*\"woman\" + 0.031*\"child\" + 0.031*\"find\" '\n",
      "  '+ 0.026*\"truth\" + 0.026*\"tri\" + 0.025*\"control\" + 0.022*\"mind\" + '\n",
      "  '0.019*\"speak\"'),\n",
      " (6,\n",
      "  '0.052*\"thing\" + 0.050*\"good\" + 0.043*\"world\" + 0.040*\"even\" + '\n",
      "  '0.035*\"countri\" + 0.034*\"differ\" + 0.031*\"need\" + 0.031*\"faith\" + '\n",
      "  '0.022*\"support\" + 0.019*\"muslim\"'),\n",
      " (7,\n",
      "  '0.057*\"life\" + 0.052*\"mani\" + 0.039*\"still\" + 0.034*\"reason\" + 0.029*\"read\" '\n",
      "  '+ 0.024*\"issu\" + 0.024*\"creat\" + 0.024*\"idea\" + 0.021*\"view\" + '\n",
      "  '0.019*\"school\"'),\n",
      " (8,\n",
      "  '0.054*\"polit\" + 0.037*\"belief\" + 0.033*\"freedom\" + 0.033*\"mean\" + '\n",
      "  '0.030*\"give\" + 0.028*\"state\" + 0.024*\"point\" + 0.020*\"feel\" + 0.018*\"great\" '\n",
      "  '+ 0.017*\"start\"'),\n",
      " (9,\n",
      "  '0.083*\"say\" + 0.064*\"want\" + 0.045*\"person\" + 0.041*\"well\" + 0.040*\"cultur\" '\n",
      "  '+ 0.038*\"church\" + 0.036*\"base\" + 0.027*\"matter\" + 0.017*\"allow\" + '\n",
      "  '0.016*\"shit\"')]\n"
     ]
    }
   ],
   "source": [
    "pprint(lda_model_stemmed.print_topics())\n",
    "doc_lda_stemmed = lda_model_stemmed[corpus_stemmed]"
   ]
  },
  {
   "cell_type": "code",
   "execution_count": 59,
   "metadata": {
    "ExecuteTime": {
     "end_time": "2022-01-18T14:49:31.876380Z",
     "start_time": "2022-01-18T14:48:26.132394Z"
    }
   },
   "outputs": [
    {
     "name": "stdout",
     "output_type": "stream",
     "text": [
      "\n",
      "Perplexity:  -8.534262989899496\n",
      "\n",
      "Coherence Score:  0.24746179824223366\n"
     ]
    }
   ],
   "source": [
    "# Compute Perplexity\n",
    "print('\\nPerplexity: ', lda_model_stemmed.log_perplexity(corpus_stemmed))  # a measure of how good the model is. lower the better.\n",
    "\n",
    "# Compute Coherence Score\n",
    "coherence_model_lda_stemmed = CoherenceModel(model=lda_model_stemmed, texts=df['stemmed'], dictionary=id2word_stemmed, coherence='c_v')\n",
    "coherence_lda_stemmed = coherence_model_lda_stemmed.get_coherence()\n",
    "print('\\nCoherence Score: ', coherence_lda_stemmed)"
   ]
  },
  {
   "cell_type": "code",
   "execution_count": 60,
   "metadata": {
    "ExecuteTime": {
     "end_time": "2022-01-18T14:50:34.622913Z",
     "start_time": "2022-01-18T14:49:33.087802Z"
    }
   },
   "outputs": [],
   "source": [
    "num_topics = 8\n",
    "mallet_path = \"C:/mallet/mallet-2.0.8/bin/mallet.bat\" # update this path\n",
    "ldamallet_stemmed = gensim.models.wrappers.LdaMallet(mallet_path, corpus=corpus_stemmed, num_topics=num_topics, id2word=id2word_stemmed)"
   ]
  },
  {
   "cell_type": "code",
   "execution_count": 61,
   "metadata": {
    "ExecuteTime": {
     "end_time": "2022-01-18T14:50:57.295110Z",
     "start_time": "2022-01-18T14:50:35.679724Z"
    }
   },
   "outputs": [
    {
     "name": "stdout",
     "output_type": "stream",
     "text": [
      "\n",
      "Coherence Score (Stemmed):  0.3122162975855654\n"
     ]
    }
   ],
   "source": [
    "# Compute Coherence Score\n",
    "coherence_model_ldamallet_stemmed = CoherenceModel(model=ldamallet_stemmed, texts=df['stemmed'], dictionary=id2word_stemmed, coherence='c_v')\n",
    "coherence_ldamallet_stemmed = coherence_model_ldamallet_stemmed.get_coherence()\n",
    "print('\\nCoherence Score (Stemmed): ', coherence_ldamallet_stemmed)"
   ]
  },
  {
   "cell_type": "code",
   "execution_count": 62,
   "metadata": {
    "ExecuteTime": {
     "end_time": "2022-01-18T14:51:15.509327Z",
     "start_time": "2022-01-18T14:50:58.359053Z"
    }
   },
   "outputs": [
    {
     "name": "stderr",
     "output_type": "stream",
     "text": [
      "C:\\ProgramData\\Anaconda3\\lib\\site-packages\\pyLDAvis\\_prepare.py:246: FutureWarning: In a future version of pandas all arguments of DataFrame.drop except for the argument 'labels' will be keyword-only\n",
      "  default_term_info = default_term_info.sort_values(\n"
     ]
    }
   ],
   "source": [
    "# Visualize the topics\n",
    "pyLDAvis.enable_notebook()\n",
    "visualisation = pyLDAvis.gensim_models.prepare(lda_model_stemmed, corpus_stemmed, id2word_stemmed)"
   ]
  },
  {
   "cell_type": "code",
   "execution_count": 63,
   "metadata": {
    "ExecuteTime": {
     "end_time": "2022-01-18T14:51:16.600288Z",
     "start_time": "2022-01-18T14:51:16.576284Z"
    }
   },
   "outputs": [
    {
     "data": {
      "text/html": [
       "\n",
       "<link rel=\"stylesheet\" type=\"text/css\" href=\"https://cdn.jsdelivr.net/gh/bmabey/pyLDAvis@3.3.1/pyLDAvis/js/ldavis.v1.0.0.css\">\n",
       "\n",
       "\n",
       "<div id=\"ldavis_el926420500747753285937318522\"></div>\n",
       "<script type=\"text/javascript\">\n",
       "\n",
       "var ldavis_el926420500747753285937318522_data = {\"mdsDat\": {\"x\": [0.4513346512183575, -0.035271337840840696, -0.030113229175354844, -0.04645440451942807, -0.04808382573548372, -0.05442467382775919, -0.05952355151290063, -0.05960245384030292, -0.05915868783948765, -0.05870248692679948], \"y\": [-0.016092105856952327, -0.12401187701582374, 0.4378739160606207, -0.05581967640997486, -0.05547776693571873, -0.04894282660431708, -0.04252485849986952, -0.030836739019444167, -0.031359691404028577, -0.03280837431449154], \"topics\": [1, 2, 3, 4, 5, 6, 7, 8, 9, 10], \"cluster\": [1, 1, 1, 1, 1, 1, 1, 1, 1, 1], \"Freq\": [19.394853451378605, 11.724069953458711, 11.344524447918964, 9.607576526624301, 9.388172264251688, 8.69583268155994, 8.567525122954743, 7.31141768532406, 7.212216388530476, 6.753811477998505]}, \"tinfo\": {\"Term\": [\"peopl\", \"believ\", \"say\", \"know\", \"christian\", \"want\", \"think\", \"thing\", \"make\", \"good\", \"polit\", \"world\", \"life\", \"right\", \"even\", \"human\", \"love\", \"mani\", \"hate\", \"person\", \"countri\", \"well\", \"differ\", \"cultur\", \"also\", \"realli\", \"belief\", \"church\", \"need\", \"use\", \"christian\", \"think\", \"make\", \"right\", \"go\", \"come\", \"take\", \"follow\", \"time\", \"much\", \"wrong\", \"work\", \"teach\", \"alway\", \"look\", \"practic\", \"actual\", \"leav\", \"part\", \"govern\", \"accept\", \"nation\", \"help\", \"happen\", \"moral\", \"free\", \"place\", \"cult\", \"question\", \"jewish\", \"thing\", \"good\", \"world\", \"even\", \"countri\", \"differ\", \"need\", \"faith\", \"support\", \"muslim\", \"name\", \"agre\", \"atheist\", \"seem\", \"import\", \"cathol\", \"els\", \"ideolog\", \"hope\", \"tradit\", \"prove\", \"social\", \"cours\", \"bear\", \"promot\", \"grow\", \"system\", \"bad\", \"absolut\", \"violenc\", \"peopl\", \"know\", \"hate\", \"race\", \"call\", \"tell\", \"keep\", \"stop\", \"forc\", \"money\", \"fals\", \"first\", \"histori\", \"do\", \"gender\", \"thank\", \"racist\", \"fear\", \"pray\", \"like\", \"hell\", \"hand\", \"poor\", \"pagan\", \"bodi\", \"activ\", \"individu\", \"way\", \"current\", \"alreadi\", \"polit\", \"belief\", \"freedom\", \"mean\", \"give\", \"state\", \"point\", \"feel\", \"great\", \"start\", \"discrimin\", \"fight\", \"bring\", \"get\", \"kind\", \"ethnic\", \"valu\", \"less\", \"separ\", \"stand\", \"definit\", \"stori\", \"argument\", \"heart\", \"trump\", \"specif\", \"evid\", \"correct\", \"wonder\", \"persecut\", \"believ\", \"also\", \"never\", \"problem\", \"fact\", \"year\", \"becom\", \"power\", \"respect\", \"group\", \"commun\", \"worship\", \"show\", \"ignor\", \"ever\", \"anti\", \"white\", \"class\", \"hard\", \"friend\", \"fake\", \"atheism\", \"answer\", \"big\", \"extrem\", \"preach\", \"turn\", \"racism\", \"suppos\", \"music\", \"say\", \"want\", \"person\", \"well\", \"cultur\", \"church\", \"base\", \"matter\", \"allow\", \"shit\", \"see\", \"spiritu\", \"bibl\", \"choic\", \"treat\", \"stupid\", \"univers\", \"exampl\", \"major\", \"complet\", \"one\", \"line\", \"donat\", \"mayb\", \"hinduism\", \"corrupt\", \"probabl\", \"relationship\", \"oppress\", \"continu\", \"use\", \"true\", \"other\", \"scienc\", \"long\", \"kill\", \"word\", \"chang\", \"exist\", \"evil\", \"book\", \"famili\", \"equal\", \"choos\", \"caus\", \"back\", \"black\", \"today\", \"especi\", \"parti\", \"consid\", \"case\", \"write\", \"opinion\", \"term\", \"explain\", \"exactli\", \"hear\", \"experi\", \"build\", \"love\", \"realli\", \"live\", \"understand\", \"care\", \"peac\", \"organ\", \"real\", \"societi\", \"fuck\", \"natur\", \"hindu\", \"death\", \"regardless\", \"realiti\", \"none\", \"critic\", \"close\", \"respons\", \"soul\", \"leader\", \"statu\", \"share\", \"face\", \"howev\", \"homosexu\", \"logic\", \"tweet\", \"requir\", \"guess\", \"human\", \"talk\", \"woman\", \"child\", \"find\", \"truth\", \"tri\", \"control\", \"mind\", \"speak\", \"attack\", \"sexual\", \"protect\", \"liber\", \"head\", \"rather\", \"entir\", \"push\", \"islam\", \"away\", \"marriag\", \"action\", \"full\", \"protest\", \"high\", \"hatr\", \"marri\", \"sick\", \"certain\", \"destroy\", \"life\", \"mani\", \"still\", \"reason\", \"read\", \"issu\", \"creat\", \"idea\", \"view\", \"school\", \"learn\", \"educ\", \"rule\", \"gener\", \"food\", \"hold\", \"form\", \"includ\", \"self\", \"spread\", \"joke\", \"polici\", \"least\", \"common\", \"happi\", \"particular\", \"easi\", \"doctrin\", \"save\", \"myth\"], \"Freq\": [7411.0, 3499.0, 3023.0, 2943.0, 3479.0, 2319.0, 3400.0, 2548.0, 3293.0, 2463.0, 2160.0, 2086.0, 1605.0, 2593.0, 1955.0, 1592.0, 1581.0, 1483.0, 1836.0, 1629.0, 1728.0, 1495.0, 1679.0, 1448.0, 1494.0, 1345.0, 1469.0, 1395.0, 1539.0, 1335.0, 3478.756877302766, 3399.590369079564, 3292.447974133024, 2592.976436668746, 1929.6021641676366, 1671.334385268176, 1587.9536121304693, 1387.0929489516018, 1359.1814552287515, 1336.35277614059, 1155.9352278863007, 1128.9138993744086, 1085.867707599291, 1054.7383777394261, 1034.0049652621828, 1000.7358529729878, 959.9655607561642, 956.1568508189057, 905.270660077212, 870.314708142629, 843.5684102983103, 787.9228814971443, 774.3560623123698, 774.1253207272912, 717.5827490590118, 711.828267058914, 678.6470527269564, 670.4071671810647, 657.1144717201945, 651.9185914414579, 2547.3801517022434, 2462.5219934969427, 2086.03643287193, 1954.3167512966736, 1728.271870644382, 1678.468298571738, 1538.985694650902, 1524.0393416322822, 1090.396275035323, 927.0397472390612, 775.330070049652, 725.798563012484, 677.8093060848981, 668.5094333012921, 621.3678040148791, 603.4785342439201, 589.6666764328468, 585.7219846959765, 475.84768633448886, 448.9889965761618, 445.77077102385954, 402.5918797697011, 363.4167076287076, 358.8006708601327, 337.9630932916307, 336.2130823510114, 328.9986303246404, 313.98657965345757, 294.74194172549653, 294.4719097536778, 7411.126430541552, 2942.5608876703445, 1836.118451624538, 1456.3049646322809, 1323.9740563623143, 1233.9470908455703, 1017.8478915247528, 876.122296178799, 753.7947279157705, 718.2776543712503, 705.0623969690317, 610.988428796573, 558.8677913497822, 495.0419021778853, 494.64191004255395, 391.8747883037866, 383.1784517761889, 381.55602567465706, 355.5339466945267, 320.88725833529276, 316.23184589150355, 279.8400547977201, 275.8854022271852, 272.0377767299965, 270.3005208791805, 268.61666804554847, 258.73171651544703, 256.10035799696124, 248.03298788243018, 247.51805547832546, 2159.8883029576778, 1468.5978130508613, 1345.0035666400804, 1307.504026976929, 1190.6888942816456, 1144.9011421254838, 946.2542783499999, 823.0826454898929, 725.3919740166126, 685.5307703938126, 581.8315960053113, 554.8012887142023, 523.8044118046263, 501.9620901912673, 476.3265798376457, 475.44069377846364, 452.74689271941196, 418.6725520206927, 417.79362965042145, 402.8315824377052, 396.0101250009275, 391.09158915700107, 387.8466598813088, 375.8496091379073, 371.83242173768, 346.342624702558, 327.6820350160661, 325.4374433963322, 321.6606904594667, 309.15852891531057, 3499.2598349280156, 1493.7165298169705, 1356.4861060186968, 1139.0972026420302, 982.145331774873, 958.5170575175241, 907.9646380279332, 788.148588200322, 767.5197796937729, 750.0550658578484, 691.8266949367089, 691.0518414874001, 678.0208405517892, 669.0957580450187, 608.0462693695565, 583.3435170288176, 529.8679098546124, 462.04507523869466, 448.92784533330007, 441.8599965473801, 384.31051870739395, 380.1357488058625, 365.17434574059, 352.6529261881437, 338.0813278208121, 324.6681317017768, 322.580197987945, 316.95585215525364, 316.08946502652213, 308.43001307116054, 3022.8472982669937, 2318.3713074249877, 1629.2189580107902, 1494.389564447917, 1447.729935655993, 1394.5611614385457, 1326.8412171559996, 994.7839174838558, 626.3340537812385, 596.9391396141203, 570.8633176138171, 507.15235602595976, 502.8012575707026, 497.03862662668945, 429.9346330354918, 429.8701474677064, 415.41958573195853, 405.4848774859255, 401.11039750582756, 376.1997209404874, 356.43643623943757, 337.9083398890694, 318.604315776667, 302.1557858001428, 299.4575239472518, 297.1626442272656, 295.1895823933848, 293.44433793849583, 281.6501715716669, 266.71993277087074, 1335.0610030980063, 1237.3067944789175, 1134.9133627880292, 896.687074588833, 818.2750701908969, 771.5354219070205, 750.00347875532, 685.1995192689163, 667.5872582145812, 639.5363779996854, 613.4144899164171, 579.0105356469094, 569.8138858742911, 549.370268478186, 549.3333432592864, 489.5931467032055, 470.83296539441807, 464.37192013011247, 444.4592112610788, 409.08321562786296, 401.815591373146, 399.7498156774756, 376.2082191564792, 362.0507029496039, 361.77132660986456, 347.21778242235024, 342.91586087545386, 297.5928255781307, 286.36168304845785, 283.54281317311495, 1580.7536795730362, 1345.1558129762914, 1201.8589923737502, 1100.2617644689612, 907.072243240092, 851.8125560413083, 847.7157741456264, 841.8992498810496, 617.3939494950698, 526.4892112214562, 438.71143525282196, 436.160598037992, 429.0459190094334, 371.6115098875987, 360.34110020654504, 358.9573856954824, 354.0561199441326, 347.31245624240887, 341.34937209139093, 339.89180780862233, 326.3821716199719, 312.32578499959374, 306.14380123591485, 303.0821982582092, 297.1605976209274, 279.3967929089314, 270.3699689233876, 265.4157376143212, 261.02347115754236, 247.2744785136056, 1591.4462774841902, 1121.4379211601329, 1110.4471250452839, 923.7805954551337, 922.5168888584947, 795.6961018738012, 778.6354445124143, 746.0114439218916, 678.4637350641138, 581.2998631610832, 562.616375395303, 458.7568033858917, 416.82284550087854, 389.1353498670605, 363.41210238819093, 362.96144107520485, 354.765194778513, 347.1978788754602, 346.253696349126, 319.840559051119, 308.07328206597504, 305.6345396829539, 303.1839651569476, 287.3765874918493, 284.74611380373364, 282.4250745438048, 270.39476424227564, 258.3135560525134, 254.8900196310118, 253.8015748957872, 1604.6490328628392, 1482.4831904048485, 1088.8700054882838, 963.8564989343234, 822.6682076782101, 682.8543222854956, 682.5725035503788, 672.436977487542, 585.280928015118, 540.7760438845643, 498.61445569161475, 460.8763267894788, 436.80069542120555, 407.869480947038, 391.3004974202139, 372.0923977668882, 366.1464119700501, 347.5524813494744, 323.3110432916946, 311.6081702796223, 291.4036513779286, 290.9718433851137, 269.47432180901245, 264.64605732910354, 258.65701443003803, 226.63882153804622, 225.32584310533142, 220.31942854903048, 216.71244877068705, 216.6863013189371], \"Total\": [7411.0, 3499.0, 3023.0, 2943.0, 3479.0, 2319.0, 3400.0, 2548.0, 3293.0, 2463.0, 2160.0, 2086.0, 1605.0, 2593.0, 1955.0, 1592.0, 1581.0, 1483.0, 1836.0, 1629.0, 1728.0, 1495.0, 1679.0, 1448.0, 1494.0, 1345.0, 1469.0, 1395.0, 1539.0, 1335.0, 3479.4486333421237, 3400.2821057816, 3293.1397166539855, 2593.6681722775584, 1930.2939334497728, 1672.0261250284132, 1588.645345103582, 1387.7846863618306, 1359.8731901181122, 1337.0445377451754, 1156.6269634922403, 1129.6056607771498, 1086.5594315823346, 1055.4301334263175, 1034.6966997944257, 1001.4275835842776, 960.6572987809709, 956.8485831295792, 905.9623871773538, 871.0064370164974, 844.260187400653, 788.6146119745322, 775.0478377685976, 774.8170472798173, 718.2744816074097, 712.5200067707015, 679.3387955465646, 671.0989453494768, 657.8061952845491, 652.6103323010005, 2548.0700996964606, 2463.211943030452, 2086.726378497723, 1955.0066936475607, 1728.9618102781194, 1679.1582432240107, 1539.6756202866736, 1524.729283249753, 1091.086235428023, 927.729687729904, 776.0200019638529, 726.488525238904, 678.4992383474346, 669.1993933337795, 622.0577837287751, 604.1684731572136, 590.3566442216214, 586.411951381845, 476.5376246625247, 449.6789697419445, 446.4607107670268, 403.28183040658234, 364.1066710636663, 359.4905808218098, 338.6530446256313, 336.9030596923163, 329.6885379973698, 314.6764973013614, 295.431889798983, 295.161839104803, 7411.818846392923, 2943.253288563426, 1836.8108640424566, 1456.9973398632499, 1324.6664648487676, 1234.6395086375685, 1018.5403082502655, 876.8146945968018, 754.4871085248159, 718.9700985344392, 705.7548296011546, 611.6808507451219, 559.5602016207158, 495.73433898491044, 495.33428573042266, 392.56717351777644, 383.8708089652622, 382.24840680699975, 356.2263849742002, 321.5796722133078, 316.92423536252613, 280.5324777290905, 276.57781707145205, 272.7302847255636, 270.99295687469623, 269.3091199472578, 259.42410103777263, 256.7927810776697, 248.72545475389603, 248.21044203118058, 2160.5804028390407, 1469.289917000694, 1345.695634232922, 1308.1961231450653, 1191.3810028333962, 1145.5932374726156, 946.946383657655, 823.7747557704606, 726.0840761003336, 686.2228875035878, 582.5237394726798, 555.4934217523438, 524.4965042959948, 502.6541846550801, 477.01869398661444, 476.1328026361462, 453.4389763771563, 419.36470322442904, 418.48574909661596, 403.52366207515865, 396.7022518190296, 391.7837122815181, 388.53879051937054, 376.541751182701, 372.52449665812895, 347.03480229318467, 328.3741288981857, 326.12955959427694, 322.3528333762896, 309.8507078321457, 3499.9525760712763, 1494.4092520695126, 1357.1788321755184, 1139.789938940142, 982.8380497196234, 959.2097953153315, 908.6574049213393, 788.8413445377358, 768.2125021192418, 750.7478073446996, 692.5194523673821, 691.7445851673775, 678.7135765078893, 669.7884980147394, 608.7389832703675, 584.0362533788053, 530.560605627948, 462.7378212890921, 449.6206257956669, 442.5527257105932, 385.0032426331169, 380.82845279099274, 365.8670773442028, 353.3456906952116, 338.7740730636036, 325.36088410808514, 323.27292413711245, 317.64861872194035, 316.7822140679969, 309.1228495236304, 3023.540414940229, 2319.06441589851, 1629.912072263912, 1495.0826942132273, 1448.4230588677012, 1395.2542754290082, 1327.5343272774983, 995.4770304343479, 627.0271657170861, 597.6323146774024, 571.5564406992819, 507.8454889992528, 503.4943509408432, 497.7317002482552, 430.62774956033826, 430.56326912330314, 416.1127612584053, 406.1779917217537, 401.80346968022735, 376.89280385904806, 357.1295788417823, 338.6014753776422, 319.2976377843565, 302.8488957248097, 300.15071465283603, 297.85576167394333, 295.8827432955441, 294.1374537014914, 282.3432260282985, 267.41306560811995, 1335.7548212460465, 1238.0006286179253, 1135.6072190884588, 897.3808714791246, 818.9689311584742, 772.2292198509433, 750.6973066971888, 685.8933266920334, 668.2810689127379, 640.2302016931582, 614.1083054550853, 579.7043786162658, 570.5077093604975, 550.0641100315826, 550.0271516732316, 490.28694843604825, 471.5267798904175, 465.06573390581957, 445.15307322135163, 409.7770380654265, 402.50944061302164, 400.44365333436315, 376.9020114379715, 362.74454672439225, 362.46519833208055, 347.91160671124493, 343.60971719567027, 298.28661235757323, 287.0555063326262, 284.2366351176262, 1581.447620923556, 1345.8498000787313, 1202.552951460992, 1100.95573357394, 907.7662308170218, 852.5064980166039, 848.4097776905693, 842.593206947167, 618.0879074303972, 527.1831504685165, 439.4054133094893, 436.85462310839546, 429.7398742719233, 372.3054585271579, 361.0350931349146, 359.6513925337367, 354.7500731721262, 348.0064557615948, 342.04337129824864, 340.5858084560487, 327.0761238774479, 313.01971472588224, 306.83777331645706, 303.77615483008896, 297.8545621066783, 280.09087012836756, 271.06393622698886, 266.1096848962943, 261.7174392856357, 247.96841642609743, 1592.1381209727713, 1122.129791667638, 1111.1389413877528, 924.47245430421, 923.208773992047, 796.3879585823452, 779.3273042815279, 746.7033040352366, 679.1556163827605, 581.9917376419868, 563.3082663691363, 459.4486785871852, 417.5147135280135, 389.82722533986464, 364.10397601286326, 363.6533609339962, 355.45704042062437, 347.88975301997806, 346.9455209885851, 320.5324428597936, 308.76515976731105, 306.3263936353596, 303.8758604776595, 288.0684948656129, 285.43803297380265, 283.116916143298, 271.0866400348185, 259.0054501800928, 255.58187553708098, 254.49345378525706, 1605.3435794076147, 1483.1777394365809, 1089.5645641087062, 964.5510327571398, 823.3627674023132, 683.5488555603155, 683.2670806273053, 673.1315468170021, 585.975505703117, 541.4705522887257, 499.3090037278993, 461.5708734960957, 437.4952434404245, 408.56403658264117, 391.99516056489955, 372.78695045454, 366.84096561233036, 348.2470038863818, 324.0055861453467, 312.3027804296289, 292.098267412085, 291.66639924069557, 270.16892451637455, 265.34061030139196, 259.351565779592, 227.33338785785625, 226.0204347481167, 221.01402998126042, 217.40700205128826, 217.38093981594912], \"Category\": [\"Default\", \"Default\", \"Default\", \"Default\", \"Default\", \"Default\", \"Default\", \"Default\", \"Default\", \"Default\", \"Default\", \"Default\", \"Default\", \"Default\", \"Default\", \"Default\", \"Default\", \"Default\", \"Default\", \"Default\", \"Default\", \"Default\", \"Default\", \"Default\", \"Default\", \"Default\", \"Default\", \"Default\", \"Default\", \"Default\", \"Topic1\", \"Topic1\", \"Topic1\", \"Topic1\", \"Topic1\", \"Topic1\", \"Topic1\", \"Topic1\", \"Topic1\", \"Topic1\", \"Topic1\", \"Topic1\", \"Topic1\", \"Topic1\", \"Topic1\", \"Topic1\", \"Topic1\", \"Topic1\", \"Topic1\", \"Topic1\", \"Topic1\", \"Topic1\", \"Topic1\", \"Topic1\", \"Topic1\", \"Topic1\", \"Topic1\", \"Topic1\", \"Topic1\", \"Topic1\", \"Topic2\", \"Topic2\", \"Topic2\", \"Topic2\", \"Topic2\", \"Topic2\", \"Topic2\", \"Topic2\", \"Topic2\", \"Topic2\", \"Topic2\", \"Topic2\", \"Topic2\", \"Topic2\", \"Topic2\", \"Topic2\", \"Topic2\", \"Topic2\", \"Topic2\", \"Topic2\", \"Topic2\", \"Topic2\", \"Topic2\", \"Topic2\", \"Topic2\", \"Topic2\", \"Topic2\", \"Topic2\", \"Topic2\", \"Topic2\", \"Topic3\", \"Topic3\", \"Topic3\", \"Topic3\", \"Topic3\", \"Topic3\", \"Topic3\", \"Topic3\", \"Topic3\", \"Topic3\", \"Topic3\", \"Topic3\", \"Topic3\", \"Topic3\", \"Topic3\", \"Topic3\", \"Topic3\", \"Topic3\", \"Topic3\", \"Topic3\", \"Topic3\", \"Topic3\", \"Topic3\", \"Topic3\", \"Topic3\", \"Topic3\", \"Topic3\", \"Topic3\", \"Topic3\", \"Topic3\", \"Topic4\", \"Topic4\", \"Topic4\", \"Topic4\", \"Topic4\", \"Topic4\", \"Topic4\", \"Topic4\", \"Topic4\", \"Topic4\", \"Topic4\", \"Topic4\", \"Topic4\", \"Topic4\", \"Topic4\", \"Topic4\", \"Topic4\", \"Topic4\", \"Topic4\", \"Topic4\", \"Topic4\", \"Topic4\", \"Topic4\", \"Topic4\", \"Topic4\", \"Topic4\", \"Topic4\", \"Topic4\", \"Topic4\", \"Topic4\", \"Topic5\", \"Topic5\", \"Topic5\", \"Topic5\", \"Topic5\", \"Topic5\", \"Topic5\", \"Topic5\", \"Topic5\", \"Topic5\", \"Topic5\", \"Topic5\", \"Topic5\", \"Topic5\", \"Topic5\", \"Topic5\", \"Topic5\", \"Topic5\", \"Topic5\", \"Topic5\", \"Topic5\", \"Topic5\", \"Topic5\", \"Topic5\", \"Topic5\", \"Topic5\", \"Topic5\", \"Topic5\", \"Topic5\", \"Topic5\", \"Topic6\", \"Topic6\", \"Topic6\", \"Topic6\", \"Topic6\", \"Topic6\", \"Topic6\", \"Topic6\", \"Topic6\", \"Topic6\", \"Topic6\", \"Topic6\", \"Topic6\", \"Topic6\", \"Topic6\", \"Topic6\", \"Topic6\", \"Topic6\", \"Topic6\", \"Topic6\", \"Topic6\", \"Topic6\", \"Topic6\", \"Topic6\", \"Topic6\", \"Topic6\", \"Topic6\", \"Topic6\", \"Topic6\", \"Topic6\", \"Topic7\", \"Topic7\", \"Topic7\", \"Topic7\", \"Topic7\", \"Topic7\", \"Topic7\", \"Topic7\", \"Topic7\", \"Topic7\", \"Topic7\", \"Topic7\", \"Topic7\", \"Topic7\", \"Topic7\", \"Topic7\", \"Topic7\", \"Topic7\", \"Topic7\", \"Topic7\", \"Topic7\", \"Topic7\", \"Topic7\", \"Topic7\", \"Topic7\", \"Topic7\", \"Topic7\", \"Topic7\", \"Topic7\", \"Topic7\", \"Topic8\", \"Topic8\", \"Topic8\", \"Topic8\", \"Topic8\", \"Topic8\", \"Topic8\", \"Topic8\", \"Topic8\", \"Topic8\", \"Topic8\", \"Topic8\", \"Topic8\", \"Topic8\", \"Topic8\", \"Topic8\", \"Topic8\", \"Topic8\", \"Topic8\", \"Topic8\", \"Topic8\", \"Topic8\", \"Topic8\", \"Topic8\", \"Topic8\", \"Topic8\", \"Topic8\", \"Topic8\", \"Topic8\", \"Topic8\", \"Topic9\", \"Topic9\", \"Topic9\", \"Topic9\", \"Topic9\", \"Topic9\", \"Topic9\", \"Topic9\", \"Topic9\", \"Topic9\", \"Topic9\", \"Topic9\", \"Topic9\", \"Topic9\", \"Topic9\", \"Topic9\", \"Topic9\", \"Topic9\", \"Topic9\", \"Topic9\", \"Topic9\", \"Topic9\", \"Topic9\", \"Topic9\", \"Topic9\", \"Topic9\", \"Topic9\", \"Topic9\", \"Topic9\", \"Topic9\", \"Topic10\", \"Topic10\", \"Topic10\", \"Topic10\", \"Topic10\", \"Topic10\", \"Topic10\", \"Topic10\", \"Topic10\", \"Topic10\", \"Topic10\", \"Topic10\", \"Topic10\", \"Topic10\", \"Topic10\", \"Topic10\", \"Topic10\", \"Topic10\", \"Topic10\", \"Topic10\", \"Topic10\", \"Topic10\", \"Topic10\", \"Topic10\", \"Topic10\", \"Topic10\", \"Topic10\", \"Topic10\", \"Topic10\", \"Topic10\"], \"logprob\": [30.0, 29.0, 28.0, 27.0, 26.0, 25.0, 24.0, 23.0, 22.0, 21.0, 20.0, 19.0, 18.0, 17.0, 16.0, 15.0, 14.0, 13.0, 12.0, 11.0, 10.0, 9.0, 8.0, 7.0, 6.0, 5.0, 4.0, 3.0, 2.0, 1.0, -3.1496, -3.1727, -3.2047, -3.4435, -3.739, -3.8827, -3.9339, -4.0691, -4.0894, -4.1064, -4.2514, -4.2751, -4.3139, -4.343, -4.3629, -4.3956, -4.4372, -4.4412, -4.4958, -4.5352, -4.5664, -4.6347, -4.652, -4.6523, -4.7282, -4.7362, -4.784, -4.7962, -4.8162, -4.8242, -2.9579, -2.9918, -3.1577, -3.2229, -3.3458, -3.3751, -3.4618, -3.4716, -3.8064, -3.9687, -4.1474, -4.2134, -4.2818, -4.2957, -4.3688, -4.398, -4.4212, -4.4279, -4.6356, -4.6937, -4.7009, -4.8028, -4.9052, -4.9179, -4.9778, -4.983, -5.0047, -5.0514, -5.1146, -5.1155, -1.8571, -2.7808, -3.2524, -3.4841, -3.5794, -3.6498, -3.8424, -3.9923, -4.1427, -4.1909, -4.2095, -4.3527, -4.4419, -4.5632, -4.564, -4.7969, -4.8193, -4.8235, -4.8942, -4.9967, -5.0113, -5.1336, -5.1478, -5.1619, -5.1683, -5.1745, -5.212, -5.2222, -5.2542, -5.2563, -2.9238, -3.3096, -3.3975, -3.4257, -3.5193, -3.5585, -3.7491, -3.8886, -4.0149, -4.0714, -4.2354, -4.283, -4.3405, -4.3831, -4.4355, -4.4374, -4.4863, -4.5645, -4.5666, -4.6031, -4.6202, -4.6327, -4.641, -4.6724, -4.6832, -4.7542, -4.8096, -4.8165, -4.8281, -4.8678, -2.4182, -3.2695, -3.3659, -3.5405, -3.6888, -3.7131, -3.7673, -3.9088, -3.9354, -3.9584, -4.0392, -4.0403, -4.0593, -4.0726, -4.1683, -4.2097, -4.3059, -4.4429, -4.4717, -4.4875, -4.6271, -4.638, -4.6781, -4.713, -4.7552, -4.7957, -4.8022, -4.8198, -4.8225, -4.847, -2.488, -2.7533, -3.1061, -3.1924, -3.2242, -3.2616, -3.3114, -3.5994, -4.062, -4.1101, -4.1548, -4.2731, -4.2817, -4.2932, -4.4383, -4.4384, -4.4726, -4.4968, -4.5077, -4.5718, -4.6258, -4.6791, -4.738, -4.791, -4.7999, -4.8076, -4.8143, -4.8202, -4.8612, -4.9157, -3.2903, -3.3664, -3.4527, -3.6883, -3.7799, -3.8387, -3.867, -3.9573, -3.9834, -4.0263, -4.068, -4.1257, -4.1417, -4.1783, -4.1783, -4.2935, -4.3325, -4.3464, -4.3902, -4.4731, -4.4911, -4.4962, -4.5569, -4.5953, -4.596, -4.6371, -4.6496, -4.7913, -4.8298, -4.8397, -2.9629, -3.1242, -3.2369, -3.3252, -3.5183, -3.5811, -3.586, -3.5928, -3.903, -4.0623, -4.2447, -4.2505, -4.2669, -4.4107, -4.4415, -4.4453, -4.4591, -4.4783, -4.4956, -4.4999, -4.5404, -4.5845, -4.6045, -4.6145, -4.6342, -4.6959, -4.7287, -4.7472, -4.7639, -4.818, -2.9424, -3.2925, -3.3023, -3.4864, -3.4877, -3.6356, -3.6573, -3.7001, -3.795, -3.9496, -3.9822, -4.1863, -4.2822, -4.3509, -4.4193, -4.4206, -4.4434, -4.465, -4.4677, -4.547, -4.5845, -4.5925, -4.6005, -4.6541, -4.6632, -4.6714, -4.715, -4.7607, -4.774, -4.7783, -2.8685, -2.9477, -3.2563, -3.3782, -3.5366, -3.7229, -3.7233, -3.7383, -3.8771, -3.9562, -4.0373, -4.116, -4.1697, -4.2382, -4.2797, -4.33, -4.3461, -4.3983, -4.4706, -4.5074, -4.5745, -4.576, -4.6527, -4.6708, -4.6937, -4.8258, -4.8316, -4.8541, -4.8706, -4.8707], \"loglift\": [30.0, 29.0, 28.0, 27.0, 26.0, 25.0, 24.0, 23.0, 22.0, 21.0, 20.0, 19.0, 18.0, 17.0, 16.0, 15.0, 14.0, 13.0, 12.0, 11.0, 10.0, 9.0, 8.0, 7.0, 6.0, 5.0, 4.0, 3.0, 2.0, 1.0, 1.64, 1.64, 1.64, 1.6399, 1.6398, 1.6397, 1.6397, 1.6397, 1.6397, 1.6396, 1.6396, 1.6395, 1.6395, 1.6395, 1.6395, 1.6395, 1.6394, 1.6394, 1.6394, 1.6394, 1.6393, 1.6393, 1.6393, 1.6393, 1.6392, 1.6392, 1.6391, 1.6391, 1.6391, 1.6391, 2.1433, 2.1432, 2.1432, 2.1432, 2.1431, 2.1431, 2.1431, 2.1431, 2.1429, 2.1428, 2.1426, 2.1426, 2.1425, 2.1425, 2.1424, 2.1424, 2.1424, 2.1423, 2.1421, 2.142, 2.142, 2.1418, 2.1416, 2.1416, 2.1415, 2.1415, 2.1414, 2.1413, 2.1412, 2.1412, 2.1763, 2.1762, 2.1761, 2.176, 2.1759, 2.1759, 2.1758, 2.1756, 2.1755, 2.1755, 2.1755, 2.1753, 2.1752, 2.175, 2.175, 2.1747, 2.1746, 2.1746, 2.1745, 2.1743, 2.1742, 2.174, 2.1739, 2.1739, 2.1739, 2.1739, 2.1738, 2.1737, 2.1736, 2.1736, 2.3423, 2.3421, 2.3421, 2.3421, 2.342, 2.342, 2.3419, 2.3418, 2.3417, 2.3416, 2.3414, 2.3414, 2.3413, 2.3412, 2.3412, 2.3412, 2.3411, 2.341, 2.341, 2.3409, 2.3409, 2.3409, 2.3408, 2.3408, 2.3408, 2.3406, 2.3405, 2.3405, 2.3405, 2.3404, 2.3655, 2.3653, 2.3652, 2.3651, 2.365, 2.365, 2.365, 2.3648, 2.3648, 2.3648, 2.3647, 2.3647, 2.3647, 2.3647, 2.3646, 2.3645, 2.3644, 2.3642, 2.3642, 2.3642, 2.3639, 2.3639, 2.3638, 2.3638, 2.3637, 2.3636, 2.3636, 2.3635, 2.3635, 2.3635, 2.4421, 2.442, 2.4419, 2.4419, 2.4418, 2.4418, 2.4418, 2.4416, 2.4412, 2.4412, 2.4411, 2.441, 2.4409, 2.4409, 2.4407, 2.4407, 2.4407, 2.4406, 2.4406, 2.4405, 2.4404, 2.4403, 2.4402, 2.44, 2.44, 2.44, 2.44, 2.44, 2.4399, 2.4397, 2.4567, 2.4566, 2.4566, 2.4564, 2.4563, 2.4563, 2.4563, 2.4562, 2.4562, 2.4561, 2.4561, 2.456, 2.456, 2.4559, 2.4559, 2.4558, 2.4557, 2.4557, 2.4556, 2.4555, 2.4555, 2.4555, 2.4553, 2.4553, 2.4553, 2.4552, 2.4552, 2.4549, 2.4548, 2.4547, 2.6153, 2.6152, 2.6152, 2.6151, 2.615, 2.6149, 2.6149, 2.6149, 2.6146, 2.6144, 2.6142, 2.6141, 2.6141, 2.6139, 2.6138, 2.6138, 2.6138, 2.6137, 2.6137, 2.6137, 2.6136, 2.6135, 2.6135, 2.6134, 2.6134, 2.6133, 2.6132, 2.6131, 2.6131, 2.6129, 2.629, 2.6288, 2.6288, 2.6286, 2.6286, 2.6285, 2.6285, 2.6285, 2.6284, 2.6282, 2.6282, 2.6279, 2.6277, 2.6276, 2.6275, 2.6275, 2.6274, 2.6274, 2.6274, 2.6272, 2.6272, 2.6271, 2.6271, 2.627, 2.627, 2.6269, 2.6268, 2.6267, 2.6267, 2.6267, 2.6946, 2.6946, 2.6944, 2.6943, 2.6942, 2.694, 2.694, 2.694, 2.6939, 2.6938, 2.6937, 2.6936, 2.6935, 2.6934, 2.6933, 2.6932, 2.6932, 2.6931, 2.6929, 2.6928, 2.6927, 2.6927, 2.6925, 2.6924, 2.6924, 2.692, 2.692, 2.6919, 2.6919, 2.6919]}, \"token.table\": {\"Topic\": [2, 1, 9, 3, 1, 2, 6, 3, 5, 1, 5, 5, 4, 5, 2, 9, 9, 7, 2, 6, 2, 5, 4, 5, 6, 5, 7, 3, 7, 4, 7, 3, 8, 7, 2, 7, 9, 7, 9, 6, 7, 1, 6, 5, 8, 1, 10, 5, 6, 7, 6, 9, 4, 6, 2, 2, 10, 8, 1, 6, 3, 8, 4, 9, 2, 4, 3, 10, 6, 10, 10, 2, 9, 7, 7, 4, 2, 5, 4, 7, 7, 6, 7, 7, 7, 5, 8, 5, 2, 5, 3, 7, 3, 4, 4, 9, 3, 1, 10, 3, 10, 1, 4, 5, 8, 9, 3, 10, 4, 4, 1, 2, 1, 4, 5, 2, 8, 3, 1, 10, 5, 3, 9, 9, 7, 4, 3, 1, 9, 8, 6, 3, 10, 8, 2, 8, 9, 10, 2, 5, 2, 10, 3, 9, 10, 1, 10, 3, 7, 4, 3, 8, 10, 10, 1, 4, 9, 10, 3, 6, 8, 8, 7, 1, 8, 6, 1, 10, 9, 9, 6, 6, 4, 9, 3, 1, 1, 5, 2, 10, 2, 1, 8, 2, 5, 8, 6, 7, 6, 8, 7, 3, 1, 7, 10, 8, 3, 4, 6, 1, 4, 10, 4, 3, 5, 1, 3, 5, 6, 5, 2, 9, 9, 2, 9, 1, 3, 5, 3, 9, 10, 8, 8, 8, 10, 8, 6, 8, 5, 8, 1, 10, 10, 6, 10, 7, 6, 2, 10, 4, 9, 8, 6, 5, 9, 2, 8, 8, 9, 4, 6, 10, 4, 4, 4, 8, 10, 3, 4, 6, 2, 5, 2, 1, 9, 1, 3, 7, 3, 2, 1, 1, 7, 2, 6, 9, 7, 4, 9, 5, 8, 8, 6, 7, 4, 10, 2, 6, 3, 6, 5, 9, 4, 7, 1, 2, 5, 7, 1, 5], \"Freq\": [0.9985381070429572, 0.999691816095872, 0.9989344906539522, 0.9988521742326502, 0.9993157822442977, 0.9993275527115265, 0.9983618481411226, 0.9991521628604403, 0.9997261445825861, 0.9995924567503855, 0.9976300755167783, 0.9982257036736841, 0.9986132902749547, 0.9978246037423905, 0.9992642020517951, 0.9994527572422766, 0.9983388799740733, 0.9994147336840934, 0.997850181671771, 0.9995975039842517, 0.998635344434649, 0.9992765095868049, 0.9998026822362698, 0.9997278317204099, 0.9990181599060258, 0.9990216643238765, 0.998882820843092, 0.996335857263053, 0.9981952605994084, 0.999053369675626, 0.9991674714361565, 0.9994968810138606, 0.9991559161477817, 0.9988920954779306, 0.9980659812467415, 0.9981325436933305, 0.9977233302014933, 0.9986975719732663, 0.9994889471265365, 0.9985299303864105, 0.9980654799828306, 0.9998710619441757, 0.9998177569253962, 0.9984055306155077, 0.997107939393273, 0.9993862984477018, 0.9987163280396277, 0.9992499093482409, 0.99763114644295, 0.9987343387219794, 0.9984553275017412, 0.9990581211688285, 0.9965364697524438, 0.9971269259015372, 0.9994437064645374, 0.9969605855876429, 0.9996091124029273, 0.9978856292673343, 0.9983624689666223, 0.9997079176107345, 0.9970833111769206, 0.9982783206394872, 0.9982297760705681, 0.9980610354493697, 0.9993102239001687, 0.9991009130835528, 0.9985186844501954, 0.9954119203140797, 0.9990678359338271, 0.9954852102233415, 0.9987631942809309, 0.999395883445859, 0.9987142175603456, 0.99911007449651, 0.9974097152401815, 0.9976208263117468, 0.9994850689510006, 0.998786042473578, 0.9988606626854526, 0.9996404391849223, 0.9982255531052894, 0.9970998140082374, 0.9995794151206541, 0.9963229887274724, 0.9973797749380591, 0.9977150758421283, 0.9974449777648838, 0.9991473165697415, 0.9995216965675384, 0.9973941969260947, 0.9989304648448794, 0.9987849348008253, 0.9993501429892808, 0.9990595053258994, 0.9991117415021995, 0.9997738604767108, 0.998886918326293, 0.999434576293036, 0.9974612937479498, 0.9993543845622912, 0.9977075471630421, 0.9992701864287878, 0.9994830671845655, 0.9987510511663763, 0.9977557126636825, 0.9971177030110824, 0.9993251310477534, 0.9986194659046378, 0.998698539323752, 0.9996802006809827, 0.9998477260666475, 0.9999139566406164, 0.9988445125389144, 0.9985069551364409, 0.9990039167115992, 0.9973195265927801, 0.9960945976908876, 0.9981019034466138, 0.9989454965108399, 0.9986444431961101, 0.9986196678709554, 0.9995585478840907, 0.9960549296788304, 0.9969679649616783, 0.9990391377095073, 0.9985612453838137, 0.9970837340304098, 0.9986480347179416, 0.9984654008113808, 0.9980436899069204, 0.9961662105180493, 0.9989988537085138, 0.9978890075052776, 0.996105299227113, 0.998871810672021, 0.997130941689682, 0.9992851619104026, 0.9983189811525655, 0.9992975051397328, 0.9988227656684513, 0.998299541045151, 0.9992907221494363, 0.9983652211337494, 0.9972747277846651, 0.9991970499901348, 0.9990647829634437, 0.996240075568351, 0.9994695268848086, 0.9997031712281134, 0.9978644568872116, 0.999913942655085, 0.9967098672177883, 0.9993811372805371, 0.9956733568878544, 0.9991131479478146, 0.9991303435372006, 0.997877969300006, 0.9997859776486343, 0.9981974227123309, 0.9982236480896269, 0.9995401853529026, 0.9960749620853365, 0.9988168889910102, 0.9993266627847908, 0.9997169549483437, 0.9980003416076352, 0.9996539118433931, 0.9992059350641089, 0.9959915396986035, 0.9975218714187583, 0.9995208021684441, 0.9971969660883918, 0.999850081236601, 0.9982984512608238, 0.9986507108759923, 0.9996178597257201, 0.9992187711660399, 0.9963676268986238, 0.9992134694625442, 0.9982475932974084, 0.9986855983592283, 0.9992206434357166, 0.999077359319641, 0.9995611930995258, 0.9991314098425564, 0.9981888224340029, 0.996837061647356, 0.9979474626672804, 0.9987843659891309, 0.9995170049882207, 0.9994652912747893, 0.9973223189118933, 0.9989377183965085, 0.9981037540095099, 0.9985334848479682, 0.9994058719578298, 0.9998895215317734, 0.9972544589680055, 0.9994404162780112, 0.9995012863260783, 0.9990005942532886, 0.9977152005084219, 0.9997313671649164, 0.9979108336396235, 0.998933442645265, 0.9995730259568573, 0.9993644912792842, 0.9988908190083315, 0.997016577291017, 0.9993069433996964, 0.9980716410615672, 0.9987671966727493, 0.9962908305328171, 0.9989680821718102, 0.9974424282053316, 0.9987744182248081, 0.9993154827150588, 0.9979580621991997, 0.9977315051185853, 0.9982033414119474, 0.9995594075701798, 0.9992959746859148, 0.997132984702604, 0.9993685773266218, 0.999428715808261, 0.9991795486201941, 0.9961329178342391, 0.9972587257173463, 0.9997233810714411, 0.9969495935726266, 0.99974238328376, 0.9988680026860866, 0.9981279257454999, 0.9998212641916217, 0.9991309734449331, 0.9995755743283263, 0.9990264466294858, 0.999702041968708, 0.9968963925674553, 0.9988392696820273, 0.9990234413372024, 0.9972696539040745, 0.9989419670558749, 0.9989486338087403, 0.9961180346614572, 0.9993011576884131, 0.9982398823576407, 0.9982799974587775, 0.9982959592416124, 0.9970181598895939, 0.9983351452015082, 0.9990304907653643, 0.9987022766584104, 0.9996751966341452, 0.9994821569705453, 0.9967423306650981, 0.9994818442822908, 0.9990708474643248, 0.9979996302629474, 0.9986917854733637, 0.9990044458515263, 0.9975307513071773, 0.9979115500904211, 0.9995937764803384, 0.9989931720233904, 0.9994851348522005, 0.9994820280469768, 0.9987165710412442, 0.9985552191929498, 0.9995800352209352, 0.9999170345951236, 0.9993578885704509, 0.9977084230720051, 0.9984901011885565, 0.9985422454521818, 0.9995800169200673, 0.9991917381988389, 0.9985920478711222, 0.999512852274869, 0.9991557469966253, 0.9958299717775143, 0.999131905539165, 0.997325817994526, 0.9994349103338124, 0.999031895359628, 0.998335244914467, 0.9960637218268908, 0.999541014949299, 0.9969127594851277, 0.9992758298805692, 0.9989433711775783, 0.998974978424993, 0.9989054435396331, 0.9990711213548152, 0.9994638299026113, 0.9996519052496734, 0.9989236125828186, 0.9976067746772427, 0.9994579380283966, 0.9997812831808474], \"Term\": [\"absolut\", \"accept\", \"action\", \"activ\", \"actual\", \"agre\", \"allow\", \"alreadi\", \"also\", \"alway\", \"answer\", \"anti\", \"argument\", \"atheism\", \"atheist\", \"attack\", \"away\", \"back\", \"bad\", \"base\", \"bear\", \"becom\", \"belief\", \"believ\", \"bibl\", \"big\", \"black\", \"bodi\", \"book\", \"bring\", \"build\", \"call\", \"care\", \"case\", \"cathol\", \"caus\", \"certain\", \"chang\", \"child\", \"choic\", \"choos\", \"christian\", \"church\", \"class\", \"close\", \"come\", \"common\", \"commun\", \"complet\", \"consid\", \"continu\", \"control\", \"correct\", \"corrupt\", \"countri\", \"cours\", \"creat\", \"critic\", \"cult\", \"cultur\", \"current\", \"death\", \"definit\", \"destroy\", \"differ\", \"discrimin\", \"do\", \"doctrin\", \"donat\", \"easi\", \"educ\", \"els\", \"entir\", \"equal\", \"especi\", \"ethnic\", \"even\", \"ever\", \"evid\", \"evil\", \"exactli\", \"exampl\", \"exist\", \"experi\", \"explain\", \"extrem\", \"face\", \"fact\", \"faith\", \"fake\", \"fals\", \"famili\", \"fear\", \"feel\", \"fight\", \"find\", \"first\", \"follow\", \"food\", \"forc\", \"form\", \"free\", \"freedom\", \"friend\", \"fuck\", \"full\", \"gender\", \"gener\", \"get\", \"give\", \"go\", \"good\", \"govern\", \"great\", \"group\", \"grow\", \"guess\", \"hand\", \"happen\", \"happi\", \"hard\", \"hate\", \"hatr\", \"head\", \"hear\", \"heart\", \"hell\", \"help\", \"high\", \"hindu\", \"hinduism\", \"histori\", \"hold\", \"homosexu\", \"hope\", \"howev\", \"human\", \"idea\", \"ideolog\", \"ignor\", \"import\", \"includ\", \"individu\", \"islam\", \"issu\", \"jewish\", \"joke\", \"keep\", \"kill\", \"kind\", \"know\", \"leader\", \"learn\", \"least\", \"leav\", \"less\", \"liber\", \"life\", \"like\", \"line\", \"live\", \"logic\", \"long\", \"look\", \"love\", \"major\", \"make\", \"mani\", \"marri\", \"marriag\", \"matter\", \"mayb\", \"mean\", \"mind\", \"money\", \"moral\", \"much\", \"music\", \"muslim\", \"myth\", \"name\", \"nation\", \"natur\", \"need\", \"never\", \"none\", \"one\", \"opinion\", \"oppress\", \"organ\", \"other\", \"pagan\", \"part\", \"parti\", \"particular\", \"peac\", \"peopl\", \"persecut\", \"person\", \"place\", \"point\", \"polici\", \"polit\", \"poor\", \"power\", \"practic\", \"pray\", \"preach\", \"probabl\", \"problem\", \"promot\", \"protect\", \"protest\", \"prove\", \"push\", \"question\", \"race\", \"racism\", \"racist\", \"rather\", \"read\", \"real\", \"realiti\", \"realli\", \"reason\", \"regardless\", \"relationship\", \"requir\", \"respect\", \"respons\", \"right\", \"rule\", \"save\", \"say\", \"school\", \"scienc\", \"see\", \"seem\", \"self\", \"separ\", \"sexual\", \"share\", \"shit\", \"show\", \"sick\", \"social\", \"societi\", \"soul\", \"speak\", \"specif\", \"spiritu\", \"spread\", \"stand\", \"start\", \"state\", \"statu\", \"still\", \"stop\", \"stori\", \"stupid\", \"support\", \"suppos\", \"system\", \"take\", \"talk\", \"teach\", \"tell\", \"term\", \"thank\", \"thing\", \"think\", \"time\", \"today\", \"tradit\", \"treat\", \"tri\", \"true\", \"trump\", \"truth\", \"turn\", \"tweet\", \"understand\", \"univers\", \"use\", \"valu\", \"view\", \"violenc\", \"want\", \"way\", \"well\", \"white\", \"woman\", \"wonder\", \"word\", \"work\", \"world\", \"worship\", \"write\", \"wrong\", \"year\"]}, \"R\": 30, \"lambda.step\": 0.01, \"plot.opts\": {\"xlab\": \"PC1\", \"ylab\": \"PC2\"}, \"topic.order\": [4, 7, 2, 9, 3, 10, 5, 1, 6, 8]};\n",
       "\n",
       "function LDAvis_load_lib(url, callback){\n",
       "  var s = document.createElement('script');\n",
       "  s.src = url;\n",
       "  s.async = true;\n",
       "  s.onreadystatechange = s.onload = callback;\n",
       "  s.onerror = function(){console.warn(\"failed to load library \" + url);};\n",
       "  document.getElementsByTagName(\"head\")[0].appendChild(s);\n",
       "}\n",
       "\n",
       "if(typeof(LDAvis) !== \"undefined\"){\n",
       "   // already loaded: just create the visualization\n",
       "   !function(LDAvis){\n",
       "       new LDAvis(\"#\" + \"ldavis_el926420500747753285937318522\", ldavis_el926420500747753285937318522_data);\n",
       "   }(LDAvis);\n",
       "}else if(typeof define === \"function\" && define.amd){\n",
       "   // require.js is available: use it to load d3/LDAvis\n",
       "   require.config({paths: {d3: \"https://d3js.org/d3.v5\"}});\n",
       "   require([\"d3\"], function(d3){\n",
       "      window.d3 = d3;\n",
       "      LDAvis_load_lib(\"https://cdn.jsdelivr.net/gh/bmabey/pyLDAvis@3.3.1/pyLDAvis/js/ldavis.v3.0.0.js\", function(){\n",
       "        new LDAvis(\"#\" + \"ldavis_el926420500747753285937318522\", ldavis_el926420500747753285937318522_data);\n",
       "      });\n",
       "    });\n",
       "}else{\n",
       "    // require.js not available: dynamically load d3 & LDAvis\n",
       "    LDAvis_load_lib(\"https://d3js.org/d3.v5.js\", function(){\n",
       "         LDAvis_load_lib(\"https://cdn.jsdelivr.net/gh/bmabey/pyLDAvis@3.3.1/pyLDAvis/js/ldavis.v3.0.0.js\", function(){\n",
       "                 new LDAvis(\"#\" + \"ldavis_el926420500747753285937318522\", ldavis_el926420500747753285937318522_data);\n",
       "            })\n",
       "         });\n",
       "}\n",
       "</script>"
      ],
      "text/plain": [
       "PreparedData(topic_coordinates=              x         y  topics  cluster       Freq\n",
       "topic                                                \n",
       "3      0.451335 -0.016092       1        1  19.394853\n",
       "6     -0.035271 -0.124012       2        1  11.724070\n",
       "1     -0.030113  0.437874       3        1  11.344524\n",
       "8     -0.046454 -0.055820       4        1   9.607577\n",
       "2     -0.048084 -0.055478       5        1   9.388172\n",
       "9     -0.054425 -0.048943       6        1   8.695833\n",
       "4     -0.059524 -0.042525       7        1   8.567525\n",
       "0     -0.059602 -0.030837       8        1   7.311418\n",
       "5     -0.059159 -0.031360       9        1   7.212216\n",
       "7     -0.058702 -0.032808      10        1   6.753811, topic_info=            Term         Freq        Total Category  logprob  loglift\n",
       "16         peopl  7411.000000  7411.000000  Default  30.0000  30.0000\n",
       "200       believ  3499.000000  3499.000000  Default  29.0000  29.0000\n",
       "184          say  3023.000000  3023.000000  Default  28.0000  28.0000\n",
       "303         know  2943.000000  2943.000000  Default  27.0000  27.0000\n",
       "61     christian  3479.000000  3479.000000  Default  26.0000  26.0000\n",
       "...          ...          ...          ...      ...      ...      ...\n",
       "859   particular   226.638822   227.333388  Topic10  -4.8258   2.6920\n",
       "629         easi   225.325843   226.020435  Topic10  -4.8316   2.6920\n",
       "1293     doctrin   220.319429   221.014030  Topic10  -4.8541   2.6919\n",
       "1338        save   216.712449   217.407002  Topic10  -4.8706   2.6919\n",
       "2032        myth   216.686301   217.380940  Topic10  -4.8707   2.6919\n",
       "\n",
       "[330 rows x 6 columns], token_table=      Topic      Freq     Term\n",
       "term                          \n",
       "778       2  0.998538  absolut\n",
       "636       1  0.999692   accept\n",
       "1135      9  0.998934   action\n",
       "114       3  0.998852    activ\n",
       "409       1  0.999316   actual\n",
       "...     ...       ...      ...\n",
       "95        2  0.999652    world\n",
       "898       5  0.998924  worship\n",
       "1341      7  0.997607    write\n",
       "96        1  0.999458    wrong\n",
       "1163      5  0.999781     year\n",
       "\n",
       "[300 rows x 3 columns], R=30, lambda_step=0.01, plot_opts={'xlab': 'PC1', 'ylab': 'PC2'}, topic_order=[4, 7, 2, 9, 3, 10, 5, 1, 6, 8])"
      ]
     },
     "execution_count": 63,
     "metadata": {},
     "output_type": "execute_result"
    }
   ],
   "source": [
    "visualisation"
   ]
  },
  {
   "cell_type": "code",
   "execution_count": 64,
   "metadata": {
    "ExecuteTime": {
     "end_time": "2022-01-18T14:56:29.423855Z",
     "start_time": "2022-01-18T14:56:29.415852Z"
    }
   },
   "outputs": [],
   "source": [
    "def compute_coherence_values(dictionary, corpus, texts, limit, start=2, step=3):\n",
    "    coherence_values = []\n",
    "    model_list = []\n",
    "    for num_topics in range(start, limit, step):\n",
    "        model = gensim.models.wrappers.LdaMallet(mallet_path, corpus=corpus_stemmed, num_topics=num_topics, id2word=id2word_stemmed)\n",
    "        model_list.append(model)\n",
    "        coherencemodel = CoherenceModel(model=model, texts=texts, dictionary=dictionary, coherence='c_v')\n",
    "        coherence_values.append(coherencemodel.get_coherence())\n",
    "\n",
    "    return model_list, coherence_values"
   ]
  },
  {
   "cell_type": "code",
   "execution_count": 65,
   "metadata": {
    "ExecuteTime": {
     "end_time": "2022-01-18T15:04:58.139918Z",
     "start_time": "2022-01-18T14:56:30.570793Z"
    }
   },
   "outputs": [],
   "source": [
    "model_list, coherence_values = compute_coherence_values(dictionary=id2word_stemmed, corpus=corpus_stemmed, texts=df['stemmed'], start=2, limit=26, step=3)"
   ]
  },
  {
   "cell_type": "code",
   "execution_count": 66,
   "metadata": {
    "ExecuteTime": {
     "end_time": "2022-01-18T15:04:59.411780Z",
     "start_time": "2022-01-18T15:04:59.274418Z"
    }
   },
   "outputs": [
    {
     "data": {
      "image/png": "[encoded data removed]",
      "text/plain": [
       "<Figure size 576x432 with 1 Axes>"
      ]
     },
     "metadata": {
      "needs_background": "light"
     },
     "output_type": "display_data"
    }
   ],
   "source": [
    "# Show graph\n",
    "limit=26; start=2; step=3;\n",
    "x = range(start, limit, step)\n",
    "plt.figure(figsize=(8,6))\n",
    "plt.plot(x, coherence_values)\n",
    "plt.title('Coherence Score for different number of topics', fontsize=14, fontweight=\"bold\")\n",
    "plt.xlabel(\"Number of Topics\", fontsize=12)\n",
    "plt.ylabel(\"Coherence score\", fontsize=12)\n",
    "plt.tick_params(axis='both', labelsize=13)\n",
    "plt.legend([\"Coherence Values\"], loc='lower right')\n",
    "plt.show()"
   ]
  },
  {
   "cell_type": "code",
   "execution_count": 67,
   "metadata": {
    "ExecuteTime": {
     "end_time": "2022-01-18T15:05:07.245234Z",
     "start_time": "2022-01-18T15:05:07.234231Z"
    }
   },
   "outputs": [
    {
     "name": "stdout",
     "output_type": "stream",
     "text": [
      "Num Topics = 2  has Coherence Value of 0.117\n",
      "Num Topics = 5  has Coherence Value of 0.272\n",
      "Num Topics = 8  has Coherence Value of 0.2996\n",
      "Num Topics = 11  has Coherence Value of 0.338\n",
      "Num Topics = 14  has Coherence Value of 0.3095\n",
      "Num Topics = 17  has Coherence Value of 0.3218\n",
      "Num Topics = 20  has Coherence Value of 0.299\n",
      "Num Topics = 23  has Coherence Value of 0.2927\n"
     ]
    }
   ],
   "source": [
    "# Print the coherence scores for different number of topics\n",
    "for m, cv in zip(x, coherence_values):\n",
    "    print(\"Num Topics =\", m, \" has Coherence Value of\", round(cv, 4))"
   ]
  },
  {
   "cell_type": "code",
   "execution_count": 68,
   "metadata": {
    "ExecuteTime": {
     "end_time": "2022-01-18T15:05:08.241570Z",
     "start_time": "2022-01-18T15:05:08.227541Z"
    }
   },
   "outputs": [
    {
     "name": "stdout",
     "output_type": "stream",
     "text": [
      "[(0,\n",
      "  '0.030*\"time\" + 0.029*\"cultur\" + 0.021*\"part\" + 0.016*\"control\" + '\n",
      "  '0.015*\"chang\" + 0.015*\"power\" + 0.015*\"reason\" + 0.014*\"issu\" + '\n",
      "  '0.013*\"import\" + 0.013*\"spiritu\"'),\n",
      " (1,\n",
      "  '0.066*\"believ\" + 0.033*\"faith\" + 0.031*\"true\" + 0.029*\"belief\" + '\n",
      "  '0.028*\"wrong\" + 0.025*\"scienc\" + 0.023*\"teach\" + 0.020*\"fact\" + '\n",
      "  '0.019*\"actual\" + 0.018*\"real\"'),\n",
      " (2,\n",
      "  '0.052*\"thing\" + 0.049*\"good\" + 0.035*\"make\" + 0.027*\"realli\" + 0.021*\"talk\" '\n",
      "  '+ 0.017*\"feel\" + 0.015*\"evil\" + 0.014*\"show\" + 0.013*\"cult\" + '\n",
      "  '0.013*\"becom\"'),\n",
      " (3,\n",
      "  '0.045*\"race\" + 0.035*\"differ\" + 0.034*\"person\" + 0.030*\"base\" + '\n",
      "  '0.028*\"woman\" + 0.021*\"matter\" + 0.020*\"respect\" + 0.017*\"give\" + '\n",
      "  '0.016*\"peopl\" + 0.015*\"care\"'),\n",
      " (4,\n",
      "  '0.059*\"christian\" + 0.025*\"call\" + 0.021*\"practic\" + 0.019*\"point\" + '\n",
      "  '0.017*\"truth\" + 0.017*\"tri\" + 0.015*\"happen\" + 0.013*\"worship\" + '\n",
      "  '0.013*\"long\" + 0.013*\"organ\"'),\n",
      " (5,\n",
      "  '0.044*\"polit\" + 0.037*\"countri\" + 0.037*\"freedom\" + 0.036*\"hate\" + '\n",
      "  '0.027*\"state\" + 0.027*\"muslim\" + 0.020*\"govern\" + 0.019*\"nation\" + '\n",
      "  '0.018*\"support\" + 0.017*\"stop\"'),\n",
      " (6,\n",
      "  '0.042*\"love\" + 0.037*\"world\" + 0.037*\"human\" + 0.036*\"life\" + 0.031*\"peac\" '\n",
      "  '+ 0.023*\"live\" + 0.017*\"work\" + 0.017*\"great\" + 0.016*\"question\" + '\n",
      "  '0.013*\"moral\"'),\n",
      " (7,\n",
      "  '0.128*\"peopl\" + 0.031*\"mani\" + 0.025*\"kill\" + 0.024*\"problem\" + '\n",
      "  '0.024*\"follow\" + 0.023*\"church\" + 0.021*\"make\" + 0.017*\"child\" + '\n",
      "  '0.016*\"alway\" + 0.016*\"word\"')]\n"
     ]
    }
   ],
   "source": [
    "# Select the model and print the topics\n",
    "optimal_model = model_list[2]\n",
    "model_topics = optimal_model.show_topics(formatted=False)\n",
    "pprint(optimal_model.print_topics(num_words=10))"
   ]
  },
  {
   "cell_type": "code",
   "execution_count": 69,
   "metadata": {
    "ExecuteTime": {
     "end_time": "2022-01-18T15:07:00.700136Z",
     "start_time": "2022-01-18T15:05:09.220749Z"
    }
   },
   "outputs": [
    {
     "data": {
      "text/html": [
       "<div>\n",
       "<style scoped>\n",
       "    .dataframe tbody tr th:only-of-type {\n",
       "        vertical-align: middle;\n",
       "    }\n",
       "\n",
       "    .dataframe tbody tr th {\n",
       "        vertical-align: top;\n",
       "    }\n",
       "\n",
       "    .dataframe thead th {\n",
       "        text-align: right;\n",
       "    }\n",
       "</style>\n",
       "<table border=\"1\" class=\"dataframe\">\n",
       "  <thead>\n",
       "    <tr style=\"text-align: right;\">\n",
       "      <th></th>\n",
       "      <th>Document_No</th>\n",
       "      <th>Dominant_Topic</th>\n",
       "      <th>Topic_Perc_Contrib</th>\n",
       "      <th>Keywords</th>\n",
       "      <th>Text</th>\n",
       "    </tr>\n",
       "  </thead>\n",
       "  <tbody>\n",
       "    <tr>\n",
       "      <th>0</th>\n",
       "      <td>0</td>\n",
       "      <td>6.0</td>\n",
       "      <td>0.1537</td>\n",
       "      <td>love, world, human, life, peac, live, work, gr...</td>\n",
       "      <td>[full, bless, good, deed, also, respect, life,...</td>\n",
       "    </tr>\n",
       "    <tr>\n",
       "      <th>1</th>\n",
       "      <td>1</td>\n",
       "      <td>6.0</td>\n",
       "      <td>0.1528</td>\n",
       "      <td>love, world, human, life, peac, live, work, gr...</td>\n",
       "      <td>[disast, human, live, piti]</td>\n",
       "    </tr>\n",
       "    <tr>\n",
       "      <th>2</th>\n",
       "      <td>2</td>\n",
       "      <td>7.0</td>\n",
       "      <td>0.1672</td>\n",
       "      <td>peopl, mani, kill, problem, follow, church, ma...</td>\n",
       "      <td>[reason, peopl, argu, count]</td>\n",
       "    </tr>\n",
       "    <tr>\n",
       "      <th>3</th>\n",
       "      <td>3</td>\n",
       "      <td>6.0</td>\n",
       "      <td>0.1548</td>\n",
       "      <td>love, world, human, life, peac, live, work, gr...</td>\n",
       "      <td>[need, provid, moral_compass, lack, empathi]</td>\n",
       "    </tr>\n",
       "    <tr>\n",
       "      <th>4</th>\n",
       "      <td>4</td>\n",
       "      <td>4.0</td>\n",
       "      <td>0.1568</td>\n",
       "      <td>christian, call, practic, point, truth, tri, h...</td>\n",
       "      <td>[never, holier, regular, life, regular, life, ...</td>\n",
       "    </tr>\n",
       "    <tr>\n",
       "      <th>5</th>\n",
       "      <td>5</td>\n",
       "      <td>2.0</td>\n",
       "      <td>0.1453</td>\n",
       "      <td>thing, good, make, realli, talk, feel, evil, s...</td>\n",
       "      <td>[impot, human, mind, deal, occurr, understand]</td>\n",
       "    </tr>\n",
       "    <tr>\n",
       "      <th>6</th>\n",
       "      <td>6</td>\n",
       "      <td>0.0</td>\n",
       "      <td>0.1343</td>\n",
       "      <td>time, cultur, part, control, chang, power, rea...</td>\n",
       "      <td>[other, do, univers, matter, cultur, belief_sy...</td>\n",
       "    </tr>\n",
       "    <tr>\n",
       "      <th>7</th>\n",
       "      <td>7</td>\n",
       "      <td>4.0</td>\n",
       "      <td>0.1417</td>\n",
       "      <td>christian, call, practic, point, truth, tri, h...</td>\n",
       "      <td>[principl, follow, ahimsa, satyagraha, expel, ...</td>\n",
       "    </tr>\n",
       "    <tr>\n",
       "      <th>8</th>\n",
       "      <td>8</td>\n",
       "      <td>2.0</td>\n",
       "      <td>0.1533</td>\n",
       "      <td>thing, good, make, realli, talk, feel, evil, s...</td>\n",
       "      <td>[whole, peac, thing, start, make, trend, trust]</td>\n",
       "    </tr>\n",
       "    <tr>\n",
       "      <th>9</th>\n",
       "      <td>9</td>\n",
       "      <td>0.0</td>\n",
       "      <td>0.1528</td>\n",
       "      <td>time, cultur, part, control, chang, power, rea...</td>\n",
       "      <td>[fall, love, creat, fallibl]</td>\n",
       "    </tr>\n",
       "    <tr>\n",
       "      <th>10</th>\n",
       "      <td>10</td>\n",
       "      <td>4.0</td>\n",
       "      <td>0.1682</td>\n",
       "      <td>christian, call, practic, point, truth, tri, h...</td>\n",
       "      <td>[christian, call, piti, friedrich, nietzsch]</td>\n",
       "    </tr>\n",
       "    <tr>\n",
       "      <th>11</th>\n",
       "      <td>11</td>\n",
       "      <td>7.0</td>\n",
       "      <td>0.1452</td>\n",
       "      <td>peopl, mani, kill, problem, follow, church, ma...</td>\n",
       "      <td>[muslim, fault, fault]</td>\n",
       "    </tr>\n",
       "    <tr>\n",
       "      <th>12</th>\n",
       "      <td>12</td>\n",
       "      <td>1.0</td>\n",
       "      <td>0.1568</td>\n",
       "      <td>believ, faith, true, belief, wrong, scienc, te...</td>\n",
       "      <td>[alway, think, cool, manag, caveman, creat, co...</td>\n",
       "    </tr>\n",
       "    <tr>\n",
       "      <th>13</th>\n",
       "      <td>13</td>\n",
       "      <td>0.0</td>\n",
       "      <td>0.1384</td>\n",
       "      <td>time, cultur, part, control, chang, power, rea...</td>\n",
       "      <td>[tell, word, origin, hebrew, languag]</td>\n",
       "    </tr>\n",
       "    <tr>\n",
       "      <th>14</th>\n",
       "      <td>14</td>\n",
       "      <td>6.0</td>\n",
       "      <td>0.1460</td>\n",
       "      <td>love, world, human, life, peac, live, work, gr...</td>\n",
       "      <td>[toler, mani, valu, conservapedia, spell]</td>\n",
       "    </tr>\n",
       "  </tbody>\n",
       "</table>\n",
       "</div>"
      ],
      "text/plain": [
       "    Document_No  Dominant_Topic  Topic_Perc_Contrib  \\\n",
       "0             0             6.0              0.1537   \n",
       "1             1             6.0              0.1528   \n",
       "2             2             7.0              0.1672   \n",
       "3             3             6.0              0.1548   \n",
       "4             4             4.0              0.1568   \n",
       "5             5             2.0              0.1453   \n",
       "6             6             0.0              0.1343   \n",
       "7             7             4.0              0.1417   \n",
       "8             8             2.0              0.1533   \n",
       "9             9             0.0              0.1528   \n",
       "10           10             4.0              0.1682   \n",
       "11           11             7.0              0.1452   \n",
       "12           12             1.0              0.1568   \n",
       "13           13             0.0              0.1384   \n",
       "14           14             6.0              0.1460   \n",
       "\n",
       "                                             Keywords  \\\n",
       "0   love, world, human, life, peac, live, work, gr...   \n",
       "1   love, world, human, life, peac, live, work, gr...   \n",
       "2   peopl, mani, kill, problem, follow, church, ma...   \n",
       "3   love, world, human, life, peac, live, work, gr...   \n",
       "4   christian, call, practic, point, truth, tri, h...   \n",
       "5   thing, good, make, realli, talk, feel, evil, s...   \n",
       "6   time, cultur, part, control, chang, power, rea...   \n",
       "7   christian, call, practic, point, truth, tri, h...   \n",
       "8   thing, good, make, realli, talk, feel, evil, s...   \n",
       "9   time, cultur, part, control, chang, power, rea...   \n",
       "10  christian, call, practic, point, truth, tri, h...   \n",
       "11  peopl, mani, kill, problem, follow, church, ma...   \n",
       "12  believ, faith, true, belief, wrong, scienc, te...   \n",
       "13  time, cultur, part, control, chang, power, rea...   \n",
       "14  love, world, human, life, peac, live, work, gr...   \n",
       "\n",
       "                                                 Text  \n",
       "0   [full, bless, good, deed, also, respect, life,...  \n",
       "1                         [disast, human, live, piti]  \n",
       "2                        [reason, peopl, argu, count]  \n",
       "3        [need, provid, moral_compass, lack, empathi]  \n",
       "4   [never, holier, regular, life, regular, life, ...  \n",
       "5      [impot, human, mind, deal, occurr, understand]  \n",
       "6   [other, do, univers, matter, cultur, belief_sy...  \n",
       "7   [principl, follow, ahimsa, satyagraha, expel, ...  \n",
       "8     [whole, peac, thing, start, make, trend, trust]  \n",
       "9                        [fall, love, creat, fallibl]  \n",
       "10       [christian, call, piti, friedrich, nietzsch]  \n",
       "11                             [muslim, fault, fault]  \n",
       "12  [alway, think, cool, manag, caveman, creat, co...  \n",
       "13              [tell, word, origin, hebrew, languag]  \n",
       "14          [toler, mani, valu, conservapedia, spell]  "
      ]
     },
     "execution_count": 69,
     "metadata": {},
     "output_type": "execute_result"
    }
   ],
   "source": [
    "def format_topics_sentences(ldamodel=ldamallet_stemmed, corpus=corpus_stemmed, texts=data):\n",
    "    # Init output\n",
    "    sent_topics_df = pd.DataFrame()\n",
    "\n",
    "    # Get main topic in each documen\n",
    "    for i, row in enumerate(ldamodel[corpus]):\n",
    "        row = sorted(row, key=lambda x: (x[1]), reverse=True)\n",
    "        # Get the Dominant topic, Perc Contribution and Keywords for each document\n",
    "        for j, (topic_num, prop_topic) in enumerate(row):\n",
    "            if j == 0:  # => dominant topic\n",
    "                wp = ldamodel.show_topic(topic_num)\n",
    "                topic_keywords = \", \".join([word for word, prop in wp])\n",
    "                sent_topics_df = sent_topics_df.append(pd.Series([int(topic_num), round(prop_topic,4), topic_keywords]), ignore_index=True)\n",
    "            else:\n",
    "                break\n",
    "    sent_topics_df.columns = ['Dominant_Topic', 'Perc_Contribution', 'Topic_Keywords']\n",
    "\n",
    "    # Add original text to the end of the output\n",
    "    contents = pd.Series(texts)\n",
    "    sent_topics_df = pd.concat([sent_topics_df, contents], axis=1)\n",
    "    return(sent_topics_df)\n",
    "\n",
    "\n",
    "df_topic_sents_keywords = format_topics_sentences(ldamodel=optimal_model, corpus=corpus_stemmed, texts=df['stemmed'])\n",
    "\n",
    "# Format\n",
    "df_dominant_topic = df_topic_sents_keywords.reset_index()\n",
    "df_dominant_topic.columns = ['Document_No', 'Dominant_Topic', 'Topic_Perc_Contrib', 'Keywords', 'Text']\n",
    "\n",
    "# Show\n",
    "df_dominant_topic.head(15)"
   ]
  },
  {
   "cell_type": "code",
   "execution_count": 70,
   "metadata": {
    "ExecuteTime": {
     "end_time": "2022-01-18T15:07:01.762939Z",
     "start_time": "2022-01-18T15:07:01.733777Z"
    }
   },
   "outputs": [
    {
     "data": {
      "text/html": [
       "<div>\n",
       "<style scoped>\n",
       "    .dataframe tbody tr th:only-of-type {\n",
       "        vertical-align: middle;\n",
       "    }\n",
       "\n",
       "    .dataframe tbody tr th {\n",
       "        vertical-align: top;\n",
       "    }\n",
       "\n",
       "    .dataframe thead th {\n",
       "        text-align: right;\n",
       "    }\n",
       "</style>\n",
       "<table border=\"1\" class=\"dataframe\">\n",
       "  <thead>\n",
       "    <tr style=\"text-align: right;\">\n",
       "      <th></th>\n",
       "      <th>Document_No</th>\n",
       "      <th>Dominant_Topic</th>\n",
       "      <th>Topic_Perc_Contrib</th>\n",
       "      <th>Keywords</th>\n",
       "      <th>Text</th>\n",
       "    </tr>\n",
       "  </thead>\n",
       "  <tbody>\n",
       "    <tr>\n",
       "      <th>2</th>\n",
       "      <td>2</td>\n",
       "      <td>7.0</td>\n",
       "      <td>0.1672</td>\n",
       "      <td>peopl, mani, kill, problem, follow, church, ma...</td>\n",
       "      <td>[reason, peopl, argu, count]</td>\n",
       "    </tr>\n",
       "    <tr>\n",
       "      <th>11</th>\n",
       "      <td>11</td>\n",
       "      <td>7.0</td>\n",
       "      <td>0.1452</td>\n",
       "      <td>peopl, mani, kill, problem, follow, church, ma...</td>\n",
       "      <td>[muslim, fault, fault]</td>\n",
       "    </tr>\n",
       "    <tr>\n",
       "      <th>19</th>\n",
       "      <td>19</td>\n",
       "      <td>7.0</td>\n",
       "      <td>0.1626</td>\n",
       "      <td>peopl, mani, kill, problem, follow, church, ma...</td>\n",
       "      <td>[victim, obvious, guilt, associ, teach, moral,...</td>\n",
       "    </tr>\n",
       "    <tr>\n",
       "      <th>20</th>\n",
       "      <td>20</td>\n",
       "      <td>7.0</td>\n",
       "      <td>0.1533</td>\n",
       "      <td>peopl, mani, kill, problem, follow, church, ma...</td>\n",
       "      <td>[mani, peopl, identifi, pray, first, activ, wake]</td>\n",
       "    </tr>\n",
       "    <tr>\n",
       "      <th>39</th>\n",
       "      <td>39</td>\n",
       "      <td>7.0</td>\n",
       "      <td>0.2110</td>\n",
       "      <td>peopl, mani, kill, problem, follow, church, ma...</td>\n",
       "      <td>[jihad, lurch, feel, affin, forefath, land, be...</td>\n",
       "    </tr>\n",
       "    <tr>\n",
       "      <th>...</th>\n",
       "      <td>...</td>\n",
       "      <td>...</td>\n",
       "      <td>...</td>\n",
       "      <td>...</td>\n",
       "      <td>...</td>\n",
       "    </tr>\n",
       "    <tr>\n",
       "      <th>47321</th>\n",
       "      <td>47321</td>\n",
       "      <td>7.0</td>\n",
       "      <td>0.1533</td>\n",
       "      <td>peopl, mani, kill, problem, follow, church, ma...</td>\n",
       "      <td>[unfortun, fail, understand, explain, strongli...</td>\n",
       "    </tr>\n",
       "    <tr>\n",
       "      <th>47333</th>\n",
       "      <td>47333</td>\n",
       "      <td>7.0</td>\n",
       "      <td>0.1542</td>\n",
       "      <td>peopl, mani, kill, problem, follow, church, ma...</td>\n",
       "      <td>[believ, almost, sound]</td>\n",
       "    </tr>\n",
       "    <tr>\n",
       "      <th>47337</th>\n",
       "      <td>47337</td>\n",
       "      <td>7.0</td>\n",
       "      <td>0.1436</td>\n",
       "      <td>peopl, mani, kill, problem, follow, church, ma...</td>\n",
       "      <td>[even, close, say, need, educ, set, right, han...</td>\n",
       "    </tr>\n",
       "    <tr>\n",
       "      <th>47344</th>\n",
       "      <td>47344</td>\n",
       "      <td>7.0</td>\n",
       "      <td>0.1654</td>\n",
       "      <td>peopl, mani, kill, problem, follow, church, ma...</td>\n",
       "      <td>[interest, republican, state, want, restrict, ...</td>\n",
       "    </tr>\n",
       "    <tr>\n",
       "      <th>47345</th>\n",
       "      <td>47345</td>\n",
       "      <td>7.0</td>\n",
       "      <td>0.1638</td>\n",
       "      <td>peopl, mani, kill, problem, follow, church, ma...</td>\n",
       "      <td>[zealot, atheist, secular, humanist, deni, rig...</td>\n",
       "    </tr>\n",
       "  </tbody>\n",
       "</table>\n",
       "<p>4442 rows × 5 columns</p>\n",
       "</div>"
      ],
      "text/plain": [
       "       Document_No  Dominant_Topic  Topic_Perc_Contrib  \\\n",
       "2                2             7.0              0.1672   \n",
       "11              11             7.0              0.1452   \n",
       "19              19             7.0              0.1626   \n",
       "20              20             7.0              0.1533   \n",
       "39              39             7.0              0.2110   \n",
       "...            ...             ...                 ...   \n",
       "47321        47321             7.0              0.1533   \n",
       "47333        47333             7.0              0.1542   \n",
       "47337        47337             7.0              0.1436   \n",
       "47344        47344             7.0              0.1654   \n",
       "47345        47345             7.0              0.1638   \n",
       "\n",
       "                                                Keywords  \\\n",
       "2      peopl, mani, kill, problem, follow, church, ma...   \n",
       "11     peopl, mani, kill, problem, follow, church, ma...   \n",
       "19     peopl, mani, kill, problem, follow, church, ma...   \n",
       "20     peopl, mani, kill, problem, follow, church, ma...   \n",
       "39     peopl, mani, kill, problem, follow, church, ma...   \n",
       "...                                                  ...   \n",
       "47321  peopl, mani, kill, problem, follow, church, ma...   \n",
       "47333  peopl, mani, kill, problem, follow, church, ma...   \n",
       "47337  peopl, mani, kill, problem, follow, church, ma...   \n",
       "47344  peopl, mani, kill, problem, follow, church, ma...   \n",
       "47345  peopl, mani, kill, problem, follow, church, ma...   \n",
       "\n",
       "                                                    Text  \n",
       "2                           [reason, peopl, argu, count]  \n",
       "11                                [muslim, fault, fault]  \n",
       "19     [victim, obvious, guilt, associ, teach, moral,...  \n",
       "20     [mani, peopl, identifi, pray, first, activ, wake]  \n",
       "39     [jihad, lurch, feel, affin, forefath, land, be...  \n",
       "...                                                  ...  \n",
       "47321  [unfortun, fail, understand, explain, strongli...  \n",
       "47333                            [believ, almost, sound]  \n",
       "47337  [even, close, say, need, educ, set, right, han...  \n",
       "47344  [interest, republican, state, want, restrict, ...  \n",
       "47345  [zealot, atheist, secular, humanist, deni, rig...  \n",
       "\n",
       "[4442 rows x 5 columns]"
      ]
     },
     "execution_count": 70,
     "metadata": {},
     "output_type": "execute_result"
    }
   ],
   "source": [
    "df_dominant_topic[df_dominant_topic.Dominant_Topic == 7.0]"
   ]
  },
  {
   "cell_type": "code",
   "execution_count": 71,
   "metadata": {
    "ExecuteTime": {
     "end_time": "2022-01-18T15:07:02.864393Z",
     "start_time": "2022-01-18T15:07:02.731194Z"
    }
   },
   "outputs": [
    {
     "data": {
      "text/html": [
       "<div>\n",
       "<style scoped>\n",
       "    .dataframe tbody tr th:only-of-type {\n",
       "        vertical-align: middle;\n",
       "    }\n",
       "\n",
       "    .dataframe tbody tr th {\n",
       "        vertical-align: top;\n",
       "    }\n",
       "\n",
       "    .dataframe thead th {\n",
       "        text-align: right;\n",
       "    }\n",
       "</style>\n",
       "<table border=\"1\" class=\"dataframe\">\n",
       "  <thead>\n",
       "    <tr style=\"text-align: right;\">\n",
       "      <th></th>\n",
       "      <th>Dominant_Topic</th>\n",
       "      <th>percentage</th>\n",
       "      <th>Topic_Keywords</th>\n",
       "    </tr>\n",
       "  </thead>\n",
       "  <tbody>\n",
       "    <tr>\n",
       "      <th>0</th>\n",
       "      <td>1.0</td>\n",
       "      <td>0.1515</td>\n",
       "      <td>believ, faith, true, belief, wrong, scienc, te...</td>\n",
       "    </tr>\n",
       "    <tr>\n",
       "      <th>1</th>\n",
       "      <td>0.0</td>\n",
       "      <td>0.1485</td>\n",
       "      <td>time, cultur, part, control, chang, power, rea...</td>\n",
       "    </tr>\n",
       "    <tr>\n",
       "      <th>2</th>\n",
       "      <td>2.0</td>\n",
       "      <td>0.1372</td>\n",
       "      <td>thing, good, make, realli, talk, feel, evil, s...</td>\n",
       "    </tr>\n",
       "    <tr>\n",
       "      <th>3</th>\n",
       "      <td>5.0</td>\n",
       "      <td>0.1270</td>\n",
       "      <td>polit, countri, freedom, hate, state, muslim, ...</td>\n",
       "    </tr>\n",
       "    <tr>\n",
       "      <th>4</th>\n",
       "      <td>3.0</td>\n",
       "      <td>0.1225</td>\n",
       "      <td>race, differ, person, base, woman, matter, res...</td>\n",
       "    </tr>\n",
       "    <tr>\n",
       "      <th>5</th>\n",
       "      <td>4.0</td>\n",
       "      <td>0.1107</td>\n",
       "      <td>christian, call, practic, point, truth, tri, h...</td>\n",
       "    </tr>\n",
       "    <tr>\n",
       "      <th>6</th>\n",
       "      <td>6.0</td>\n",
       "      <td>0.1088</td>\n",
       "      <td>love, world, human, life, peac, live, work, gr...</td>\n",
       "    </tr>\n",
       "    <tr>\n",
       "      <th>7</th>\n",
       "      <td>7.0</td>\n",
       "      <td>0.0938</td>\n",
       "      <td>peopl, mani, kill, problem, follow, church, ma...</td>\n",
       "    </tr>\n",
       "  </tbody>\n",
       "</table>\n",
       "</div>"
      ],
      "text/plain": [
       "   Dominant_Topic  percentage  \\\n",
       "0             1.0      0.1515   \n",
       "1             0.0      0.1485   \n",
       "2             2.0      0.1372   \n",
       "3             5.0      0.1270   \n",
       "4             3.0      0.1225   \n",
       "5             4.0      0.1107   \n",
       "6             6.0      0.1088   \n",
       "7             7.0      0.0938   \n",
       "\n",
       "                                      Topic_Keywords  \n",
       "0  believ, faith, true, belief, wrong, scienc, te...  \n",
       "1  time, cultur, part, control, chang, power, rea...  \n",
       "2  thing, good, make, realli, talk, feel, evil, s...  \n",
       "3  polit, countri, freedom, hate, state, muslim, ...  \n",
       "4  race, differ, person, base, woman, matter, res...  \n",
       "5  christian, call, practic, point, truth, tri, h...  \n",
       "6  love, world, human, life, peac, live, work, gr...  \n",
       "7  peopl, mani, kill, problem, follow, church, ma...  "
      ]
     },
     "execution_count": 71,
     "metadata": {},
     "output_type": "execute_result"
    }
   ],
   "source": [
    "topic_counts = df_topic_sents_keywords['Dominant_Topic'].value_counts()\n",
    "topic_contribution = round(topic_counts/topic_counts.sum(), 4)\n",
    "topic_contribution = topic_contribution.rename_axis('Dominant_Topic').reset_index(name='percentage')\n",
    "\n",
    "topic_num_keywords = df_topic_sents_keywords[['Dominant_Topic', 'Topic_Keywords']].drop_duplicates()\n",
    "topic_num_keywords.index = range(len(topic_num_keywords))\n",
    "\n",
    "df_dominant_topics = pd.merge(topic_contribution, topic_num_keywords, how='inner', on='Dominant_Topic')\n",
    "df_dominant_topics"
   ]
  },
  {
   "cell_type": "code",
   "execution_count": 72,
   "metadata": {
    "ExecuteTime": {
     "end_time": "2022-01-18T15:07:03.907475Z",
     "start_time": "2022-01-18T15:07:03.860517Z"
    }
   },
   "outputs": [
    {
     "data": {
      "text/html": [
       "<div>\n",
       "<style scoped>\n",
       "    .dataframe tbody tr th:only-of-type {\n",
       "        vertical-align: middle;\n",
       "    }\n",
       "\n",
       "    .dataframe tbody tr th {\n",
       "        vertical-align: top;\n",
       "    }\n",
       "\n",
       "    .dataframe thead th {\n",
       "        text-align: right;\n",
       "    }\n",
       "</style>\n",
       "<table border=\"1\" class=\"dataframe\">\n",
       "  <thead>\n",
       "    <tr style=\"text-align: right;\">\n",
       "      <th></th>\n",
       "      <th>Topic_Num</th>\n",
       "      <th>Topic_Perc_Contrib</th>\n",
       "      <th>Keywords</th>\n",
       "      <th>Text</th>\n",
       "    </tr>\n",
       "  </thead>\n",
       "  <tbody>\n",
       "    <tr>\n",
       "      <th>0</th>\n",
       "      <td>0.0</td>\n",
       "      <td>0.2808</td>\n",
       "      <td>time, cultur, part, control, chang, power, rea...</td>\n",
       "      <td>[want, kind, fact, sexism, immor, immor, semin...</td>\n",
       "    </tr>\n",
       "    <tr>\n",
       "      <th>1</th>\n",
       "      <td>1.0</td>\n",
       "      <td>0.3020</td>\n",
       "      <td>believ, faith, true, belief, wrong, scienc, te...</td>\n",
       "      <td>[bare, face, cheek, western, nation, want, dom...</td>\n",
       "    </tr>\n",
       "    <tr>\n",
       "      <th>2</th>\n",
       "      <td>2.0</td>\n",
       "      <td>0.2791</td>\n",
       "      <td>thing, good, make, realli, talk, feel, evil, s...</td>\n",
       "      <td>[actual, wrong, peopl, talk, polit, hell]</td>\n",
       "    </tr>\n",
       "    <tr>\n",
       "      <th>3</th>\n",
       "      <td>3.0</td>\n",
       "      <td>0.2870</td>\n",
       "      <td>race, differ, person, base, woman, matter, res...</td>\n",
       "      <td>[well, know, least, worship, brother, discipl,...</td>\n",
       "    </tr>\n",
       "    <tr>\n",
       "      <th>4</th>\n",
       "      <td>4.0</td>\n",
       "      <td>0.2749</td>\n",
       "      <td>christian, call, practic, point, truth, tri, h...</td>\n",
       "      <td>[popular, planet, today, teach, write, book, c...</td>\n",
       "    </tr>\n",
       "    <tr>\n",
       "      <th>5</th>\n",
       "      <td>5.0</td>\n",
       "      <td>0.3194</td>\n",
       "      <td>polit, countri, freedom, hate, state, muslim, ...</td>\n",
       "      <td>[process, let, difficult, depend, import, requ...</td>\n",
       "    </tr>\n",
       "    <tr>\n",
       "      <th>6</th>\n",
       "      <td>6.0</td>\n",
       "      <td>0.2852</td>\n",
       "      <td>love, world, human, life, peac, live, work, gr...</td>\n",
       "      <td>[accord, make, destroy, earth, pollut, creat, ...</td>\n",
       "    </tr>\n",
       "    <tr>\n",
       "      <th>7</th>\n",
       "      <td>7.0</td>\n",
       "      <td>0.2645</td>\n",
       "      <td>peopl, mani, kill, problem, follow, church, ma...</td>\n",
       "      <td>[say, cool, entir]</td>\n",
       "    </tr>\n",
       "  </tbody>\n",
       "</table>\n",
       "</div>"
      ],
      "text/plain": [
       "   Topic_Num  Topic_Perc_Contrib  \\\n",
       "0        0.0              0.2808   \n",
       "1        1.0              0.3020   \n",
       "2        2.0              0.2791   \n",
       "3        3.0              0.2870   \n",
       "4        4.0              0.2749   \n",
       "5        5.0              0.3194   \n",
       "6        6.0              0.2852   \n",
       "7        7.0              0.2645   \n",
       "\n",
       "                                            Keywords  \\\n",
       "0  time, cultur, part, control, chang, power, rea...   \n",
       "1  believ, faith, true, belief, wrong, scienc, te...   \n",
       "2  thing, good, make, realli, talk, feel, evil, s...   \n",
       "3  race, differ, person, base, woman, matter, res...   \n",
       "4  christian, call, practic, point, truth, tri, h...   \n",
       "5  polit, countri, freedom, hate, state, muslim, ...   \n",
       "6  love, world, human, life, peac, live, work, gr...   \n",
       "7  peopl, mani, kill, problem, follow, church, ma...   \n",
       "\n",
       "                                                Text  \n",
       "0  [want, kind, fact, sexism, immor, immor, semin...  \n",
       "1  [bare, face, cheek, western, nation, want, dom...  \n",
       "2          [actual, wrong, peopl, talk, polit, hell]  \n",
       "3  [well, know, least, worship, brother, discipl,...  \n",
       "4  [popular, planet, today, teach, write, book, c...  \n",
       "5  [process, let, difficult, depend, import, requ...  \n",
       "6  [accord, make, destroy, earth, pollut, creat, ...  \n",
       "7                                 [say, cool, entir]  "
      ]
     },
     "execution_count": 72,
     "metadata": {},
     "output_type": "execute_result"
    }
   ],
   "source": [
    "# Group top 5 sentences under each topic\n",
    "sent_topics_sorteddf_mallet = pd.DataFrame()\n",
    "\n",
    "sent_topics_outdf_grpd = df_topic_sents_keywords.groupby('Dominant_Topic')\n",
    "\n",
    "for i, grp in sent_topics_outdf_grpd:\n",
    "    sent_topics_sorteddf_mallet = pd.concat([sent_topics_sorteddf_mallet, \n",
    "                                             grp.sort_values(['Perc_Contribution'], ascending=[0]).head(1)], \n",
    "                                            axis=0)\n",
    "\n",
    "# Reset Index    \n",
    "sent_topics_sorteddf_mallet.reset_index(drop=True, inplace=True)\n",
    "\n",
    "# Format\n",
    "sent_topics_sorteddf_mallet.columns = ['Topic_Num', \"Topic_Perc_Contrib\", \"Keywords\", \"Text\"]\n",
    "\n",
    "# Show\n",
    "sent_topics_sorteddf_mallet"
   ]
  },
  {
   "cell_type": "code",
   "execution_count": 73,
   "metadata": {
    "ExecuteTime": {
     "end_time": "2022-01-18T15:07:04.932149Z",
     "start_time": "2022-01-18T15:07:04.919140Z"
    }
   },
   "outputs": [
    {
     "name": "stdout",
     "output_type": "stream",
     "text": [
      "['accord', 'make', 'destroy', 'earth', 'pollut', 'creat', 'climate_chang', 'destroy', 'earth', 'complet', 'realis', 'give', 'oppertun', 'learn', 'correct', 'rememb', 'good']\n"
     ]
    }
   ],
   "source": [
    "print(sent_topics_sorteddf_mallet['Text'][6])"
   ]
  },
  {
   "cell_type": "code",
   "execution_count": 74,
   "metadata": {
    "ExecuteTime": {
     "end_time": "2022-01-18T15:07:05.931013Z",
     "start_time": "2022-01-18T15:07:05.916333Z"
    }
   },
   "outputs": [],
   "source": [
    "# Number of Documents for Each Topic\n",
    "topic_counts = df_topic_sents_keywords['Dominant_Topic'].value_counts()\n",
    "\n",
    "# Percentage of Documents for Each Topic\n",
    "topic_contribution = round(topic_counts/topic_counts.sum(), 4)\n",
    "\n",
    "# Topic Number and Keywords\n",
    "topic_num_keywords = sent_topics_sorteddf_mallet[['Topic_Num', 'Keywords']]\n",
    "\n",
    "# Concatenate Column wise\n",
    "df_dominant_topics = pd.concat([topic_num_keywords, topic_counts.sort_index(), topic_contribution.sort_index()], axis=1)\n",
    "\n",
    "# Change Column names\n",
    "df_dominant_topics.columns = ['Topic', 'Topic_Keywords', 'Num_Tweets', 'Perc_Tweets']\n",
    "\n",
    "# Show\n",
    "df_dominant_topics['Perc_Tweets'] = df_dominant_topics['Perc_Tweets'] * 100"
   ]
  },
  {
   "cell_type": "code",
   "execution_count": 75,
   "metadata": {
    "ExecuteTime": {
     "end_time": "2022-01-18T15:07:06.917722Z",
     "start_time": "2022-01-18T15:07:06.903082Z"
    }
   },
   "outputs": [],
   "source": [
    "df_dominant_topics['Text'] = sent_topics_sorteddf_mallet['Text']"
   ]
  },
  {
   "cell_type": "code",
   "execution_count": 76,
   "metadata": {
    "ExecuteTime": {
     "end_time": "2022-01-18T15:07:28.960997Z",
     "start_time": "2022-01-18T15:07:28.935068Z"
    }
   },
   "outputs": [
    {
     "data": {
      "text/html": [
       "<div>\n",
       "<style scoped>\n",
       "    .dataframe tbody tr th:only-of-type {\n",
       "        vertical-align: middle;\n",
       "    }\n",
       "\n",
       "    .dataframe tbody tr th {\n",
       "        vertical-align: top;\n",
       "    }\n",
       "\n",
       "    .dataframe thead th {\n",
       "        text-align: right;\n",
       "    }\n",
       "</style>\n",
       "<table border=\"1\" class=\"dataframe\">\n",
       "  <thead>\n",
       "    <tr style=\"text-align: right;\">\n",
       "      <th></th>\n",
       "      <th>Topic</th>\n",
       "      <th>Topic_Keywords</th>\n",
       "      <th>Num_Tweets</th>\n",
       "      <th>Perc_Tweets</th>\n",
       "      <th>Text</th>\n",
       "    </tr>\n",
       "  </thead>\n",
       "  <tbody>\n",
       "    <tr>\n",
       "      <th>0.0</th>\n",
       "      <td>0.0</td>\n",
       "      <td>time, cultur, part, control, chang, power, rea...</td>\n",
       "      <td>7033</td>\n",
       "      <td>14.85</td>\n",
       "      <td>[want, kind, fact, sexism, immor, immor, semin...</td>\n",
       "    </tr>\n",
       "    <tr>\n",
       "      <th>1.0</th>\n",
       "      <td>1.0</td>\n",
       "      <td>believ, faith, true, belief, wrong, scienc, te...</td>\n",
       "      <td>7175</td>\n",
       "      <td>15.15</td>\n",
       "      <td>[bare, face, cheek, western, nation, want, dom...</td>\n",
       "    </tr>\n",
       "    <tr>\n",
       "      <th>2.0</th>\n",
       "      <td>2.0</td>\n",
       "      <td>thing, good, make, realli, talk, feel, evil, s...</td>\n",
       "      <td>6494</td>\n",
       "      <td>13.72</td>\n",
       "      <td>[actual, wrong, peopl, talk, polit, hell]</td>\n",
       "    </tr>\n",
       "    <tr>\n",
       "      <th>3.0</th>\n",
       "      <td>3.0</td>\n",
       "      <td>race, differ, person, base, woman, matter, res...</td>\n",
       "      <td>5801</td>\n",
       "      <td>12.25</td>\n",
       "      <td>[well, know, least, worship, brother, discipl,...</td>\n",
       "    </tr>\n",
       "    <tr>\n",
       "      <th>4.0</th>\n",
       "      <td>4.0</td>\n",
       "      <td>christian, call, practic, point, truth, tri, h...</td>\n",
       "      <td>5240</td>\n",
       "      <td>11.07</td>\n",
       "      <td>[popular, planet, today, teach, write, book, c...</td>\n",
       "    </tr>\n",
       "    <tr>\n",
       "      <th>5.0</th>\n",
       "      <td>5.0</td>\n",
       "      <td>polit, countri, freedom, hate, state, muslim, ...</td>\n",
       "      <td>6012</td>\n",
       "      <td>12.70</td>\n",
       "      <td>[process, let, difficult, depend, import, requ...</td>\n",
       "    </tr>\n",
       "    <tr>\n",
       "      <th>6.0</th>\n",
       "      <td>6.0</td>\n",
       "      <td>love, world, human, life, peac, live, work, gr...</td>\n",
       "      <td>5150</td>\n",
       "      <td>10.88</td>\n",
       "      <td>[accord, make, destroy, earth, pollut, creat, ...</td>\n",
       "    </tr>\n",
       "    <tr>\n",
       "      <th>7.0</th>\n",
       "      <td>7.0</td>\n",
       "      <td>peopl, mani, kill, problem, follow, church, ma...</td>\n",
       "      <td>4442</td>\n",
       "      <td>9.38</td>\n",
       "      <td>[say, cool, entir]</td>\n",
       "    </tr>\n",
       "  </tbody>\n",
       "</table>\n",
       "</div>"
      ],
      "text/plain": [
       "     Topic                                     Topic_Keywords  Num_Tweets  \\\n",
       "0.0    0.0  time, cultur, part, control, chang, power, rea...        7033   \n",
       "1.0    1.0  believ, faith, true, belief, wrong, scienc, te...        7175   \n",
       "2.0    2.0  thing, good, make, realli, talk, feel, evil, s...        6494   \n",
       "3.0    3.0  race, differ, person, base, woman, matter, res...        5801   \n",
       "4.0    4.0  christian, call, practic, point, truth, tri, h...        5240   \n",
       "5.0    5.0  polit, countri, freedom, hate, state, muslim, ...        6012   \n",
       "6.0    6.0  love, world, human, life, peac, live, work, gr...        5150   \n",
       "7.0    7.0  peopl, mani, kill, problem, follow, church, ma...        4442   \n",
       "\n",
       "     Perc_Tweets                                               Text  \n",
       "0.0        14.85  [want, kind, fact, sexism, immor, immor, semin...  \n",
       "1.0        15.15  [bare, face, cheek, western, nation, want, dom...  \n",
       "2.0        13.72          [actual, wrong, peopl, talk, polit, hell]  \n",
       "3.0        12.25  [well, know, least, worship, brother, discipl,...  \n",
       "4.0        11.07  [popular, planet, today, teach, write, book, c...  \n",
       "5.0        12.70  [process, let, difficult, depend, import, requ...  \n",
       "6.0        10.88  [accord, make, destroy, earth, pollut, creat, ...  \n",
       "7.0         9.38                                 [say, cool, entir]  "
      ]
     },
     "execution_count": 76,
     "metadata": {},
     "output_type": "execute_result"
    }
   ],
   "source": [
    "df_dominant_topics"
   ]
  },
  {
   "cell_type": "code",
   "execution_count": 77,
   "metadata": {
    "ExecuteTime": {
     "end_time": "2022-01-18T15:07:30.114416Z",
     "start_time": "2022-01-18T15:07:29.977923Z"
    },
    "scrolled": false
   },
   "outputs": [
    {
     "name": "stdout",
     "output_type": "stream",
     "text": [
      "Total Tweets 47347\n"
     ]
    },
    {
     "data": {
      "image/png": "[encoded data removed]",
      "text/plain": [
       "<Figure size 576x432 with 1 Axes>"
      ]
     },
     "metadata": {},
     "output_type": "display_data"
    }
   ],
   "source": [
    "sns.set_style(\"white\")\n",
    "label = ['Topic 0', 'Topic 1', 'Topic 2', 'Topic 3', 'Topic 4', 'Topic 5', 'Topic 6', 'Topic 7']\n",
    "freq = df_dominant_topics['Num_Tweets']\n",
    "index = np.arange(len(freq))\n",
    "\n",
    "print(\"Total Tweets\", df_dominant_topics['Num_Tweets'].sum())\n",
    "plt.figure(figsize=(8,6), facecolor='white')\n",
    "plt.bar(index, freq, alpha=0.8, color= 'black', width=0.7)\n",
    "plt.xlabel('Topics', fontsize=13)\n",
    "plt.ylabel('Number of Tweets', fontsize=13)\n",
    "plt.xticks(index, label, fontsize=11, fontweight=\"bold\")\n",
    "plt.tick_params(axis='both', which='major', labelsize=12)\n",
    "plt.title('Topic Distribution', fontsize=14, fontweight=\"bold\")\n",
    "plt.show()"
   ]
  },
  {
   "cell_type": "code",
   "execution_count": 78,
   "metadata": {
    "ExecuteTime": {
     "end_time": "2022-01-18T15:07:31.345184Z",
     "start_time": "2022-01-18T15:07:31.188543Z"
    }
   },
   "outputs": [],
   "source": [
    "df_dominant_topics.to_pickle('topic_modelling_gensim_results.pkl')"
   ]
  },
  {
   "cell_type": "code",
   "execution_count": null,
   "metadata": {},
   "outputs": [],
   "source": []
  }
 ],
 "metadata": {
  "kernelspec": {
   "display_name": "Python 3",
   "language": "python",
   "name": "python3"
  },
  "language_info": {
   "codemirror_mode": {
    "name": "ipython",
    "version": 3
   },
   "file_extension": ".py",
   "mimetype": "text/x-python",
   "name": "python",
   "nbconvert_exporter": "python",
   "pygments_lexer": "ipython3",
   "version": "3.9.7"
  },
  "notify_time": "0",
  "varInspector": {
   "cols": {
    "lenName": 16,
    "lenType": 16,
    "lenVar": 40
   },
   "kernels_config": {
    "python": {
     "delete_cmd_postfix": "",
     "delete_cmd_prefix": "del ",
     "library": "var_list.py",
     "varRefreshCmd": "print(var_dic_list())"
    },
    "r": {
     "delete_cmd_postfix": ") ",
     "delete_cmd_prefix": "rm(",
     "library": "var_list.r",
     "varRefreshCmd": "cat(var_dic_list()) "
    }
   },
   "types_to_exclude": [
    "module",
    "function",
    "builtin_function_or_method",
    "instance",
    "_Feature"
   ],
   "window_display": false
  }
 },
 "nbformat": 4,
 "nbformat_minor": 2
}
