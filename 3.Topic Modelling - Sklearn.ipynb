{
 "cells": [
  {
   "cell_type": "code",
   "execution_count": 1,
   "metadata": {
    "ExecuteTime": {
     "end_time": "2022-01-21T13:51:07.862202Z",
     "start_time": "2022-01-21T13:49:11.303207Z"
    }
   },
   "outputs": [],
   "source": [
    "import numpy as np\n",
    "import pandas as pd\n",
    "import re, nltk, spacy, gensim\n",
    "import gensim.corpora as corpora\n",
    "from gensim.models import CoherenceModel\n",
    "\n",
    "from sklearn.decomposition import LatentDirichletAllocation, TruncatedSVD\n",
    "from sklearn.feature_extraction.text import CountVectorizer, TfidfVectorizer\n",
    "from sklearn.model_selection import GridSearchCV\n",
    "from pprint import pprint\n",
    "\n",
    "import pyLDAvis\n",
    "import pyLDAvis.sklearn\n",
    "import matplotlib.pyplot as plt\n",
    "\n",
    "import warnings \n",
    "warnings.filterwarnings(\"ignore\", category=DeprecationWarning)\n",
    "\n",
    "%matplotlib inline"
   ]
  },
  {
   "cell_type": "code",
   "execution_count": 2,
   "metadata": {
    "ExecuteTime": {
     "end_time": "2022-01-21T13:51:09.898998Z",
     "start_time": "2022-01-21T13:51:07.876212Z"
    }
   },
   "outputs": [],
   "source": [
    "df = pd.read_pickle('processed.pkl')"
   ]
  },
  {
   "cell_type": "code",
   "execution_count": 3,
   "metadata": {
    "ExecuteTime": {
     "end_time": "2022-01-21T13:51:10.128336Z",
     "start_time": "2022-01-21T13:51:10.112409Z"
    }
   },
   "outputs": [
    {
     "data": {
      "text/plain": [
       "(47347, 9)"
      ]
     },
     "execution_count": 3,
     "metadata": {},
     "output_type": "execute_result"
    }
   ],
   "source": [
    "df.shape"
   ]
  },
  {
   "cell_type": "code",
   "execution_count": 4,
   "metadata": {
    "ExecuteTime": {
     "end_time": "2022-01-21T13:51:10.248540Z",
     "start_time": "2022-01-21T13:51:10.152307Z"
    }
   },
   "outputs": [],
   "source": [
    "# Join the tweet back together\n",
    "def rejoin_words(row):\n",
    "    words = row['stemmed']\n",
    "    joined_words = (\" \".join(words))\n",
    "    return joined_words"
   ]
  },
  {
   "cell_type": "code",
   "execution_count": 5,
   "metadata": {
    "ExecuteTime": {
     "end_time": "2022-01-21T13:51:10.520632Z",
     "start_time": "2022-01-21T13:51:10.280658Z"
    }
   },
   "outputs": [
    {
     "data": {
      "text/html": [
       "<div>\n",
       "<style scoped>\n",
       "    .dataframe tbody tr th:only-of-type {\n",
       "        vertical-align: middle;\n",
       "    }\n",
       "\n",
       "    .dataframe tbody tr th {\n",
       "        vertical-align: top;\n",
       "    }\n",
       "\n",
       "    .dataframe thead th {\n",
       "        text-align: right;\n",
       "    }\n",
       "</style>\n",
       "<table border=\"1\" class=\"dataframe\">\n",
       "  <thead>\n",
       "    <tr style=\"text-align: right;\">\n",
       "      <th></th>\n",
       "      <th>tweet_text</th>\n",
       "      <th>tidy_tweet</th>\n",
       "      <th>tidy_tweet_tokens</th>\n",
       "      <th>tokens_no_stop</th>\n",
       "      <th>no_stop_joined</th>\n",
       "      <th>islam</th>\n",
       "      <th>lemmatized</th>\n",
       "      <th>lemmatized_joined</th>\n",
       "      <th>stemmed</th>\n",
       "    </tr>\n",
       "  </thead>\n",
       "  <tbody>\n",
       "    <tr>\n",
       "      <th>0</th>\n",
       "      <td>Islam is a religion full of blessings and good...</td>\n",
       "      <td>islam full blessings good deeds which also res...</td>\n",
       "      <td>[islam, full, blessings, good, deeds, which, a...</td>\n",
       "      <td>[islam, full, blessings, good, deeds, also, re...</td>\n",
       "      <td>islam full blessings good deeds also respected...</td>\n",
       "      <td>1</td>\n",
       "      <td>[full, blessing, good, deed, also, respect, li...</td>\n",
       "      <td>full blessing good deed also respect life well...</td>\n",
       "      <td>[full, bless, good, deed, also, respect, life,...</td>\n",
       "    </tr>\n",
       "    <tr>\n",
       "      <th>1</th>\n",
       "      <td>@ wagner_claire Religion and pity are antonyms...</td>\n",
       "      <td>pity antonyms disaster other humanity live wit...</td>\n",
       "      <td>[pity, antonyms, disaster, other, humanity, li...</td>\n",
       "      <td>[pity, antonyms, disaster, humanity, live, wit...</td>\n",
       "      <td>pity antonyms disaster humanity live without pity</td>\n",
       "      <td>0</td>\n",
       "      <td>[disaster, humanity, live, pity]</td>\n",
       "      <td>disaster humanity live pity</td>\n",
       "      <td>[disast, human, live, piti]</td>\n",
       "    </tr>\n",
       "    <tr>\n",
       "      <th>2</th>\n",
       "      <td>if the only reason people are on twitter is to...</td>\n",
       "      <td>only reason people twitter argue about hitler ...</td>\n",
       "      <td>[only, reason, people, twitter, argue, about, ...</td>\n",
       "      <td>[reason, people, argue, hitler, count]</td>\n",
       "      <td>reason people argue hitler count</td>\n",
       "      <td>0</td>\n",
       "      <td>[reason, people, argue, count]</td>\n",
       "      <td>reason people argue count</td>\n",
       "      <td>[reason, peopl, argu, count]</td>\n",
       "    </tr>\n",
       "    <tr>\n",
       "      <th>3</th>\n",
       "      <td>Religion is needed to provide a moral compass ...</td>\n",
       "      <td>needed provide moral compass those lack empathy</td>\n",
       "      <td>[needed, provide, moral, compass, those, lack,...</td>\n",
       "      <td>[needed, provide, moral, compass, lack, empathy]</td>\n",
       "      <td>needed provide moral compass lack empathy</td>\n",
       "      <td>0</td>\n",
       "      <td>[need, provide, moral_compass, lack, empathy]</td>\n",
       "      <td>need provide moral_compass lack empathy</td>\n",
       "      <td>[need, provid, moral_compass, lack, empathi]</td>\n",
       "    </tr>\n",
       "    <tr>\n",
       "      <th>4</th>\n",
       "      <td>plus my religion has never been 'holier' than ...</td>\n",
       "      <td>plus never been holier than regular life regul...</td>\n",
       "      <td>[plus, never, been, holier, than, regular, lif...</td>\n",
       "      <td>[plus, never, holier, regular, life, regular, ...</td>\n",
       "      <td>plus never holier regular life regular life in...</td>\n",
       "      <td>0</td>\n",
       "      <td>[never, holier, regular, life, regular, life, ...</td>\n",
       "      <td>never holier regular life regular life include...</td>\n",
       "      <td>[never, holier, regular, life, regular, life, ...</td>\n",
       "    </tr>\n",
       "    <tr>\n",
       "      <th>...</th>\n",
       "      <td>...</td>\n",
       "      <td>...</td>\n",
       "      <td>...</td>\n",
       "      <td>...</td>\n",
       "      <td>...</td>\n",
       "      <td>...</td>\n",
       "      <td>...</td>\n",
       "      <td>...</td>\n",
       "      <td>...</td>\n",
       "    </tr>\n",
       "    <tr>\n",
       "      <th>49453</th>\n",
       "      <td>Now all you have is programs of religion being...</td>\n",
       "      <td>have programs being split into separate linked...</td>\n",
       "      <td>[have, programs, being, split, into, separate,...</td>\n",
       "      <td>[programs, split, separate, linked, cults, pro...</td>\n",
       "      <td>programs split separate linked cults prostitut...</td>\n",
       "      <td>0</td>\n",
       "      <td>[program, split, separate, link, cult, prostit...</td>\n",
       "      <td>program split separate link cult prostitution ...</td>\n",
       "      <td>[program, split, separ, link, cult, prostitut,...</td>\n",
       "    </tr>\n",
       "    <tr>\n",
       "      <th>49454</th>\n",
       "      <td>Morality is defined by conscience rather than ...</td>\n",
       "      <td>morality defined conscience rather than</td>\n",
       "      <td>[morality, defined, conscience, rather, than]</td>\n",
       "      <td>[morality, defined, conscience, rather]</td>\n",
       "      <td>morality defined conscience rather</td>\n",
       "      <td>0</td>\n",
       "      <td>[morality, define, conscience, rather]</td>\n",
       "      <td>morality define conscience rather</td>\n",
       "      <td>[moral, defin, conscienc, rather]</td>\n",
       "    </tr>\n",
       "    <tr>\n",
       "      <th>49455</th>\n",
       "      <td>Persecution of vulnerable minorities can be as...</td>\n",
       "      <td>persecution vulnerable minorities much functio...</td>\n",
       "      <td>[persecution, vulnerable, minorities, much, fu...</td>\n",
       "      <td>[persecution, vulnerable, minorities, much, fu...</td>\n",
       "      <td>persecution vulnerable minorities much functio...</td>\n",
       "      <td>0</td>\n",
       "      <td>[persecution, vulnerable, minority, much, func...</td>\n",
       "      <td>persecution vulnerable minority much function ...</td>\n",
       "      <td>[persecut, vulner, minor, much, function, auth...</td>\n",
       "    </tr>\n",
       "    <tr>\n",
       "      <th>49456</th>\n",
       "      <td>With his clerical fascism. Though the Catholic...</td>\n",
       "      <td>with clerical fascism though catholic church b...</td>\n",
       "      <td>[with, clerical, fascism, though, catholic, ch...</td>\n",
       "      <td>[clerical, fascism, though, catholic, church, ...</td>\n",
       "      <td>clerical fascism though catholic church becomi...</td>\n",
       "      <td>0</td>\n",
       "      <td>[clerical, fascism, catholic, church, become, ...</td>\n",
       "      <td>clerical fascism catholic church become white ...</td>\n",
       "      <td>[cleric, fascism, cathol, church, becom, white...</td>\n",
       "    </tr>\n",
       "    <tr>\n",
       "      <th>49457</th>\n",
       "      <td>The problems with many SJWs is that they treat...</td>\n",
       "      <td>problems with many sjws that they treat like e...</td>\n",
       "      <td>[problems, with, many, sjws, that, they, treat...</td>\n",
       "      <td>[problems, many, sjws, treat, like, every, fan...</td>\n",
       "      <td>problems many sjws treat like every fanatic pe...</td>\n",
       "      <td>0</td>\n",
       "      <td>[problem, many, sjw, treat, fanatic, people, n...</td>\n",
       "      <td>problem many sjw treat fanatic people normally...</td>\n",
       "      <td>[problem, mani, sjw, treat, fanat, peopl, norm...</td>\n",
       "    </tr>\n",
       "  </tbody>\n",
       "</table>\n",
       "<p>47347 rows × 9 columns</p>\n",
       "</div>"
      ],
      "text/plain": [
       "                                              tweet_text  \\\n",
       "0      Islam is a religion full of blessings and good...   \n",
       "1      @ wagner_claire Religion and pity are antonyms...   \n",
       "2      if the only reason people are on twitter is to...   \n",
       "3      Religion is needed to provide a moral compass ...   \n",
       "4      plus my religion has never been 'holier' than ...   \n",
       "...                                                  ...   \n",
       "49453  Now all you have is programs of religion being...   \n",
       "49454  Morality is defined by conscience rather than ...   \n",
       "49455  Persecution of vulnerable minorities can be as...   \n",
       "49456  With his clerical fascism. Though the Catholic...   \n",
       "49457  The problems with many SJWs is that they treat...   \n",
       "\n",
       "                                              tidy_tweet  \\\n",
       "0      islam full blessings good deeds which also res...   \n",
       "1      pity antonyms disaster other humanity live wit...   \n",
       "2      only reason people twitter argue about hitler ...   \n",
       "3        needed provide moral compass those lack empathy   \n",
       "4      plus never been holier than regular life regul...   \n",
       "...                                                  ...   \n",
       "49453  have programs being split into separate linked...   \n",
       "49454            morality defined conscience rather than   \n",
       "49455  persecution vulnerable minorities much functio...   \n",
       "49456  with clerical fascism though catholic church b...   \n",
       "49457  problems with many sjws that they treat like e...   \n",
       "\n",
       "                                       tidy_tweet_tokens  \\\n",
       "0      [islam, full, blessings, good, deeds, which, a...   \n",
       "1      [pity, antonyms, disaster, other, humanity, li...   \n",
       "2      [only, reason, people, twitter, argue, about, ...   \n",
       "3      [needed, provide, moral, compass, those, lack,...   \n",
       "4      [plus, never, been, holier, than, regular, lif...   \n",
       "...                                                  ...   \n",
       "49453  [have, programs, being, split, into, separate,...   \n",
       "49454      [morality, defined, conscience, rather, than]   \n",
       "49455  [persecution, vulnerable, minorities, much, fu...   \n",
       "49456  [with, clerical, fascism, though, catholic, ch...   \n",
       "49457  [problems, with, many, sjws, that, they, treat...   \n",
       "\n",
       "                                          tokens_no_stop  \\\n",
       "0      [islam, full, blessings, good, deeds, also, re...   \n",
       "1      [pity, antonyms, disaster, humanity, live, wit...   \n",
       "2                 [reason, people, argue, hitler, count]   \n",
       "3       [needed, provide, moral, compass, lack, empathy]   \n",
       "4      [plus, never, holier, regular, life, regular, ...   \n",
       "...                                                  ...   \n",
       "49453  [programs, split, separate, linked, cults, pro...   \n",
       "49454            [morality, defined, conscience, rather]   \n",
       "49455  [persecution, vulnerable, minorities, much, fu...   \n",
       "49456  [clerical, fascism, though, catholic, church, ...   \n",
       "49457  [problems, many, sjws, treat, like, every, fan...   \n",
       "\n",
       "                                          no_stop_joined islam  \\\n",
       "0      islam full blessings good deeds also respected...     1   \n",
       "1      pity antonyms disaster humanity live without pity     0   \n",
       "2                       reason people argue hitler count     0   \n",
       "3              needed provide moral compass lack empathy     0   \n",
       "4      plus never holier regular life regular life in...     0   \n",
       "...                                                  ...   ...   \n",
       "49453  programs split separate linked cults prostitut...     0   \n",
       "49454                 morality defined conscience rather     0   \n",
       "49455  persecution vulnerable minorities much functio...     0   \n",
       "49456  clerical fascism though catholic church becomi...     0   \n",
       "49457  problems many sjws treat like every fanatic pe...     0   \n",
       "\n",
       "                                              lemmatized  \\\n",
       "0      [full, blessing, good, deed, also, respect, li...   \n",
       "1                       [disaster, humanity, live, pity]   \n",
       "2                         [reason, people, argue, count]   \n",
       "3          [need, provide, moral_compass, lack, empathy]   \n",
       "4      [never, holier, regular, life, regular, life, ...   \n",
       "...                                                  ...   \n",
       "49453  [program, split, separate, link, cult, prostit...   \n",
       "49454             [morality, define, conscience, rather]   \n",
       "49455  [persecution, vulnerable, minority, much, func...   \n",
       "49456  [clerical, fascism, catholic, church, become, ...   \n",
       "49457  [problem, many, sjw, treat, fanatic, people, n...   \n",
       "\n",
       "                                       lemmatized_joined  \\\n",
       "0      full blessing good deed also respect life well...   \n",
       "1                            disaster humanity live pity   \n",
       "2                              reason people argue count   \n",
       "3                need provide moral_compass lack empathy   \n",
       "4      never holier regular life regular life include...   \n",
       "...                                                  ...   \n",
       "49453  program split separate link cult prostitution ...   \n",
       "49454                  morality define conscience rather   \n",
       "49455  persecution vulnerable minority much function ...   \n",
       "49456  clerical fascism catholic church become white ...   \n",
       "49457  problem many sjw treat fanatic people normally...   \n",
       "\n",
       "                                                 stemmed  \n",
       "0      [full, bless, good, deed, also, respect, life,...  \n",
       "1                            [disast, human, live, piti]  \n",
       "2                           [reason, peopl, argu, count]  \n",
       "3           [need, provid, moral_compass, lack, empathi]  \n",
       "4      [never, holier, regular, life, regular, life, ...  \n",
       "...                                                  ...  \n",
       "49453  [program, split, separ, link, cult, prostitut,...  \n",
       "49454                  [moral, defin, conscienc, rather]  \n",
       "49455  [persecut, vulner, minor, much, function, auth...  \n",
       "49456  [cleric, fascism, cathol, church, becom, white...  \n",
       "49457  [problem, mani, sjw, treat, fanat, peopl, norm...  \n",
       "\n",
       "[47347 rows x 9 columns]"
      ]
     },
     "execution_count": 5,
     "metadata": {},
     "output_type": "execute_result"
    }
   ],
   "source": [
    "df"
   ]
  },
  {
   "cell_type": "code",
   "execution_count": 19,
   "metadata": {
    "ExecuteTime": {
     "end_time": "2022-01-18T16:36:26.292218Z",
     "start_time": "2022-01-18T16:36:25.476891Z"
    }
   },
   "outputs": [],
   "source": [
    "df['stemmed_joined'] = df.apply(rejoin_words, axis=1)"
   ]
  },
  {
   "cell_type": "code",
   "execution_count": 20,
   "metadata": {
    "ExecuteTime": {
     "end_time": "2022-01-18T16:36:26.308204Z",
     "start_time": "2022-01-18T16:36:26.292218Z"
    }
   },
   "outputs": [],
   "source": [
    "vectorizer = CountVectorizer(analyzer='word',       \n",
    "                             max_df=0.9, \n",
    "                             min_df=25,                        # minimum reqd occurences of a word \n",
    "                             stop_words='english',             # remove stop words\n",
    "                             lowercase=True,                   # convert all words to lowercase\n",
    "                             token_pattern='[a-zA-Z0-9]{3,}',  # num chars > 3\n",
    "                             # max_features=50000,             # max number of uniq words\n",
    "                            )"
   ]
  },
  {
   "cell_type": "code",
   "execution_count": 21,
   "metadata": {
    "ExecuteTime": {
     "end_time": "2022-01-18T16:36:27.150760Z",
     "start_time": "2022-01-18T16:36:26.308204Z"
    }
   },
   "outputs": [],
   "source": [
    "data_vectorized = vectorizer.fit_transform(df['stemmed_joined'])"
   ]
  },
  {
   "cell_type": "code",
   "execution_count": 22,
   "metadata": {
    "ExecuteTime": {
     "end_time": "2022-01-18T16:36:27.903280Z",
     "start_time": "2022-01-18T16:36:27.155655Z"
    }
   },
   "outputs": [
    {
     "name": "stdout",
     "output_type": "stream",
     "text": [
      "Sparsicity:  33.0 %\n"
     ]
    }
   ],
   "source": [
    "# Materialize the sparse data\n",
    "data_dense = data_vectorized.todense()\n",
    "\n",
    "# Compute Sparsicity = Percentage of Non-Zero cells\n",
    "print(\"Sparsicity: \", round((((data_dense > 0).sum()/data_dense.size)*100),3)*100, \"%\")"
   ]
  },
  {
   "cell_type": "code",
   "execution_count": 23,
   "metadata": {
    "ExecuteTime": {
     "end_time": "2022-01-18T16:36:27.919293Z",
     "start_time": "2022-01-18T16:36:27.903280Z"
    }
   },
   "outputs": [
    {
     "data": {
      "text/plain": [
       "(47347, 2012)"
      ]
     },
     "execution_count": 23,
     "metadata": {},
     "output_type": "execute_result"
    }
   ],
   "source": [
    "data_dense.shape"
   ]
  },
  {
   "cell_type": "code",
   "execution_count": 24,
   "metadata": {
    "ExecuteTime": {
     "end_time": "2022-01-18T16:36:28.263280Z",
     "start_time": "2022-01-18T16:36:27.919293Z"
    }
   },
   "outputs": [],
   "source": [
    "# Build LDA Model\n",
    "lda_model = LatentDirichletAllocation(n_components=10,           # Number of topics\n",
    "                                      max_iter=10,               # Max learning iterations\n",
    "                                      learning_method='online',   \n",
    "                                      random_state=100,          # Random state\n",
    "                                      batch_size=128,            # n docs in each learning iter\n",
    "                                      evaluate_every = -1,       # compute perplexity every n iters, default: Don't\n",
    "                                      n_jobs = -1,               # Use all available CPUs\n",
    "                                     )"
   ]
  },
  {
   "cell_type": "code",
   "execution_count": 25,
   "metadata": {
    "ExecuteTime": {
     "end_time": "2022-01-18T16:38:07.034139Z",
     "start_time": "2022-01-18T16:36:28.263280Z"
    }
   },
   "outputs": [
    {
     "name": "stdout",
     "output_type": "stream",
     "text": [
      "LatentDirichletAllocation(batch_size=128, doc_topic_prior=None,\n",
      "                          evaluate_every=-1, learning_decay=0.7,\n",
      "                          learning_method='online', learning_offset=10.0,\n",
      "                          max_doc_update_iter=100, max_iter=10,\n",
      "                          mean_change_tol=0.001, n_components=10, n_jobs=-1,\n",
      "                          perp_tol=0.1, random_state=100, topic_word_prior=None,\n",
      "                          total_samples=1000000.0, verbose=0)\n"
     ]
    }
   ],
   "source": [
    "lda_output = lda_model.fit_transform(data_vectorized)\n",
    "\n",
    "print(lda_model)  # Model attributes"
   ]
  },
  {
   "cell_type": "code",
   "execution_count": 26,
   "metadata": {
    "ExecuteTime": {
     "end_time": "2022-01-18T16:38:12.601061Z",
     "start_time": "2022-01-18T16:38:07.036375Z"
    }
   },
   "outputs": [
    {
     "name": "stdout",
     "output_type": "stream",
     "text": [
      "Log Likelihood:  -2434480.0314071565\n",
      "Perplexity:  1463.42526671854\n",
      "{'batch_size': 128,\n",
      " 'doc_topic_prior': None,\n",
      " 'evaluate_every': -1,\n",
      " 'learning_decay': 0.7,\n",
      " 'learning_method': 'online',\n",
      " 'learning_offset': 10.0,\n",
      " 'max_doc_update_iter': 100,\n",
      " 'max_iter': 10,\n",
      " 'mean_change_tol': 0.001,\n",
      " 'n_components': 10,\n",
      " 'n_jobs': -1,\n",
      " 'perp_tol': 0.1,\n",
      " 'random_state': 100,\n",
      " 'topic_word_prior': None,\n",
      " 'total_samples': 1000000.0,\n",
      " 'verbose': 0}\n"
     ]
    }
   ],
   "source": [
    "# Log Likelyhood: Higher the better\n",
    "print(\"Log Likelihood: \", lda_model.score(data_vectorized))\n",
    "\n",
    "# Perplexity: Lower the better. Perplexity = exp(-1. * log-likelihood per word)\n",
    "print(\"Perplexity: \", lda_model.perplexity(data_vectorized))\n",
    "\n",
    "# See model parameters\n",
    "pprint(lda_model.get_params())"
   ]
  },
  {
   "cell_type": "code",
   "execution_count": 27,
   "metadata": {
    "ExecuteTime": {
     "end_time": "2022-01-18T17:44:29.743047Z",
     "start_time": "2022-01-18T16:38:12.601061Z"
    }
   },
   "outputs": [
    {
     "data": {
      "text/plain": [
       "GridSearchCV(cv=None, error_score=nan,\n",
       "             estimator=LatentDirichletAllocation(batch_size=128,\n",
       "                                                 doc_topic_prior=None,\n",
       "                                                 evaluate_every=-1,\n",
       "                                                 learning_decay=0.7,\n",
       "                                                 learning_method='batch',\n",
       "                                                 learning_offset=10.0,\n",
       "                                                 max_doc_update_iter=100,\n",
       "                                                 max_iter=10,\n",
       "                                                 mean_change_tol=0.001,\n",
       "                                                 n_components=10, n_jobs=None,\n",
       "                                                 perp_tol=0.1,\n",
       "                                                 random_state=None,\n",
       "                                                 topic_word_prior=None,\n",
       "                                                 total_samples=1000000.0,\n",
       "                                                 verbose=0),\n",
       "             iid='deprecated', n_jobs=None,\n",
       "             param_grid={'learning_decay': [0.5, 0.7, 0.9],\n",
       "                         'n_components': [4, 7, 10, 15]},\n",
       "             pre_dispatch='2*n_jobs', refit=True, return_train_score=False,\n",
       "             scoring=None, verbose=0)"
      ]
     },
     "execution_count": 27,
     "metadata": {},
     "output_type": "execute_result"
    }
   ],
   "source": [
    "# Define Search Param\n",
    "search_params = {'n_components': [4, 7, 10, 15], 'learning_decay': [.5, .7, .9]}\n",
    "\n",
    "# Init the Model\n",
    "lda = LatentDirichletAllocation()\n",
    "\n",
    "# Init Grid Search Class\n",
    "model = GridSearchCV(lda, param_grid=search_params)\n",
    "\n",
    "# Do the Grid Search\n",
    "model.fit(data_vectorized)"
   ]
  },
  {
   "cell_type": "code",
   "execution_count": 28,
   "metadata": {
    "ExecuteTime": {
     "end_time": "2022-01-18T17:44:37.921213Z",
     "start_time": "2022-01-18T17:44:29.748034Z"
    }
   },
   "outputs": [
    {
     "name": "stdout",
     "output_type": "stream",
     "text": [
      "Best Model's Params:  {'learning_decay': 0.7, 'n_components': 4}\n",
      "Best Log Likelihood Score:  -480771.14977709885\n",
      "Model Perplexity:  1076.0893720595157\n"
     ]
    }
   ],
   "source": [
    "# Best Model\n",
    "best_lda_model = model.best_estimator_\n",
    "\n",
    "# Model Parameters\n",
    "print(\"Best Model's Params: \", model.best_params_)\n",
    "\n",
    "# Log Likelihood Score\n",
    "print(\"Best Log Likelihood Score: \", model.best_score_)\n",
    "\n",
    "# Perplexity\n",
    "print(\"Model Perplexity: \", best_lda_model.perplexity(data_vectorized))"
   ]
  },
  {
   "cell_type": "code",
   "execution_count": 29,
   "metadata": {
    "ExecuteTime": {
     "end_time": "2022-01-18T17:44:51.395324Z",
     "start_time": "2022-01-18T17:44:37.923210Z"
    }
   },
   "outputs": [
    {
     "data": {
      "image/png": "[encoded data removed]",
      "text/plain": [
       "<Figure size 864x576 with 1 Axes>"
      ]
     },
     "metadata": {
      "needs_background": "light"
     },
     "output_type": "display_data"
    }
   ],
   "source": [
    "# Get Log Likelyhoods from Grid Search Output\n",
    "n_topics = [4, 7, 10, 14]\n",
    "log_likelyhoods_5 = [round(ele) for ele in model.cv_results_['mean_test_score'][0:4]]\n",
    "log_likelyhoods_7 = [round(ele) for ele in model.cv_results_['mean_test_score'][4:8]]\n",
    "log_likelyhoods_9 = [round(ele) for ele in model.cv_results_['mean_test_score'][8:12]]\n",
    "\n",
    "# Show graph\n",
    "plt.figure(figsize=(12, 8))\n",
    "plt.plot(n_topics, log_likelyhoods_5, label='0.5')\n",
    "plt.plot(n_topics, log_likelyhoods_7, label='0.7')\n",
    "plt.plot(n_topics, log_likelyhoods_9, label='0.9')\n",
    "plt.title(\"Choosing Optimal LDA Model\")\n",
    "plt.xlabel(\"Num Topics\")\n",
    "plt.ylabel(\"Log Likelyhood Scores\")\n",
    "plt.legend(title='Learning decay', loc='best')\n",
    "plt.show()"
   ]
  },
  {
   "cell_type": "code",
   "execution_count": 30,
   "metadata": {
    "ExecuteTime": {
     "end_time": "2022-01-18T17:45:06.927558Z",
     "start_time": "2022-01-18T17:44:51.397334Z"
    }
   },
   "outputs": [
    {
     "data": {
      "text/html": [
       "<style type=\"text/css\">\n",
       "#T_6e4ca_row0_col0, #T_6e4ca_row0_col2, #T_6e4ca_row0_col3, #T_6e4ca_row1_col0, #T_6e4ca_row1_col2, #T_6e4ca_row1_col3, #T_6e4ca_row2_col0, #T_6e4ca_row2_col2, #T_6e4ca_row3_col0, #T_6e4ca_row3_col2, #T_6e4ca_row3_col3, #T_6e4ca_row4_col0, #T_6e4ca_row4_col1, #T_6e4ca_row4_col2, #T_6e4ca_row5_col2, #T_6e4ca_row5_col3, #T_6e4ca_row6_col0, #T_6e4ca_row6_col3, #T_6e4ca_row7_col0, #T_6e4ca_row7_col1, #T_6e4ca_row7_col3, #T_6e4ca_row8_col0, #T_6e4ca_row8_col1, #T_6e4ca_row9_col0, #T_6e4ca_row9_col2, #T_6e4ca_row9_col3, #T_6e4ca_row10_col0, #T_6e4ca_row10_col1, #T_6e4ca_row10_col3, #T_6e4ca_row11_col1, #T_6e4ca_row11_col2, #T_6e4ca_row11_col3, #T_6e4ca_row11_col4, #T_6e4ca_row12_col1, #T_6e4ca_row13_col1, #T_6e4ca_row13_col3, #T_6e4ca_row14_col1, #T_6e4ca_row14_col3, #T_6e4ca_row14_col4 {\n",
       "  color: black;\n",
       "  font-weight: 400;\n",
       "}\n",
       "#T_6e4ca_row0_col1, #T_6e4ca_row0_col4, #T_6e4ca_row1_col1, #T_6e4ca_row1_col4, #T_6e4ca_row2_col1, #T_6e4ca_row2_col3, #T_6e4ca_row2_col4, #T_6e4ca_row3_col1, #T_6e4ca_row3_col4, #T_6e4ca_row4_col3, #T_6e4ca_row4_col4, #T_6e4ca_row5_col0, #T_6e4ca_row5_col1, #T_6e4ca_row5_col4, #T_6e4ca_row6_col1, #T_6e4ca_row6_col2, #T_6e4ca_row6_col4, #T_6e4ca_row7_col2, #T_6e4ca_row7_col4, #T_6e4ca_row8_col2, #T_6e4ca_row8_col3, #T_6e4ca_row8_col4, #T_6e4ca_row9_col1, #T_6e4ca_row9_col4, #T_6e4ca_row10_col2, #T_6e4ca_row10_col4, #T_6e4ca_row11_col0, #T_6e4ca_row12_col0, #T_6e4ca_row12_col2, #T_6e4ca_row12_col3, #T_6e4ca_row12_col4, #T_6e4ca_row13_col0, #T_6e4ca_row13_col2, #T_6e4ca_row13_col4, #T_6e4ca_row14_col0, #T_6e4ca_row14_col2 {\n",
       "  color: green;\n",
       "  font-weight: 700;\n",
       "}\n",
       "</style>\n",
       "<table id=\"T_6e4ca_\">\n",
       "  <thead>\n",
       "    <tr>\n",
       "      <th class=\"blank level0\" >&nbsp;</th>\n",
       "      <th class=\"col_heading level0 col0\" >Topic0</th>\n",
       "      <th class=\"col_heading level0 col1\" >Topic1</th>\n",
       "      <th class=\"col_heading level0 col2\" >Topic2</th>\n",
       "      <th class=\"col_heading level0 col3\" >Topic3</th>\n",
       "      <th class=\"col_heading level0 col4\" >dominant_topic</th>\n",
       "    </tr>\n",
       "  </thead>\n",
       "  <tbody>\n",
       "    <tr>\n",
       "      <th id=\"T_6e4ca_level0_row0\" class=\"row_heading level0 row0\" >Tweet 0</th>\n",
       "      <td id=\"T_6e4ca_row0_col0\" class=\"data row0 col0\" >0.030000</td>\n",
       "      <td id=\"T_6e4ca_row0_col1\" class=\"data row0 col1\" >0.900000</td>\n",
       "      <td id=\"T_6e4ca_row0_col2\" class=\"data row0 col2\" >0.030000</td>\n",
       "      <td id=\"T_6e4ca_row0_col3\" class=\"data row0 col3\" >0.030000</td>\n",
       "      <td id=\"T_6e4ca_row0_col4\" class=\"data row0 col4\" >1</td>\n",
       "    </tr>\n",
       "    <tr>\n",
       "      <th id=\"T_6e4ca_level0_row1\" class=\"row_heading level0 row1\" >Tweet 1</th>\n",
       "      <td id=\"T_6e4ca_row1_col0\" class=\"data row1 col0\" >0.050000</td>\n",
       "      <td id=\"T_6e4ca_row1_col1\" class=\"data row1 col1\" >0.840000</td>\n",
       "      <td id=\"T_6e4ca_row1_col2\" class=\"data row1 col2\" >0.050000</td>\n",
       "      <td id=\"T_6e4ca_row1_col3\" class=\"data row1 col3\" >0.060000</td>\n",
       "      <td id=\"T_6e4ca_row1_col4\" class=\"data row1 col4\" >1</td>\n",
       "    </tr>\n",
       "    <tr>\n",
       "      <th id=\"T_6e4ca_level0_row2\" class=\"row_heading level0 row2\" >Tweet 2</th>\n",
       "      <td id=\"T_6e4ca_row2_col0\" class=\"data row2 col0\" >0.060000</td>\n",
       "      <td id=\"T_6e4ca_row2_col1\" class=\"data row2 col1\" >0.500000</td>\n",
       "      <td id=\"T_6e4ca_row2_col2\" class=\"data row2 col2\" >0.050000</td>\n",
       "      <td id=\"T_6e4ca_row2_col3\" class=\"data row2 col3\" >0.390000</td>\n",
       "      <td id=\"T_6e4ca_row2_col4\" class=\"data row2 col4\" >1</td>\n",
       "    </tr>\n",
       "    <tr>\n",
       "      <th id=\"T_6e4ca_level0_row3\" class=\"row_heading level0 row3\" >Tweet 3</th>\n",
       "      <td id=\"T_6e4ca_row3_col0\" class=\"data row3 col0\" >0.040000</td>\n",
       "      <td id=\"T_6e4ca_row3_col1\" class=\"data row3 col1\" >0.890000</td>\n",
       "      <td id=\"T_6e4ca_row3_col2\" class=\"data row3 col2\" >0.040000</td>\n",
       "      <td id=\"T_6e4ca_row3_col3\" class=\"data row3 col3\" >0.040000</td>\n",
       "      <td id=\"T_6e4ca_row3_col4\" class=\"data row3 col4\" >1</td>\n",
       "    </tr>\n",
       "    <tr>\n",
       "      <th id=\"T_6e4ca_level0_row4\" class=\"row_heading level0 row4\" >Tweet 4</th>\n",
       "      <td id=\"T_6e4ca_row4_col0\" class=\"data row4 col0\" >0.040000</td>\n",
       "      <td id=\"T_6e4ca_row4_col1\" class=\"data row4 col1\" >0.050000</td>\n",
       "      <td id=\"T_6e4ca_row4_col2\" class=\"data row4 col2\" >0.040000</td>\n",
       "      <td id=\"T_6e4ca_row4_col3\" class=\"data row4 col3\" >0.870000</td>\n",
       "      <td id=\"T_6e4ca_row4_col4\" class=\"data row4 col4\" >3</td>\n",
       "    </tr>\n",
       "    <tr>\n",
       "      <th id=\"T_6e4ca_level0_row5\" class=\"row_heading level0 row5\" >Tweet 5</th>\n",
       "      <td id=\"T_6e4ca_row5_col0\" class=\"data row5 col0\" >0.400000</td>\n",
       "      <td id=\"T_6e4ca_row5_col1\" class=\"data row5 col1\" >0.490000</td>\n",
       "      <td id=\"T_6e4ca_row5_col2\" class=\"data row5 col2\" >0.050000</td>\n",
       "      <td id=\"T_6e4ca_row5_col3\" class=\"data row5 col3\" >0.050000</td>\n",
       "      <td id=\"T_6e4ca_row5_col4\" class=\"data row5 col4\" >1</td>\n",
       "    </tr>\n",
       "    <tr>\n",
       "      <th id=\"T_6e4ca_level0_row6\" class=\"row_heading level0 row6\" >Tweet 6</th>\n",
       "      <td id=\"T_6e4ca_row6_col0\" class=\"data row6 col0\" >0.050000</td>\n",
       "      <td id=\"T_6e4ca_row6_col1\" class=\"data row6 col1\" >0.630000</td>\n",
       "      <td id=\"T_6e4ca_row6_col2\" class=\"data row6 col2\" >0.270000</td>\n",
       "      <td id=\"T_6e4ca_row6_col3\" class=\"data row6 col3\" >0.050000</td>\n",
       "      <td id=\"T_6e4ca_row6_col4\" class=\"data row6 col4\" >1</td>\n",
       "    </tr>\n",
       "    <tr>\n",
       "      <th id=\"T_6e4ca_level0_row7\" class=\"row_heading level0 row7\" >Tweet 7</th>\n",
       "      <td id=\"T_6e4ca_row7_col0\" class=\"data row7 col0\" >0.040000</td>\n",
       "      <td id=\"T_6e4ca_row7_col1\" class=\"data row7 col1\" >0.040000</td>\n",
       "      <td id=\"T_6e4ca_row7_col2\" class=\"data row7 col2\" >0.870000</td>\n",
       "      <td id=\"T_6e4ca_row7_col3\" class=\"data row7 col3\" >0.040000</td>\n",
       "      <td id=\"T_6e4ca_row7_col4\" class=\"data row7 col4\" >2</td>\n",
       "    </tr>\n",
       "    <tr>\n",
       "      <th id=\"T_6e4ca_level0_row8\" class=\"row_heading level0 row8\" >Tweet 8</th>\n",
       "      <td id=\"T_6e4ca_row8_col0\" class=\"data row8 col0\" >0.040000</td>\n",
       "      <td id=\"T_6e4ca_row8_col1\" class=\"data row8 col1\" >0.040000</td>\n",
       "      <td id=\"T_6e4ca_row8_col2\" class=\"data row8 col2\" >0.510000</td>\n",
       "      <td id=\"T_6e4ca_row8_col3\" class=\"data row8 col3\" >0.410000</td>\n",
       "      <td id=\"T_6e4ca_row8_col4\" class=\"data row8 col4\" >2</td>\n",
       "    </tr>\n",
       "    <tr>\n",
       "      <th id=\"T_6e4ca_level0_row9\" class=\"row_heading level0 row9\" >Tweet 9</th>\n",
       "      <td id=\"T_6e4ca_row9_col0\" class=\"data row9 col0\" >0.060000</td>\n",
       "      <td id=\"T_6e4ca_row9_col1\" class=\"data row9 col1\" >0.810000</td>\n",
       "      <td id=\"T_6e4ca_row9_col2\" class=\"data row9 col2\" >0.070000</td>\n",
       "      <td id=\"T_6e4ca_row9_col3\" class=\"data row9 col3\" >0.060000</td>\n",
       "      <td id=\"T_6e4ca_row9_col4\" class=\"data row9 col4\" >1</td>\n",
       "    </tr>\n",
       "    <tr>\n",
       "      <th id=\"T_6e4ca_level0_row10\" class=\"row_heading level0 row10\" >Tweet 10</th>\n",
       "      <td id=\"T_6e4ca_row10_col0\" class=\"data row10 col0\" >0.080000</td>\n",
       "      <td id=\"T_6e4ca_row10_col1\" class=\"data row10 col1\" >0.090000</td>\n",
       "      <td id=\"T_6e4ca_row10_col2\" class=\"data row10 col2\" >0.740000</td>\n",
       "      <td id=\"T_6e4ca_row10_col3\" class=\"data row10 col3\" >0.090000</td>\n",
       "      <td id=\"T_6e4ca_row10_col4\" class=\"data row10 col4\" >2</td>\n",
       "    </tr>\n",
       "    <tr>\n",
       "      <th id=\"T_6e4ca_level0_row11\" class=\"row_heading level0 row11\" >Tweet 11</th>\n",
       "      <td id=\"T_6e4ca_row11_col0\" class=\"data row11 col0\" >0.810000</td>\n",
       "      <td id=\"T_6e4ca_row11_col1\" class=\"data row11 col1\" >0.060000</td>\n",
       "      <td id=\"T_6e4ca_row11_col2\" class=\"data row11 col2\" >0.060000</td>\n",
       "      <td id=\"T_6e4ca_row11_col3\" class=\"data row11 col3\" >0.060000</td>\n",
       "      <td id=\"T_6e4ca_row11_col4\" class=\"data row11 col4\" >0</td>\n",
       "    </tr>\n",
       "    <tr>\n",
       "      <th id=\"T_6e4ca_level0_row12\" class=\"row_heading level0 row12\" >Tweet 12</th>\n",
       "      <td id=\"T_6e4ca_row12_col0\" class=\"data row12 col0\" >0.110000</td>\n",
       "      <td id=\"T_6e4ca_row12_col1\" class=\"data row12 col1\" >0.030000</td>\n",
       "      <td id=\"T_6e4ca_row12_col2\" class=\"data row12 col2\" >0.490000</td>\n",
       "      <td id=\"T_6e4ca_row12_col3\" class=\"data row12 col3\" >0.370000</td>\n",
       "      <td id=\"T_6e4ca_row12_col4\" class=\"data row12 col4\" >2</td>\n",
       "    </tr>\n",
       "    <tr>\n",
       "      <th id=\"T_6e4ca_level0_row13\" class=\"row_heading level0 row13\" >Tweet 13</th>\n",
       "      <td id=\"T_6e4ca_row13_col0\" class=\"data row13 col0\" >0.430000</td>\n",
       "      <td id=\"T_6e4ca_row13_col1\" class=\"data row13 col1\" >0.040000</td>\n",
       "      <td id=\"T_6e4ca_row13_col2\" class=\"data row13 col2\" >0.480000</td>\n",
       "      <td id=\"T_6e4ca_row13_col3\" class=\"data row13 col3\" >0.040000</td>\n",
       "      <td id=\"T_6e4ca_row13_col4\" class=\"data row13 col4\" >2</td>\n",
       "    </tr>\n",
       "    <tr>\n",
       "      <th id=\"T_6e4ca_level0_row14\" class=\"row_heading level0 row14\" >Tweet 14</th>\n",
       "      <td id=\"T_6e4ca_row14_col0\" class=\"data row14 col0\" >0.520000</td>\n",
       "      <td id=\"T_6e4ca_row14_col1\" class=\"data row14 col1\" >0.050000</td>\n",
       "      <td id=\"T_6e4ca_row14_col2\" class=\"data row14 col2\" >0.370000</td>\n",
       "      <td id=\"T_6e4ca_row14_col3\" class=\"data row14 col3\" >0.050000</td>\n",
       "      <td id=\"T_6e4ca_row14_col4\" class=\"data row14 col4\" >0</td>\n",
       "    </tr>\n",
       "  </tbody>\n",
       "</table>\n"
      ],
      "text/plain": [
       "<pandas.io.formats.style.Styler at 0x224dff38d60>"
      ]
     },
     "execution_count": 30,
     "metadata": {},
     "output_type": "execute_result"
    }
   ],
   "source": [
    "# Create Document - Topic Matrix\n",
    "lda_output = best_lda_model.transform(data_vectorized)\n",
    "\n",
    "# column names\n",
    "topicnames = [\"Topic\" + str(i) for i in range(best_lda_model.n_components)]\n",
    "\n",
    "# index names\n",
    "docnames = [\"Tweet \" + str(i) for i in range(47347)]\n",
    "\n",
    "# Make the pandas dataframe\n",
    "df_document_topic = pd.DataFrame(np.round(lda_output, 2), columns=topicnames, index=docnames)\n",
    "\n",
    "# Get dominant topic for each document\n",
    "dominant_topic = np.argmax(df_document_topic.values, axis=1)\n",
    "df_document_topic['dominant_topic'] = dominant_topic\n",
    "\n",
    "# Styling\n",
    "def color_green(val):\n",
    "    color = 'green' if val > .1 else 'black'\n",
    "    return 'color: {col}'.format(col=color)\n",
    "\n",
    "def make_bold(val):\n",
    "    weight = 700 if val > .1 else 400\n",
    "    return 'font-weight: {weight}'.format(weight=weight)\n",
    "\n",
    "# Apply Style\n",
    "df_document_topics = df_document_topic.head(15).style.applymap(color_green).applymap(make_bold)\n",
    "df_document_topics"
   ]
  },
  {
   "cell_type": "code",
   "execution_count": 31,
   "metadata": {
    "ExecuteTime": {
     "end_time": "2022-01-18T17:45:07.692022Z",
     "start_time": "2022-01-18T17:45:06.927558Z"
    }
   },
   "outputs": [
    {
     "data": {
      "text/html": [
       "<div>\n",
       "<style scoped>\n",
       "    .dataframe tbody tr th:only-of-type {\n",
       "        vertical-align: middle;\n",
       "    }\n",
       "\n",
       "    .dataframe tbody tr th {\n",
       "        vertical-align: top;\n",
       "    }\n",
       "\n",
       "    .dataframe thead th {\n",
       "        text-align: right;\n",
       "    }\n",
       "</style>\n",
       "<table border=\"1\" class=\"dataframe\">\n",
       "  <thead>\n",
       "    <tr style=\"text-align: right;\">\n",
       "      <th></th>\n",
       "      <th>Topic Num</th>\n",
       "      <th>Num Documents</th>\n",
       "    </tr>\n",
       "  </thead>\n",
       "  <tbody>\n",
       "    <tr>\n",
       "      <th>0</th>\n",
       "      <td>3</td>\n",
       "      <td>13591</td>\n",
       "    </tr>\n",
       "    <tr>\n",
       "      <th>1</th>\n",
       "      <td>1</td>\n",
       "      <td>11416</td>\n",
       "    </tr>\n",
       "    <tr>\n",
       "      <th>2</th>\n",
       "      <td>2</td>\n",
       "      <td>11228</td>\n",
       "    </tr>\n",
       "    <tr>\n",
       "      <th>3</th>\n",
       "      <td>0</td>\n",
       "      <td>11112</td>\n",
       "    </tr>\n",
       "  </tbody>\n",
       "</table>\n",
       "</div>"
      ],
      "text/plain": [
       "   Topic Num  Num Documents\n",
       "0          3          13591\n",
       "1          1          11416\n",
       "2          2          11228\n",
       "3          0          11112"
      ]
     },
     "execution_count": 31,
     "metadata": {},
     "output_type": "execute_result"
    }
   ],
   "source": [
    "df_topic_distribution = df_document_topic['dominant_topic'].value_counts().reset_index(name=\"Num Documents\")\n",
    "df_topic_distribution.columns = ['Topic Num', 'Num Documents']\n",
    "df_topic_distribution"
   ]
  },
  {
   "cell_type": "code",
   "execution_count": 32,
   "metadata": {
    "ExecuteTime": {
     "end_time": "2022-01-18T17:45:08.215368Z",
     "start_time": "2022-01-18T17:45:07.694048Z"
    }
   },
   "outputs": [
    {
     "name": "stdout",
     "output_type": "stream",
     "text": [
      "Total Tweets 47347\n"
     ]
    },
    {
     "data": {
      "image/png": "[encoded data removed]",
      "text/plain": [
       "<Figure size 576x432 with 1 Axes>"
      ]
     },
     "metadata": {
      "needs_background": "light"
     },
     "output_type": "display_data"
    }
   ],
   "source": [
    "label = ['Topic 0', 'Topic 1', 'Topic 2', 'Topic 3']\n",
    "freq = df_topic_distribution['Num Documents']\n",
    "index = np.arange(len(freq))\n",
    "\n",
    "print(\"Total Tweets\", df_topic_distribution['Num Documents'].sum())\n",
    "plt.figure(figsize=(8,6))\n",
    "plt.bar(index, freq, alpha=0.8, color= 'black', width=0.7)\n",
    "plt.xlabel('Topics', fontsize=13)\n",
    "plt.ylabel('Number of Tweets', fontsize=13)\n",
    "plt.xticks(index, label, fontsize=11, fontweight=\"bold\") \n",
    "plt.title('Topic Distribution', fontsize=12, fontweight=\"bold\")\n",
    "plt.show()"
   ]
  },
  {
   "cell_type": "code",
   "execution_count": 33,
   "metadata": {
    "ExecuteTime": {
     "end_time": "2022-01-18T17:45:39.510319Z",
     "start_time": "2022-01-18T17:45:08.217248Z"
    }
   },
   "outputs": [
    {
     "name": "stderr",
     "output_type": "stream",
     "text": [
      "C:\\ProgramData\\Anaconda3\\lib\\site-packages\\pyLDAvis\\_prepare.py:246: FutureWarning: In a future version of pandas all arguments of DataFrame.drop except for the argument 'labels' will be keyword-only\n",
      "  default_term_info = default_term_info.sort_values(\n"
     ]
    },
    {
     "data": {
      "text/html": [
       "\n",
       "<link rel=\"stylesheet\" type=\"text/css\" href=\"https://cdn.jsdelivr.net/gh/bmabey/pyLDAvis@3.3.1/pyLDAvis/js/ldavis.v1.0.0.css\">\n",
       "\n",
       "\n",
       "<div id=\"ldavis_el1166423572240525445730010995\"></div>\n",
       "<script type=\"text/javascript\">\n",
       "\n",
       "var ldavis_el1166423572240525445730010995_data = {\"mdsDat\": {\"x\": [269.5624084472656, 1.782994270324707, 220.81143188476562, 50.533992767333984], \"y\": [-124.80339813232422, -295.0796813964844, -343.8321228027344, -76.05093383789062], \"topics\": [1, 2, 3, 4], \"cluster\": [1, 1, 1, 1], \"Freq\": [27.659231579248498, 24.934058361871465, 24.811540523051182, 22.595169535828855]}, \"tinfo\": {\"Term\": [\"believ\", \"say\", \"christian\", \"love\", \"cultur\", \"belief\", \"church\", \"good\", \"practic\", \"right\", \"scienc\", \"hate\", \"differ\", \"freedom\", \"peac\", \"time\", \"faith\", \"race\", \"year\", \"moral\", \"evil\", \"state\", \"life\", \"talk\", \"leav\", \"nation\", \"atheist\", \"chang\", \"power\", \"equal\", \"equal\", \"video\", \"send\", \"laugh\", \"favorit\", \"joke\", \"funni\", \"movi\", \"hair\", \"famili\", \"face\", \"east\", \"orient\", \"song\", \"retweet\", \"travel\", \"month\", \"guarante\", \"year\", \"tomorrow\", \"bitch\", \"planet\", \"drag\", \"minut\", \"crazi\", \"colleg\", \"ruin\", \"awesom\", \"opportun\", \"dedic\", \"treat\", \"disabl\", \"leav\", \"hinduism\", \"talk\", \"middle\", \"watch\", \"girl\", \"time\", \"peac\", \"sexual\", \"teacher\", \"right\", \"gender\", \"fuck\", \"prayer\", \"great\", \"realli\", \"shit\", \"discrimin\", \"thing\", \"care\", \"class\", \"protect\", \"race\", \"think\", \"woman\", \"good\", \"countri\", \"know\", \"peopl\", \"world\", \"need\", \"live\", \"muslim\", \"want\", \"matter\", \"make\", \"real\", \"polit\", \"human\", \"come\", \"freedom\", \"practic\", \"anti\", \"buddhism\", \"tool\", \"liberti\", \"version\", \"climate\", \"gain\", \"gospel\", \"connect\", \"western\", \"seek\", \"sacrific\", \"church\", \"african\", \"catholic\", \"wit\", \"nativ\", \"merci\", \"mission\", \"degre\", \"space\", \"scholar\", \"regim\", \"european\", \"guis\", \"theolog\", \"corpor\", \"dollar\", \"languag\", \"war\", \"movement\", \"event\", \"biblic\", \"arab\", \"cultur\", \"tradit\", \"cathol\", \"capit\", \"separ\", \"power\", \"chang\", \"school\", \"symbol\", \"social\", \"differ\", \"christian\", \"freedom\", \"state\", \"ideolog\", \"public\", \"common\", \"especi\", \"ident\", \"forc\", \"creat\", \"teach\", \"polit\", \"black\", \"govern\", \"spiritu\", \"use\", \"problem\", \"world\", \"control\", \"educ\", \"mani\", \"mean\", \"make\", \"peopl\", \"thing\", \"think\", \"base\", \"know\", \"moral\", \"natur\", \"pure\", \"scientolog\", \"scientif\", \"compass\", \"sport\", \"evolut\", \"ethic\", \"candid\", \"method\", \"vegan\", \"fascin\", \"evid\", \"supernatur\", \"poison\", \"afterlif\", \"sicken\", \"widow\", \"mindset\", \"biolog\", \"higher\", \"fuel\", \"smile\", \"flat\", \"reward\", \"denial\", \"patriarchi\", \"believ\", \"conspiraci\", \"choic\", \"sin\", \"damag\", \"evil\", \"scienc\", \"babi\", \"wisdom\", \"belief\", \"love\", \"blind\", \"heart\", \"suit\", \"irrat\", \"hate\", \"faith\", \"beauti\", \"reject\", \"prove\", \"reason\", \"root\", \"life\", \"behavior\", \"human\", \"form\", \"good\", \"peopl\", \"lie\", \"person\", \"base\", \"organ\", \"truth\", \"choos\", \"need\", \"exist\", \"fact\", \"make\", \"mani\", \"child\", \"world\", \"know\", \"follow\", \"mean\", \"woman\", \"think\", \"idiot\", \"critic\", \"terrorist\", \"say\", \"inde\", \"violenc\", \"mormon\", \"compuls\", \"card\", \"sing\", \"patriot\", \"unit\", \"exclus\", \"narr\", \"impli\", \"angri\", \"gang\", \"suck\", \"fastest\", \"equival\", \"increas\", \"mark\", \"somewher\", \"mate\", \"rude\", \"isra\", \"hitler\", \"apolog\", \"united\", \"respond\", \"land\", \"disrespect\", \"violent\", \"racist\", \"respons\", \"context\", \"pervert\", \"blame\", \"dumb\", \"involv\", \"superior\", \"toler\", \"insult\", \"irrelev\", \"accus\", \"atheist\", \"jewish\", \"nation\", \"write\", \"murder\", \"attack\", \"atheism\", \"convert\", \"commit\", \"fake\", \"word\", \"poor\", \"group\", \"tri\", \"entir\", \"tell\", \"wrong\", \"race\", \"kill\", \"peopl\", \"christian\", \"muslim\", \"respect\", \"want\", \"point\", \"stop\", \"think\", \"make\", \"claim\", \"know\", \"use\", \"countri\", \"follow\"], \"Freq\": [3079.0, 2704.0, 2777.0, 1944.0, 1344.0, 1462.0, 1096.0, 2298.0, 982.0, 2549.0, 1151.0, 1692.0, 1614.0, 1737.0, 1409.0, 1354.0, 1510.0, 2085.0, 737.0, 638.0, 732.0, 1250.0, 1637.0, 939.0, 712.0, 868.0, 747.0, 814.0, 669.0, 542.0, 541.288642193175, 257.70483008905103, 134.80712509730955, 110.29330372505538, 103.41563002268457, 230.1827412451466, 245.7813731292332, 97.51561154362328, 86.7182726021205, 489.6689558859662, 274.5127675884945, 76.8888606206874, 203.37198622089602, 73.93616308814892, 85.59153377056572, 68.04070386608223, 67.05753146259364, 68.00892642240116, 728.2713081273668, 60.14318351764023, 57.228291639133985, 122.19438983559293, 53.29363591845527, 53.282880603966014, 182.09351365995335, 71.65936573576283, 54.225221859276296, 50.33686175201117, 74.48662748806947, 47.38537268301763, 354.47930296018643, 70.5110795881007, 683.2143167187695, 218.0859735270503, 855.5428289584379, 95.7195837580372, 277.85927114716105, 245.55097333385012, 1151.654979180614, 1153.9686798647092, 473.29840301194884, 137.45460905580913, 1925.6466553292069, 496.1559728921535, 533.0239670397326, 199.52496260987698, 625.293739570293, 880.3808584959801, 408.0717020009683, 355.67497630272896, 1441.1685103075665, 511.01350455290066, 357.1047666214644, 377.23887485640864, 1152.8656909684694, 1496.5394090679456, 767.8409974597691, 1135.7036990444278, 913.5495547882947, 1234.711413579202, 1911.8323067112556, 930.6661431092732, 782.452607632852, 581.688255409319, 620.8856069300426, 770.7011745645049, 517.6943455228756, 841.323490142056, 470.49017300506614, 607.9791178809465, 566.5101944186795, 524.4176598719769, 504.29559388566554, 979.2648725826313, 491.29535723749507, 154.70502589671813, 218.12570306233897, 135.7185970987063, 125.80242852583741, 112.85390730008844, 112.84581588600263, 102.8522149205176, 157.20596815592063, 203.59817463312427, 199.59793980270678, 119.48885861803485, 1085.626711829848, 84.82160770472598, 73.96176678586068, 65.99907462293147, 63.019357979192975, 69.91152045704133, 63.01043018587696, 62.017895191493785, 78.74301249087347, 61.02274701426413, 59.03424091552148, 58.03560186381115, 61.96485496741439, 117.99477892471133, 56.04247585152947, 55.0283644948673, 263.3282032224163, 162.292720205258, 158.28539377148658, 94.09313297271036, 75.59250837074912, 82.3868436586599, 1286.7630485162979, 281.9761689734658, 449.30478307348545, 116.08357834254444, 347.63576260857263, 607.0533055116663, 697.3985440550634, 572.9958217042373, 130.726900800198, 353.89683690901234, 1257.0310219812866, 1890.8591066424071, 1204.0728634588238, 898.4825754634746, 432.4429051494636, 309.2755477205772, 240.74057007928465, 246.7451787527673, 209.45370932291135, 551.9371580786169, 383.8746557392664, 623.6169541401637, 961.0606013864794, 279.11394374399794, 522.1049405579614, 368.5926671827178, 589.2851753754496, 491.907453525716, 660.4657938284648, 374.1387306460822, 292.41093372091666, 468.6378713440403, 444.37781407330203, 603.8272191403129, 772.3022959092962, 542.4321371863142, 580.0852800565618, 451.3410289389705, 498.55454138211115, 637.9433744390309, 379.19862273059505, 236.7687192926985, 137.95448157363435, 137.9517743715042, 113.01693828201233, 113.00040071406801, 158.87284546230347, 144.05888348177032, 68.06005051411647, 68.04805435717108, 63.104632466718705, 53.12279432338372, 417.72313120346337, 48.146097496844895, 84.48268277412593, 48.122214316766794, 47.138092067821056, 46.15225622292606, 45.140985741936994, 45.138255100534415, 42.1574497432633, 41.1408893529201, 40.157507809359004, 44.04732578606208, 54.81000462179084, 45.985457062654945, 37.15185889055326, 3014.6639656171774, 36.151672592872536, 473.7156791193833, 115.90048503938574, 65.33577226145935, 697.6378592125866, 1072.3658585062449, 138.0379151585679, 64.26728597545326, 1315.7410737727628, 1685.7424423878817, 156.8819096481434, 310.1266960620033, 71.17022442393879, 53.67421619936567, 1332.0491220100841, 1168.5504229609226, 271.8747020169505, 159.50043977575038, 319.2960367530235, 718.1895439643366, 172.06686825678554, 1030.0790334780518, 120.06026607238364, 1044.9566184037599, 287.22728393009015, 1137.7623859032628, 2400.6452619428633, 283.11877994214336, 803.639179773917, 736.8388930795384, 368.4148064876074, 421.6026000858981, 322.17977858384336, 678.8845135121708, 344.40489579999235, 463.9447778744294, 923.7431975287228, 496.66002658125024, 387.95733162273785, 525.8699919404534, 532.6349837826383, 403.49763416297657, 401.84174415173027, 375.1524557354282, 397.3790941147563, 182.30621516848052, 370.5661597113848, 420.26228264728076, 2687.278343260641, 136.1648253100993, 384.051049684025, 84.28612484874004, 81.29381688988587, 81.28877684105194, 81.27914702158992, 76.28356716791528, 107.92664498503095, 76.23849612908691, 76.2331981305616, 68.25920746669715, 66.27702229516287, 61.2704685183096, 66.20802040120205, 59.27980840876833, 54.27018945987682, 55.251525941216016, 72.97626716843028, 52.25388339223028, 50.26814697438957, 50.25328978729791, 48.26848463513336, 49.24055516164013, 47.265382614886896, 47.2613030720995, 46.25790960699448, 204.33367364216326, 179.0134594883813, 206.55542796140327, 474.29767787326114, 276.23279411501375, 79.26137612638087, 57.9863403330363, 269.4404986395575, 145.1019632313791, 177.63141076439433, 94.76552285160308, 273.68426717974427, 187.55757813966957, 125.73121075281726, 101.84015266021049, 591.9406244549635, 470.47033172924296, 653.5935398174184, 296.5289633968601, 349.4730352141498, 392.28006234534166, 406.68960857450486, 231.86579145365224, 150.49036289306548, 254.4211160308206, 488.38156310408567, 206.6246624334488, 419.2909694284672, 490.0826276837959, 312.22747710079113, 636.4302482657184, 608.1868272122668, 815.3363169340469, 529.7730401026836, 1500.4196524135057, 866.9188845358542, 533.5012790937509, 448.4796320480875, 643.2965305031762, 441.8234479753633, 401.1860925566717, 792.5501911853231, 711.9933893965966, 362.1692193840656, 584.1161176673328, 426.4175189359405, 456.1946944658941, 415.71308200036276], \"Total\": [3079.0, 2704.0, 2777.0, 1944.0, 1344.0, 1462.0, 1096.0, 2298.0, 982.0, 2549.0, 1151.0, 1692.0, 1614.0, 1737.0, 1409.0, 1354.0, 1510.0, 2085.0, 737.0, 638.0, 732.0, 1250.0, 1637.0, 939.0, 712.0, 868.0, 747.0, 814.0, 669.0, 542.0, 542.5028844423332, 258.4782829144864, 135.63391841501712, 111.06409414018064, 104.18474768052938, 231.96175210007436, 247.68727990570875, 98.28824620894227, 87.47765777498884, 494.4015409031056, 277.1846989868266, 77.65007788025206, 205.42884860217444, 74.70187668423374, 86.4970027610865, 68.80528497374844, 67.82252298015445, 68.80573399719073, 737.2091152069794, 60.94384851387547, 57.99494479590665, 123.853612520232, 54.06396634472964, 54.06413916441626, 184.80595084614203, 72.7419671678432, 55.04751070035551, 51.11579957044864, 75.69135120686181, 48.16758354714121, 361.7680505979165, 71.76149895299137, 712.9210232037332, 227.16139411227428, 939.9568881746546, 98.31357101825634, 299.1318204349308, 263.6730634027443, 1354.2043996942011, 1409.8697021637954, 544.5813997987158, 145.58103146832823, 2549.8339202219504, 587.2539887048467, 645.7184699415724, 219.51182430901667, 778.7067362715785, 1214.2434649332574, 507.9075530001228, 443.4679022230697, 2368.8188272145126, 699.7308790295149, 456.4829247394212, 496.01660478021995, 2085.082624129729, 3266.5539744245866, 1313.8854782657288, 2298.8774278252436, 1736.10709042334, 2850.017056411284, 6585.199516976922, 2118.4204573038255, 1713.2837510761947, 1067.2786074854623, 1234.2022964415905, 1941.386882189788, 960.4180411300025, 3080.8872962076885, 812.2947216757879, 2047.7627303376814, 1804.726252190693, 1398.988476344688, 1737.0960204215519, 982.6513811902558, 493.3365621219001, 155.47268076494757, 219.25776004431575, 136.53677945487226, 126.57033632442385, 113.61404841432736, 113.61409425286186, 103.64758564660083, 158.45586910160324, 205.30229601707737, 201.31975222219185, 120.58583547590509, 1096.30138051709, 85.70852436609532, 74.74541948869373, 66.77227529271126, 63.78241500048706, 70.75894524594524, 63.78230168341702, 62.785730660532685, 79.7264701130818, 61.78911697674166, 59.79587556917728, 58.79920536142886, 62.78573844498514, 119.59508547217963, 56.805961254103, 55.80935280429178, 267.07542842912704, 165.40656518583017, 161.42240019625692, 95.6769728605436, 76.7399955129427, 83.71204024188708, 1344.5568529349666, 290.9277634366259, 468.45850264923337, 119.60504191822075, 374.75723192546144, 669.9600635677363, 814.253762936317, 672.3388562073742, 137.51608003008698, 405.22105597984216, 1614.15682984767, 2777.877724167304, 1737.0960204215519, 1250.9428182206443, 568.4472166703545, 383.00021368180205, 283.08020960436016, 295.36843729323965, 243.83684225923693, 854.6012590940115, 533.4071270266114, 1075.5420888033689, 2047.7627303376814, 363.5843211874306, 932.7080483447448, 576.3453154326991, 1294.6493446964732, 1102.7016381602893, 2118.4204573038255, 717.0648972838727, 438.9741845230171, 1429.956659793056, 1285.4424353703553, 3080.8872962076885, 6585.199516976922, 2368.8188272145126, 3266.5539744245866, 1403.5975372048777, 2850.017056411284, 638.7524326558678, 380.25532108895686, 237.5337230641589, 138.7260774471245, 138.72627701841515, 113.77482100898101, 113.77457982102291, 160.68198820879562, 145.71186152063044, 68.86218617107154, 68.86240686863935, 63.87184722432171, 53.89138756158506, 424.1370915895016, 48.90119343071005, 85.82839093004716, 48.90099528130489, 47.90307544649104, 46.90503824332089, 45.90693294194271, 45.90694158536139, 42.9128456714839, 41.91470429655691, 40.91664853310205, 44.90740932063429, 55.88274878005464, 46.90415085245281, 37.922435973752634, 3079.0763873662227, 36.92442993660109, 487.0253996576674, 118.75215988257126, 66.86228065239428, 732.1836806223575, 1151.6433965407232, 142.67485842302247, 65.86485499840339, 1462.9346606245733, 1944.7299199190836, 166.6922121592903, 343.8581817128393, 73.8574652699039, 54.890761440732255, 1692.8929202354282, 1510.1520935741316, 324.57793167002825, 181.63577198389203, 404.001549591014, 1016.7713855780248, 202.19181100605314, 1637.953167219572, 134.72598149696591, 1804.726252190693, 387.10008460428725, 2298.8774278252436, 6585.199516976922, 387.7179696105548, 1565.4292936881714, 1403.5975372048777, 590.5504015710403, 792.2428558659977, 523.1305699402836, 1713.2837510761947, 591.204092711283, 957.2473093221384, 3080.8872962076885, 1429.956659793056, 840.9192198154715, 2118.4204573038255, 2850.017056411284, 1269.2379800062158, 1285.4424353703553, 1313.8854782657288, 3266.5539744245866, 183.11803306196325, 372.2444107479074, 422.2741583351149, 2704.7563769238686, 137.0862835219036, 387.24979565386377, 85.05149985176868, 82.04956520926915, 82.04948701691617, 82.04936188116915, 77.04612144352967, 109.0636298395983, 77.04600929357456, 77.04587285398203, 69.0406332398275, 67.03928381331104, 62.035900138085026, 67.0390979947608, 60.03459960024257, 55.03117098059441, 56.031558027912894, 74.0385449902928, 53.02969349645524, 51.02842079493052, 51.02814401631355, 49.02707250443473, 50.02725373432585, 48.026327956457024, 48.02637765024951, 47.02564193607918, 208.10533577726858, 182.0803977565517, 212.05715126398607, 491.14515551482685, 287.99962291530665, 81.03055953631015, 59.033078802021244, 284.9798593798704, 151.00281073547762, 187.08744149879396, 98.0536592867016, 301.061970116736, 204.0873228363404, 133.98669413773305, 107.05094761066992, 747.0950707677922, 593.8984602708864, 868.5833859095974, 363.16098371988437, 454.73986414726943, 526.0053352185356, 549.9930542390109, 283.97787731209155, 172.05086609183513, 325.9968321675806, 725.827909565978, 253.9638393029589, 622.6137161728695, 765.2139729489268, 442.0945301366222, 1204.15696296229, 1301.7848543374314, 2085.082624129729, 1125.4750441008573, 6585.199516976922, 2777.877724167304, 1234.2022964415905, 926.4849812638308, 1941.386882189788, 954.5582104225625, 790.4757590228476, 3266.5539744245866, 3080.8872962076885, 649.4635327817333, 2850.017056411284, 1294.6493446964732, 1736.10709042334, 1269.2379800062158], \"Category\": [\"Default\", \"Default\", \"Default\", \"Default\", \"Default\", \"Default\", \"Default\", \"Default\", \"Default\", \"Default\", \"Default\", \"Default\", \"Default\", \"Default\", \"Default\", \"Default\", \"Default\", \"Default\", \"Default\", \"Default\", \"Default\", \"Default\", \"Default\", \"Default\", \"Default\", \"Default\", \"Default\", \"Default\", \"Default\", \"Default\", \"Topic1\", \"Topic1\", \"Topic1\", \"Topic1\", \"Topic1\", \"Topic1\", \"Topic1\", \"Topic1\", \"Topic1\", \"Topic1\", \"Topic1\", \"Topic1\", \"Topic1\", \"Topic1\", \"Topic1\", \"Topic1\", \"Topic1\", \"Topic1\", \"Topic1\", \"Topic1\", \"Topic1\", \"Topic1\", \"Topic1\", \"Topic1\", \"Topic1\", \"Topic1\", \"Topic1\", \"Topic1\", \"Topic1\", \"Topic1\", \"Topic1\", \"Topic1\", \"Topic1\", \"Topic1\", \"Topic1\", \"Topic1\", \"Topic1\", \"Topic1\", \"Topic1\", \"Topic1\", \"Topic1\", \"Topic1\", \"Topic1\", \"Topic1\", \"Topic1\", \"Topic1\", \"Topic1\", \"Topic1\", \"Topic1\", \"Topic1\", \"Topic1\", \"Topic1\", \"Topic1\", \"Topic1\", \"Topic1\", \"Topic1\", \"Topic1\", \"Topic1\", \"Topic1\", \"Topic1\", \"Topic1\", \"Topic1\", \"Topic1\", \"Topic1\", \"Topic1\", \"Topic1\", \"Topic1\", \"Topic1\", \"Topic1\", \"Topic1\", \"Topic1\", \"Topic1\", \"Topic1\", \"Topic2\", \"Topic2\", \"Topic2\", \"Topic2\", \"Topic2\", \"Topic2\", \"Topic2\", \"Topic2\", \"Topic2\", \"Topic2\", \"Topic2\", \"Topic2\", \"Topic2\", \"Topic2\", \"Topic2\", \"Topic2\", \"Topic2\", \"Topic2\", \"Topic2\", \"Topic2\", \"Topic2\", \"Topic2\", \"Topic2\", \"Topic2\", \"Topic2\", \"Topic2\", \"Topic2\", \"Topic2\", \"Topic2\", \"Topic2\", \"Topic2\", \"Topic2\", \"Topic2\", \"Topic2\", \"Topic2\", \"Topic2\", \"Topic2\", \"Topic2\", \"Topic2\", \"Topic2\", \"Topic2\", \"Topic2\", \"Topic2\", \"Topic2\", \"Topic2\", \"Topic2\", \"Topic2\", \"Topic2\", \"Topic2\", \"Topic2\", \"Topic2\", \"Topic2\", \"Topic2\", \"Topic2\", \"Topic2\", \"Topic2\", \"Topic2\", \"Topic2\", \"Topic2\", \"Topic2\", \"Topic2\", \"Topic2\", \"Topic2\", \"Topic2\", \"Topic2\", \"Topic2\", \"Topic2\", \"Topic2\", \"Topic2\", \"Topic2\", \"Topic2\", \"Topic2\", \"Topic2\", \"Topic2\", \"Topic3\", \"Topic3\", \"Topic3\", \"Topic3\", \"Topic3\", \"Topic3\", \"Topic3\", \"Topic3\", \"Topic3\", \"Topic3\", \"Topic3\", \"Topic3\", \"Topic3\", \"Topic3\", \"Topic3\", \"Topic3\", \"Topic3\", \"Topic3\", \"Topic3\", \"Topic3\", \"Topic3\", \"Topic3\", \"Topic3\", \"Topic3\", \"Topic3\", \"Topic3\", \"Topic3\", \"Topic3\", \"Topic3\", \"Topic3\", \"Topic3\", \"Topic3\", \"Topic3\", \"Topic3\", \"Topic3\", \"Topic3\", \"Topic3\", \"Topic3\", \"Topic3\", \"Topic3\", \"Topic3\", \"Topic3\", \"Topic3\", \"Topic3\", \"Topic3\", \"Topic3\", \"Topic3\", \"Topic3\", \"Topic3\", \"Topic3\", \"Topic3\", \"Topic3\", \"Topic3\", \"Topic3\", \"Topic3\", \"Topic3\", \"Topic3\", \"Topic3\", \"Topic3\", \"Topic3\", \"Topic3\", \"Topic3\", \"Topic3\", \"Topic3\", \"Topic3\", \"Topic3\", \"Topic3\", \"Topic3\", \"Topic3\", \"Topic3\", \"Topic3\", \"Topic3\", \"Topic3\", \"Topic3\", \"Topic4\", \"Topic4\", \"Topic4\", \"Topic4\", \"Topic4\", \"Topic4\", \"Topic4\", \"Topic4\", \"Topic4\", \"Topic4\", \"Topic4\", \"Topic4\", \"Topic4\", \"Topic4\", \"Topic4\", \"Topic4\", \"Topic4\", \"Topic4\", \"Topic4\", \"Topic4\", \"Topic4\", \"Topic4\", \"Topic4\", \"Topic4\", \"Topic4\", \"Topic4\", \"Topic4\", \"Topic4\", \"Topic4\", \"Topic4\", \"Topic4\", \"Topic4\", \"Topic4\", \"Topic4\", \"Topic4\", \"Topic4\", \"Topic4\", \"Topic4\", \"Topic4\", \"Topic4\", \"Topic4\", \"Topic4\", \"Topic4\", \"Topic4\", \"Topic4\", \"Topic4\", \"Topic4\", \"Topic4\", \"Topic4\", \"Topic4\", \"Topic4\", \"Topic4\", \"Topic4\", \"Topic4\", \"Topic4\", \"Topic4\", \"Topic4\", \"Topic4\", \"Topic4\", \"Topic4\", \"Topic4\", \"Topic4\", \"Topic4\", \"Topic4\", \"Topic4\", \"Topic4\", \"Topic4\", \"Topic4\", \"Topic4\", \"Topic4\", \"Topic4\", \"Topic4\", \"Topic4\", \"Topic4\", \"Topic4\", \"Topic4\", \"Topic4\", \"Topic4\"], \"logprob\": [30.0, 29.0, 28.0, 27.0, 26.0, 25.0, 24.0, 23.0, 22.0, 21.0, 20.0, 19.0, 18.0, 17.0, 16.0, 15.0, 14.0, 13.0, 12.0, 11.0, 10.0, 9.0, 8.0, 7.0, 6.0, 5.0, 4.0, 3.0, 2.0, 1.0, -5.1398, -5.8819, -6.5299, -6.7306, -6.795, -5.9949, -5.9293, -6.8537, -6.9711, -5.24, -5.8187, -7.0914, -6.1187, -7.1305, -6.9841, -7.2136, -7.2282, -7.2141, -4.8431, -7.337, -7.3867, -6.6281, -7.4579, -7.4581, -6.2292, -7.1618, -7.4406, -7.515, -7.1231, -7.5754, -5.5631, -7.178, -4.9069, -6.0488, -4.682, -6.8723, -5.8066, -5.9302, -4.3848, -4.3828, -5.274, -6.5104, -3.8707, -5.2268, -5.1552, -6.1378, -4.9955, -4.6534, -5.4223, -5.5597, -4.1605, -5.1973, -5.5557, -5.5009, -4.3837, -4.1228, -4.7901, -4.3987, -4.6164, -4.3151, -3.8779, -4.5978, -4.7713, -5.0678, -5.0026, -4.7864, -5.1843, -4.6988, -5.28, -5.0236, -5.0942, -5.1714, -5.2106, -4.4432, -5.133, -6.2885, -5.9449, -6.4194, -6.4953, -6.6039, -6.604, -6.6967, -6.2724, -6.0139, -6.0337, -6.5468, -4.3401, -6.8895, -7.0265, -7.1404, -7.1866, -7.0828, -7.1867, -7.2026, -6.9638, -7.2188, -7.2519, -7.2689, -7.2034, -6.5594, -7.3039, -7.3222, -5.7566, -6.2406, -6.2656, -6.7857, -7.0046, -6.9186, -4.1701, -5.6882, -5.2223, -6.5757, -5.4789, -4.9214, -4.7826, -4.9791, -6.4569, -5.461, -4.1935, -3.7852, -4.2365, -4.5293, -5.2606, -5.5958, -5.8463, -5.8216, -5.9855, -5.0166, -5.3797, -4.8945, -4.462, -5.6984, -5.0721, -5.4203, -4.9511, -5.1317, -4.8371, -5.4054, -5.6518, -5.1802, -5.2333, -4.9267, -4.6806, -5.0339, -4.9668, -5.2178, -5.1183, -4.8668, -5.387, -5.858, -6.3982, -6.3982, -6.5975, -6.5977, -6.257, -6.3549, -7.1047, -7.1049, -7.1803, -7.3525, -5.2903, -7.4508, -6.8885, -7.4513, -7.472, -7.4931, -7.5153, -7.5153, -7.5837, -7.6081, -7.6323, -7.5398, -7.3212, -7.4968, -7.7101, -3.3138, -7.7374, -5.1645, -6.5723, -7.1455, -4.7774, -4.3475, -6.3976, -7.162, -4.1429, -3.8951, -6.2696, -5.5881, -7.06, -7.3421, -4.1306, -4.2616, -5.7197, -6.253, -5.559, -4.7483, -6.1772, -4.3877, -6.5371, -4.3733, -5.6648, -4.2883, -3.5416, -5.6792, -4.6359, -4.7227, -5.4159, -5.281, -5.55, -4.8046, -5.4833, -5.1853, -4.4966, -5.1172, -5.3642, -5.06, -5.0472, -5.3249, -5.329, -5.3977, -5.3402, -6.0258, -5.3165, -5.1906, -3.3352, -6.3176, -5.2807, -6.7973, -6.8334, -6.8335, -6.8336, -6.897, -6.5501, -6.8976, -6.8977, -7.0082, -7.0377, -7.1162, -7.0387, -7.1492, -7.2375, -7.2196, -6.9414, -7.2754, -7.3141, -7.3144, -7.3547, -7.3348, -7.3757, -7.3758, -7.3973, -5.9118, -6.044, -5.9009, -5.0697, -5.6103, -6.8588, -7.1713, -5.6352, -6.2541, -6.0518, -6.6801, -5.6195, -5.9974, -6.3974, -6.6081, -4.8481, -5.0778, -4.749, -5.5394, -5.3751, -5.2595, -5.2235, -5.7853, -6.2176, -5.6925, -5.0404, -5.9006, -5.1929, -5.0369, -5.4878, -4.7756, -4.821, -4.5279, -4.9591, -3.918, -4.4666, -4.952, -5.1256, -4.7649, -5.1406, -5.2371, -4.5563, -4.6634, -5.3394, -4.8614, -5.1761, -5.1086, -5.2015], \"loglift\": [30.0, 29.0, 28.0, 27.0, 26.0, 25.0, 24.0, 23.0, 22.0, 21.0, 20.0, 19.0, 18.0, 17.0, 16.0, 15.0, 14.0, 13.0, 12.0, 11.0, 10.0, 9.0, 8.0, 7.0, 6.0, 5.0, 4.0, 3.0, 2.0, 1.0, 1.283, 1.2822, 1.2791, 1.2782, 1.2778, 1.2775, 1.2775, 1.2773, 1.2765, 1.2756, 1.2755, 1.2754, 1.2751, 1.2749, 1.2747, 1.274, 1.2739, 1.2736, 1.273, 1.272, 1.2719, 1.2717, 1.2709, 1.2707, 1.2704, 1.2702, 1.2702, 1.2699, 1.2692, 1.2688, 1.2649, 1.2676, 1.2426, 1.2444, 1.1911, 1.2585, 1.2114, 1.214, 1.1232, 1.0849, 1.1449, 1.2278, 1.0044, 1.1166, 1.0934, 1.1897, 1.0658, 0.9637, 1.0664, 1.0646, 0.7883, 0.9709, 1.0397, 1.0115, 0.6927, 0.5046, 0.748, 0.58, 0.6431, 0.4487, 0.0484, 0.4627, 0.5015, 0.6783, 0.5982, 0.3614, 0.6672, -0.0128, 0.7391, 0.0708, 0.1265, 0.304, 0.0484, 1.3855, 1.3848, 1.384, 1.3838, 1.3829, 1.3828, 1.3822, 1.3822, 1.3812, 1.381, 1.3806, 1.3803, 1.3798, 1.3792, 1.3785, 1.3784, 1.3773, 1.3769, 1.3769, 1.3768, 1.3766, 1.3765, 1.3765, 1.3761, 1.3759, 1.3758, 1.3755, 1.3754, 1.3748, 1.3748, 1.3699, 1.3693, 1.3722, 1.3739, 1.373, 1.345, 1.3577, 1.3472, 1.3591, 1.3138, 1.2903, 1.234, 1.2291, 1.3383, 1.2535, 1.1389, 1.0043, 1.0224, 1.058, 1.1155, 1.1751, 1.2269, 1.2091, 1.2369, 0.9517, 1.06, 0.8439, 0.6325, 1.1245, 0.8087, 0.9419, 0.6019, 0.5817, 0.2235, 0.7384, 0.9827, 0.2734, 0.3268, -0.2407, -0.7543, -0.0851, -0.3394, 0.2544, -0.3544, 1.3926, 1.3911, 1.3906, 1.3883, 1.3883, 1.3872, 1.387, 1.3825, 1.3825, 1.3821, 1.382, 1.3818, 1.3795, 1.3786, 1.3783, 1.3781, 1.3778, 1.3778, 1.3777, 1.377, 1.377, 1.3761, 1.3752, 1.3751, 1.3745, 1.3745, 1.3741, 1.3733, 1.3727, 1.3727, 1.3662, 1.3696, 1.3708, 1.3455, 1.3225, 1.3608, 1.3693, 1.2878, 1.2509, 1.3332, 1.2906, 1.3568, 1.3714, 1.1541, 1.1374, 1.2167, 1.2639, 1.1586, 1.0462, 1.2325, 0.93, 1.2786, 0.8474, 1.0955, 0.6905, 0.3848, 1.0794, 0.7271, 0.7494, 0.922, 0.7631, 0.9091, 0.4681, 0.8535, 0.6696, 0.1893, 0.3364, 0.6203, 0.0005, -0.2834, 0.2479, 0.2311, 0.1404, -0.7127, 1.483, 1.4829, 1.4827, 1.481, 1.4807, 1.4791, 1.4784, 1.4782, 1.4781, 1.478, 1.4775, 1.477, 1.4769, 1.4768, 1.4761, 1.476, 1.475, 1.475, 1.4748, 1.4735, 1.4734, 1.473, 1.4727, 1.4724, 1.4721, 1.4718, 1.4716, 1.4715, 1.4714, 1.471, 1.4691, 1.4704, 1.4611, 1.4525, 1.4457, 1.4654, 1.4695, 1.4314, 1.4476, 1.4356, 1.4533, 1.3921, 1.403, 1.4238, 1.4375, 1.2546, 1.2545, 1.2031, 1.2847, 1.2241, 1.1941, 1.1856, 1.2847, 1.3535, 1.2395, 1.0912, 1.2811, 1.0921, 1.0419, 1.1396, 0.8498, 0.7264, 0.5485, 0.7339, 0.0084, 0.3229, 0.6487, 0.7619, 0.3829, 0.7171, 0.8092, 0.0712, 0.0225, 0.9034, -0.0975, 0.3769, 0.151, 0.3713]}, \"token.table\": {\"Topic\": [1, 3, 4, 2, 3, 4, 2, 4, 4, 1, 2, 4, 3, 4, 2, 3, 4, 1, 2, 3, 4, 1, 1, 2, 3, 1, 2, 3, 4, 1, 3, 4, 2, 3, 4, 1, 2, 3, 4, 1, 2, 3, 4, 2, 4, 3, 1, 1, 2, 1, 2, 3, 4, 3, 4, 2, 3, 2, 4, 4, 1, 2, 3, 4, 2, 3, 4, 2, 1, 2, 3, 4, 1, 2, 3, 4, 1, 2, 3, 4, 1, 2, 3, 4, 1, 2, 3, 4, 1, 2, 3, 2, 3, 4, 1, 2, 3, 4, 2, 1, 4, 1, 2, 3, 4, 1, 3, 4, 1, 2, 3, 4, 3, 4, 1, 2, 3, 1, 4, 2, 3, 2, 4, 2, 1, 2, 3, 4, 1, 4, 2, 3, 3, 4, 1, 2, 3, 4, 2, 3, 1, 2, 3, 1, 2, 3, 4, 1, 3, 1, 2, 3, 1, 3, 4, 2, 1, 1, 4, 1, 1, 2, 3, 4, 1, 2, 3, 4, 1, 3, 4, 1, 2, 4, 2, 3, 4, 2, 2, 4, 1, 2, 3, 4, 1, 2, 3, 4, 2, 3, 4, 1, 2, 3, 4, 1, 4, 1, 2, 3, 4, 1, 2, 3, 4, 1, 2, 3, 4, 1, 3, 3, 4, 1, 3, 1, 2, 3, 4, 1, 2, 3, 4, 2, 3, 1, 2, 3, 4, 1, 3, 4, 3, 1, 4, 2, 4, 1, 3, 4, 1, 3, 4, 1, 3, 4, 2, 1, 2, 3, 4, 1, 2, 3, 4, 2, 3, 4, 1, 2, 1, 1, 2, 3, 4, 1, 2, 3, 4, 3, 1, 3, 4, 4, 1, 2, 3, 4, 1, 2, 3, 4, 1, 2, 3, 4, 4, 4, 4, 4, 3, 4, 2, 3, 4, 3, 4, 1, 3, 4, 4, 2, 4, 1, 4, 1, 2, 3, 4, 1, 2, 3, 4, 1, 2, 4, 1, 2, 3, 1, 1, 2, 3, 2, 1, 2, 3, 4, 1, 2, 3, 4, 1, 2, 3, 4, 1, 2, 3, 4, 1, 2, 3, 4, 1, 2, 3, 4, 1, 4, 4, 1, 2, 3, 4, 1, 2, 3, 4, 2, 3, 1, 2, 3, 1, 2, 1, 3, 4, 1, 2, 1, 1, 2, 3, 4, 1, 2, 4, 4, 1, 2, 4, 2, 2, 3, 1, 2, 3, 4, 1, 3, 1, 2, 3, 4, 1, 3, 3, 4, 1, 2, 3, 4, 1, 2, 3, 4, 1, 2, 3, 4, 3, 4, 1, 3, 1, 2, 3, 4, 2, 3, 1, 2, 3, 4, 1, 2, 3, 4, 1, 2, 3, 4, 1, 2, 4, 1, 4, 1, 2, 3, 4, 1, 2, 3, 4, 1, 3, 4, 1, 2, 4, 3, 1, 2, 3, 4, 1, 2, 3, 4, 1, 2, 3, 4, 1, 2, 3, 4, 1, 2, 3, 4, 2, 1, 2, 3, 4, 1, 2, 3, 4, 4, 1, 2, 4, 1, 1, 3, 1, 2, 3, 4, 1, 2, 3, 4, 1, 1, 2, 1, 2, 4, 2, 1, 2, 3, 2, 3, 4, 3, 3, 2, 3, 4, 1, 1, 2, 3, 4, 1, 3, 4, 1, 4, 3, 1, 2, 3, 4, 4, 3, 1, 2, 3, 4, 4, 1, 2, 2, 3, 3, 1, 2, 3, 4, 1, 2, 3, 4, 4, 3, 4, 3, 4, 3, 1, 2, 4, 1, 2, 3, 4, 1, 2, 3, 4, 1, 2, 4, 1, 3, 4, 2, 4, 2, 3, 1, 2, 3, 4, 1, 2, 3, 4, 1, 2, 3, 4, 1, 2, 4, 1, 2, 3, 1, 2, 4, 1, 1, 3, 1, 2, 3, 4, 1, 2, 3, 4, 4, 4, 1, 2, 3, 4, 3, 2, 1, 3, 4, 1, 2, 4, 1, 2, 3, 4, 1, 2, 1, 2, 3, 4, 2, 3, 3, 1, 3, 4, 2, 1, 2, 3, 4, 1, 2, 3, 4, 1, 2, 3, 4, 1, 2, 3, 4, 1, 2, 3, 4, 1, 2, 4], \"Freq\": [0.00934134654871872, 0.03736538619487488, 0.9528173479693095, 0.9917333267450863, 0.9815751136327211, 0.9844973908700276, 0.9952637564265453, 0.004054027521085724, 0.9786298890602766, 0.011945712911911911, 0.9795484587767767, 0.011945712911911911, 0.2600032834921155, 0.7400093453237133, 0.0013385177323848444, 0.20613173078726602, 0.7924024975718278, 0.24334353937079511, 0.007604485605337347, 0.0038022428026686737, 0.74523958932306, 0.9781711412161161, 0.02102683004671488, 0.007008943348904959, 0.9672341821488843, 0.1403536232988165, 0.32131717821201145, 0.5250792912245065, 0.012824188930856332, 0.15712713349793453, 0.8380113786556508, 0.006161848372468021, 0.08164720626101153, 0.8906967955746713, 0.02226741988936678, 0.0006835575278345433, 0.09979939906384333, 0.899561706630259, 0.0006835575278345433, 0.001623863578219602, 0.0003247727156439204, 0.97918973766642, 0.018836817507347385, 0.9903571076855497, 0.013031014574809865, 0.9802439118346628, 0.9828442841111753, 0.2310330646977963, 0.7673598220319663, 0.038599218990199934, 0.003509019908199994, 0.014036079632799976, 0.9439263553057984, 0.9418556390023279, 0.05399172452879587, 0.9969597181792845, 0.987479541109403, 0.9698587796935377, 0.025082554647246666, 0.9872090971549914, 0.7302807626679655, 0.0014291208662778189, 0.23437582206956228, 0.03429890079066766, 0.9584626972523898, 0.025615929547948058, 0.014942625569636367, 0.9900272218178335, 0.09456511410193162, 0.8559985003772252, 0.03193107748896393, 0.017193657109442113, 0.40431945422130855, 0.1296200603238901, 0.46139984775843446, 0.004756699461427159, 0.0020532810007504844, 0.02258609100825533, 0.9732551943557297, 0.004106562001500969, 0.10704784468319736, 0.17204117895513862, 0.6155251069283849, 0.10513627602814027, 0.0064797668534512885, 0.6807355066597993, 0.000719974094827921, 0.3121087701079037, 0.000912157931907677, 0.9906035140517372, 0.00912157931907677, 0.23557904682451056, 0.20632413251297002, 0.5573831042514563, 0.7820664928568576, 0.14896504625844906, 0.039431924009589454, 0.030669274229680688, 0.9945953126140876, 0.9898000123349537, 0.013747222393541024, 0.37455633756835527, 0.2530399685099194, 0.264476803244831, 0.10793512781072834, 0.00581223461825663, 0.12205692698338924, 0.8718351927384945, 0.0070651353649739375, 0.8513488114793595, 0.14130270729947875, 0.0035325676824869688, 0.9931898727494386, 0.987208156355342, 0.006310905400157766, 0.9908121478247692, 0.9749642732958009, 0.012341023013075648, 0.9749408180329762, 0.5215706436288434, 0.47694427839856807, 0.18311285545265213, 0.8169650474041402, 0.9858120303519239, 0.5264652192493069, 0.18720043354050847, 0.024192056026773403, 0.26265660829068266, 0.9848167722235411, 0.010822162332126826, 0.7199003922961127, 0.27933635013573127, 0.0026864070248652392, 0.9966570062250037, 0.004462436814704337, 0.9571926967540803, 0.005949915752939116, 0.03198079717204775, 0.014956115619190908, 0.9721475152474089, 0.975759972555017, 0.9874855217536459, 0.9807234362839866, 0.001239036977707267, 0.7787347404890173, 0.18833362061150455, 0.0315954429315353, 0.989388474821433, 0.013935048941146944, 0.8027638487822907, 0.1939260983013399, 0.0045099092628218575, 0.010984158781738135, 0.0054920793908690676, 0.9830822109655631, 0.9854979001973029, 0.9803202314468487, 0.0331119664306041, 0.960247026487519, 0.9916281103896049, 0.11617995271274519, 0.6651871802376783, 0.18224306307881596, 0.03417057432727799, 0.11535994345878758, 0.11988386281011258, 0.061072911242887544, 0.7057314188067005, 0.997229720826502, 0.0018433081715831829, 0.9812620563542427, 0.15573769635491397, 0.8362437173839945, 0.010156806284016127, 0.006862859272842494, 0.9882517352893192, 0.006862859272842494, 0.9864078883971938, 0.9824725551989619, 0.010451835693605978, 0.004715456487205055, 0.004715456487205055, 0.9855304058258565, 0.004715456487205055, 0.03414443760717249, 0.010926220034295199, 0.953312697992256, 0.0027315550085737998, 0.006223472905379825, 0.9895321919553921, 0.9864235759494192, 0.08119023631901852, 0.17252925217791434, 0.5818633602862994, 0.16238047263803704, 0.9921182554635513, 0.007215405494280373, 0.0752156723751836, 0.2266916792418728, 0.48472322197340545, 0.21415573384600886, 0.029136138132857602, 0.16355968451854155, 0.7740942153934213, 0.033109247878247275, 0.003067514470465603, 0.03681017364558724, 0.18098335375747057, 0.7791486754982632, 0.9910972346585621, 0.00809058967068214, 0.9834595544498382, 0.9827666111353828, 0.9886283961241402, 0.979793772690037, 0.20799881831357356, 0.1465446219936541, 0.3175133476529172, 0.32775571370623713, 0.021062454341668466, 0.6459152664778329, 0.18137113460881177, 0.1521177258009389, 0.25574781287170906, 0.7414103262038434, 0.2901394016651372, 0.6931107928667166, 0.0023026936640090255, 0.014391835400056409, 0.8254371290451523, 0.004645987593124685, 0.17035287841457178, 0.9781770070454237, 0.9931878621043798, 0.004037349032944634, 0.9945949113364833, 0.9833016022048648, 0.8446089929400021, 0.06641078775133082, 0.08854771700177443, 0.9329735727469827, 0.04551090598765769, 0.022755452993828845, 0.4941542277330832, 0.49502421757064147, 0.010874872969478065, 0.9937520431126216, 0.037525139900008025, 0.5596606579372626, 0.06754525182001445, 0.3345098185372144, 0.8026128077336006, 0.051367219694950436, 0.1309864102221236, 0.015410165908485129, 0.30355900470962943, 0.022485852200713294, 0.6729694337213479, 0.9882897260099918, 0.9874853993208405, 0.9945396597584096, 0.18193708315418253, 0.02008396372481236, 0.7868188141602959, 0.010632686677841837, 0.08724527027556206, 0.002908175675852069, 0.9015344595141414, 0.005816351351704138, 0.9787279156811897, 0.9596701096677269, 0.030815095264560038, 0.00880431293273144, 0.9794661178128791, 0.3141750718768228, 0.05928877017781312, 0.5790351853814459, 0.04820675706046487, 0.10662867743488044, 0.8571305224573083, 0.004101102978264632, 0.02870772084785243, 0.012314247998261089, 0.7599650193212558, 0.04046110056571501, 0.1864728982593822, 0.9938944677197088, 0.9849272350064833, 0.9815896958032292, 0.9920759138405701, 0.07839781412013795, 0.9211743159116209, 0.04276075366636285, 0.010690188416590713, 0.9514267690765735, 0.9837721063189468, 0.018218001968869385, 0.03731713833360346, 0.022390283000162076, 0.9403918860068071, 0.9790509110177479, 0.20710611026655595, 0.7913810717502544, 0.9915427777109219, 0.004311055555264878, 0.3820608926460269, 0.013327705557419542, 0.13327705557419542, 0.47091226302882383, 0.4333307399763779, 0.17508667145604256, 0.18701642462138413, 0.2049110543693965, 0.00961051763776285, 0.00961051763776285, 0.9802727990518108, 0.007488521170829961, 0.98474053396414, 0.007488521170829961, 0.9904190985536911, 0.9580303817254908, 0.03646967778164387, 0.004208039744035831, 0.9960686090808984, 0.10832616306689913, 0.025791943587356935, 0.7299120035222013, 0.13669730101299177, 0.30281696078158377, 0.06349387887355788, 0.6288336080746598, 0.004884144528735221, 0.5453121574049048, 0.016865324455821798, 0.2764039285815239, 0.1620945072698428, 0.11312624840427907, 0.01851156792070021, 0.8669584309527932, 0.001542630660058351, 0.2729733090318493, 0.19604741813940188, 0.29991359993511146, 0.23110225449545388, 0.22308368426086833, 0.32798196839607285, 0.34756298143464437, 0.10210099655826575, 0.013506478282779733, 0.9859729146429206, 0.979846117537843, 0.539348468913115, 0.006247279562700174, 0.30819912509320857, 0.1468110697234541, 0.0669030348101291, 0.3454063657639223, 0.3127327906240918, 0.27461361962762293, 0.9892742148246093, 0.9874763763299116, 0.9764674297322928, 0.0203430714527561, 0.9802440963962963, 0.9803170977867589, 0.987734815728351, 0.9878724213725413, 0.99882202772561, 0.9876369040686963, 0.012389854181132268, 0.9787984803094492, 0.9970673379568752, 0.03298589189695977, 0.08356425947229808, 0.11435109190946052, 0.7674717514692639, 0.5031590054486577, 0.0648191955489414, 0.4326681302891838, 0.9864253227948474, 0.011512999399047687, 0.2360164876804776, 0.7529501606977187, 0.9877330608996056, 0.0026298119830019686, 0.9966987415577462, 0.4564334422180732, 0.12082061705772526, 0.39631497092848045, 0.0262653515342881, 0.9776546305503332, 0.013211549061490989, 0.01524002011692366, 0.3031070667699261, 0.6231474892253229, 0.059266744899147565, 0.988176691741684, 0.00973573095312004, 0.9756757193975861, 0.9864221400905117, 0.8185153551628922, 0.009929995643223995, 0.0007092854030874283, 0.17022849674098278, 0.2903480745072011, 0.11723259075290757, 0.3646055056965428, 0.2277835312556494, 0.1986675484187983, 0.13414850536317569, 0.5135971348190155, 0.15331257755791508, 0.016939655194906773, 0.9825000013045928, 0.9850338437247503, 0.008074047899383199, 0.10580810986402753, 0.12780781587535997, 0.30380546396601965, 0.4630414312861403, 0.011651156326757091, 0.9786971314475957, 0.2969093982386032, 0.4692926508343711, 0.12110778086048286, 0.11280603781762719, 0.01575027378298654, 0.05118838979470625, 0.11812705337239905, 0.8150766682695535, 0.0014926262838335514, 0.9060241542869657, 0.0074631314191677565, 0.08507969817851242, 0.0020353098141249856, 0.9962841540141805, 0.0010176549070624928, 0.9111126502162863, 0.0865557017705472, 0.39357881133111505, 0.4461769013246742, 0.048970635511244726, 0.11154422533116855, 0.7600552005049205, 0.21975070783829267, 0.0020160615398008503, 0.016128492318406802, 0.059405712736241, 0.78960093178587, 0.1509895198712792, 0.14360305304083773, 0.8067880616294337, 0.04699736281336507, 0.997753064039607, 0.5529756886642507, 0.007193959522952091, 0.04891892475607422, 0.3908718007470636, 0.018324521577670953, 0.016288463624596402, 0.0020360579530745502, 0.9650914697573368, 0.5786077238448333, 0.19081744084244504, 0.025852685533492552, 0.20435932374094112, 0.7247310983455616, 0.10047408408881649, 0.01482404519343194, 0.16059382292884603, 0.10916908321224791, 0.003934021016657583, 0.706156772490036, 0.1809649667662488, 0.9866901260061568, 0.005505523438899926, 0.07157180470569903, 0.8808837502239881, 0.04954971095009933, 0.1996794375961054, 0.0032380449339908988, 0.3130110102857869, 0.4835480434759742, 0.9781897302439101, 0.03819449445333065, 0.003472226768484605, 0.958334588101751, 0.9942541042438282, 0.017894610086841584, 0.9842035547762871, 0.7553433126469473, 0.007451465701086188, 0.10941889108437088, 0.1278514641344262, 0.1285907667112276, 0.0197831948786504, 0.8506773797819672, 0.9798514322608941, 0.9809707889234537, 0.00829284796222866, 0.9868489075052106, 0.0003697190654698833, 0.005915505047518132, 0.9934351289175762, 0.9872288678758964, 0.14575983389211283, 0.8522488246957209, 0.0014873452437970697, 0.06772929904716546, 0.9308436997251458, 0.0008683243467585316, 0.994764675921356, 0.9947661069895005, 0.9934444970867277, 0.004967222485433638, 0.004967222485433638, 0.9953262545060636, 0.005336788271501046, 0.928601159241182, 0.056036276850760985, 0.010673576543002092, 0.8685570241194922, 0.1138489122524493, 0.0165264550043878, 0.8032957919015261, 0.19491736127022324, 0.9811478607986288, 0.008420899468176878, 0.008420899468176878, 0.9768243383085179, 0.008420899468176878, 0.9872106027748403, 0.9775971745984897, 0.08143703174605417, 0.8735972496394901, 0.012338944203947601, 0.032081254930263765, 0.9805826994545223, 0.9906042964997976, 0.9908879684243966, 0.6402411716020772, 0.35915968163043355, 0.9931919781884373, 0.00799397051115743, 0.7178585519019373, 0.02717949973793526, 0.2470136887947646, 0.3263857203147236, 0.01771085304033384, 0.14801212897993282, 0.5072894335124193, 0.9845001196937047, 0.9613110839985963, 0.027079185464749193, 0.03059549252749684, 0.9688572633707333, 0.9815711362548445, 0.021815630574574505, 0.9526158684230867, 0.029087507432766006, 0.9106800649786243, 0.02340532877281511, 0.0010638785805825051, 0.0648965934155328, 0.11529069972329994, 0.5801725534462836, 0.13853479240944913, 0.16642770363282813, 0.9410566652689566, 0.020607080261364014, 0.03434513376894002, 0.3820099988197349, 0.08968930407072037, 0.5281703461942422, 0.0023681297570816644, 0.994614497974299, 0.9866626168969904, 0.008361547600821953, 0.6083200553140098, 0.2288060166413555, 0.05319106659928191, 0.10933719245407948, 0.4582811157325821, 0.17755714570801445, 0.12153480490703747, 0.24276347680423355, 0.8506839885176405, 0.12775028647009706, 0.008122850584803859, 0.013291937320588133, 0.006643150575359967, 0.08303938219199959, 0.9101116288243155, 0.984512817341022, 0.9942635551687588, 0.004560841996186967, 0.024060955603932385, 0.9693127829012761, 0.006874558743980682, 0.9882961755909349, 0.9785275383354672, 0.019349414599853874, 0.20255772304140254, 0.1515915862761464, 0.005227296078487808, 0.6403437696147564, 0.01009791371517668, 0.32187099967125665, 0.5326649484755699, 0.13505959594048808, 0.9902476211257355, 0.9786288764536007, 0.0054068694574909235, 0.4549494443517363, 0.21009549891964732, 0.32904662698444764, 0.9863500546452064, 0.995493917919583, 0.9981496205054696, 0.007746937593432575, 0.9916080119593697, 0.023578549321242138, 0.004715709864248427, 0.9761519418994244, 0.39713877077934634, 0.18131368004452647, 0.09014174434031856, 0.3312065234904276, 0.018137127729057033, 0.9794048973690798, 0.9293561600895365, 0.006686015540212493, 0.0033430077701062464, 0.06351714763201868, 0.9936566904396966, 0.004870866129606356, 0.9807048820933482, 0.015182603833626306, 0.9716866453520836, 0.015182603833626306, 0.988434192345164, 0.5845258302220726, 0.006088810731479923, 0.2854130030381214, 0.12405951865390343, 0.0013777370459589632, 0.02479926682726134, 0.30172441306501296, 0.672335678427974, 0.43947838437366227, 0.31155288258498076, 0.2482982064237877, 0.0004720498220984557, 0.1597087864613147, 0.01652159859944635, 0.008260799299723174, 0.8178191306725943, 0.20587119223813968, 0.05146779805953492, 0.2750070403778134, 0.46705106298801835, 0.98750813708483, 0.006782336106351854, 0.004069401663811112], \"Term\": [\"accus\", \"accus\", \"accus\", \"african\", \"afterlif\", \"angri\", \"anti\", \"anti\", \"apolog\", \"arab\", \"arab\", \"arab\", \"atheism\", \"atheism\", \"atheist\", \"atheist\", \"atheist\", \"attack\", \"attack\", \"attack\", \"attack\", \"awesom\", \"babi\", \"babi\", \"babi\", \"base\", \"base\", \"base\", \"base\", \"beauti\", \"beauti\", \"beauti\", \"behavior\", \"behavior\", \"behavior\", \"belief\", \"belief\", \"belief\", \"belief\", \"believ\", \"believ\", \"believ\", \"believ\", \"biblic\", \"biblic\", \"biolog\", \"bitch\", \"black\", \"black\", \"blame\", \"blame\", \"blame\", \"blame\", \"blind\", \"blind\", \"buddhism\", \"candid\", \"capit\", \"capit\", \"card\", \"care\", \"care\", \"care\", \"care\", \"cathol\", \"cathol\", \"cathol\", \"catholic\", \"chang\", \"chang\", \"chang\", \"chang\", \"child\", \"child\", \"child\", \"child\", \"choic\", \"choic\", \"choic\", \"choic\", \"choos\", \"choos\", \"choos\", \"choos\", \"christian\", \"christian\", \"christian\", \"christian\", \"church\", \"church\", \"church\", \"claim\", \"claim\", \"claim\", \"class\", \"class\", \"class\", \"class\", \"climate\", \"colleg\", \"colleg\", \"come\", \"come\", \"come\", \"come\", \"commit\", \"commit\", \"commit\", \"common\", \"common\", \"common\", \"common\", \"compass\", \"compuls\", \"connect\", \"connect\", \"conspiraci\", \"context\", \"context\", \"control\", \"control\", \"convert\", \"convert\", \"corpor\", \"countri\", \"countri\", \"countri\", \"countri\", \"crazi\", \"crazi\", \"creat\", \"creat\", \"critic\", \"critic\", \"cultur\", \"cultur\", \"cultur\", \"cultur\", \"damag\", \"damag\", \"dedic\", \"degre\", \"denial\", \"differ\", \"differ\", \"differ\", \"differ\", \"disabl\", \"disabl\", \"discrimin\", \"discrimin\", \"discrimin\", \"disrespect\", \"disrespect\", \"disrespect\", \"dollar\", \"drag\", \"dumb\", \"dumb\", \"east\", \"educ\", \"educ\", \"educ\", \"educ\", \"entir\", \"entir\", \"entir\", \"entir\", \"equal\", \"equal\", \"equival\", \"especi\", \"especi\", \"especi\", \"ethic\", \"ethic\", \"ethic\", \"european\", \"event\", \"event\", \"evid\", \"evid\", \"evid\", \"evid\", \"evil\", \"evil\", \"evil\", \"evil\", \"evolut\", \"evolut\", \"exclus\", \"exist\", \"exist\", \"exist\", \"exist\", \"face\", \"face\", \"fact\", \"fact\", \"fact\", \"fact\", \"faith\", \"faith\", \"faith\", \"faith\", \"fake\", \"fake\", \"fake\", \"fake\", \"famili\", \"famili\", \"fascin\", \"fastest\", \"favorit\", \"flat\", \"follow\", \"follow\", \"follow\", \"follow\", \"forc\", \"forc\", \"forc\", \"forc\", \"form\", \"form\", \"freedom\", \"freedom\", \"freedom\", \"freedom\", \"fuck\", \"fuck\", \"fuck\", \"fuel\", \"funni\", \"funni\", \"gain\", \"gang\", \"gender\", \"gender\", \"gender\", \"girl\", \"girl\", \"girl\", \"good\", \"good\", \"good\", \"gospel\", \"govern\", \"govern\", \"govern\", \"govern\", \"great\", \"great\", \"great\", \"great\", \"group\", \"group\", \"group\", \"guarante\", \"guis\", \"hair\", \"hate\", \"hate\", \"hate\", \"hate\", \"heart\", \"heart\", \"heart\", \"heart\", \"higher\", \"hinduism\", \"hinduism\", \"hinduism\", \"hitler\", \"human\", \"human\", \"human\", \"human\", \"ident\", \"ident\", \"ident\", \"ident\", \"ideolog\", \"ideolog\", \"ideolog\", \"ideolog\", \"idiot\", \"impli\", \"increas\", \"inde\", \"insult\", \"insult\", \"involv\", \"involv\", \"involv\", \"irrat\", \"irrat\", \"irrelev\", \"irrelev\", \"irrelev\", \"isra\", \"jewish\", \"jewish\", \"joke\", \"joke\", \"kill\", \"kill\", \"kill\", \"kill\", \"know\", \"know\", \"know\", \"know\", \"land\", \"land\", \"land\", \"languag\", \"languag\", \"languag\", \"laugh\", \"leav\", \"leav\", \"leav\", \"liberti\", \"lie\", \"lie\", \"lie\", \"lie\", \"life\", \"life\", \"life\", \"life\", \"live\", \"live\", \"live\", \"live\", \"love\", \"love\", \"love\", \"love\", \"make\", \"make\", \"make\", \"make\", \"mani\", \"mani\", \"mani\", \"mani\", \"mark\", \"mark\", \"mate\", \"matter\", \"matter\", \"matter\", \"matter\", \"mean\", \"mean\", \"mean\", \"mean\", \"merci\", \"method\", \"middle\", \"middle\", \"mindset\", \"minut\", \"mission\", \"month\", \"moral\", \"mormon\", \"movement\", \"movement\", \"movi\", \"murder\", \"murder\", \"murder\", \"murder\", \"muslim\", \"muslim\", \"muslim\", \"narr\", \"nation\", \"nation\", \"nation\", \"nativ\", \"natur\", \"natur\", \"need\", \"need\", \"need\", \"need\", \"opportun\", \"opportun\", \"organ\", \"organ\", \"organ\", \"organ\", \"orient\", \"orient\", \"patriarchi\", \"patriot\", \"peac\", \"peac\", \"peac\", \"peac\", \"peopl\", \"peopl\", \"peopl\", \"peopl\", \"person\", \"person\", \"person\", \"person\", \"pervert\", \"pervert\", \"planet\", \"planet\", \"point\", \"point\", \"point\", \"point\", \"poison\", \"poison\", \"polit\", \"polit\", \"polit\", \"polit\", \"poor\", \"poor\", \"poor\", \"poor\", \"power\", \"power\", \"power\", \"power\", \"practic\", \"practic\", \"practic\", \"prayer\", \"prayer\", \"problem\", \"problem\", \"problem\", \"problem\", \"protect\", \"protect\", \"protect\", \"protect\", \"prove\", \"prove\", \"prove\", \"public\", \"public\", \"public\", \"pure\", \"race\", \"race\", \"race\", \"race\", \"racist\", \"racist\", \"racist\", \"racist\", \"real\", \"real\", \"real\", \"real\", \"realli\", \"realli\", \"realli\", \"realli\", \"reason\", \"reason\", \"reason\", \"reason\", \"regim\", \"reject\", \"reject\", \"reject\", \"reject\", \"respect\", \"respect\", \"respect\", \"respect\", \"respond\", \"respons\", \"respons\", \"respons\", \"retweet\", \"reward\", \"reward\", \"right\", \"right\", \"right\", \"right\", \"root\", \"root\", \"root\", \"rude\", \"ruin\", \"sacrific\", \"sacrific\", \"say\", \"say\", \"say\", \"scholar\", \"school\", \"school\", \"school\", \"scienc\", \"scienc\", \"scienc\", \"scientif\", \"scientolog\", \"seek\", \"seek\", \"seek\", \"send\", \"separ\", \"separ\", \"separ\", \"separ\", \"sexual\", \"sexual\", \"sexual\", \"shit\", \"shit\", \"sicken\", \"sin\", \"sin\", \"sin\", \"sin\", \"sing\", \"smile\", \"social\", \"social\", \"social\", \"social\", \"somewher\", \"song\", \"space\", \"spiritu\", \"spiritu\", \"sport\", \"state\", \"state\", \"state\", \"state\", \"stop\", \"stop\", \"stop\", \"stop\", \"suck\", \"suit\", \"suit\", \"superior\", \"superior\", \"supernatur\", \"symbol\", \"symbol\", \"symbol\", \"talk\", \"talk\", \"talk\", \"talk\", \"teach\", \"teach\", \"teach\", \"teach\", \"teacher\", \"teacher\", \"teacher\", \"tell\", \"tell\", \"tell\", \"terrorist\", \"terrorist\", \"theolog\", \"theolog\", \"thing\", \"thing\", \"thing\", \"thing\", \"think\", \"think\", \"think\", \"think\", \"time\", \"time\", \"time\", \"time\", \"toler\", \"toler\", \"toler\", \"tomorrow\", \"tool\", \"tool\", \"tradit\", \"tradit\", \"tradit\", \"travel\", \"treat\", \"treat\", \"tri\", \"tri\", \"tri\", \"tri\", \"truth\", \"truth\", \"truth\", \"truth\", \"unit\", \"united\", \"use\", \"use\", \"use\", \"use\", \"vegan\", \"version\", \"video\", \"violenc\", \"violenc\", \"violent\", \"violent\", \"violent\", \"want\", \"want\", \"want\", \"want\", \"war\", \"war\", \"watch\", \"watch\", \"watch\", \"watch\", \"western\", \"western\", \"widow\", \"wisdom\", \"wisdom\", \"wisdom\", \"wit\", \"woman\", \"woman\", \"woman\", \"woman\", \"word\", \"word\", \"word\", \"word\", \"world\", \"world\", \"world\", \"world\", \"write\", \"write\", \"write\", \"write\", \"wrong\", \"wrong\", \"wrong\", \"wrong\", \"year\", \"year\", \"year\"]}, \"R\": 30, \"lambda.step\": 0.01, \"plot.opts\": {\"xlab\": \"PC1\", \"ylab\": \"PC2\"}, \"topic.order\": [4, 3, 2, 1]};\n",
       "\n",
       "function LDAvis_load_lib(url, callback){\n",
       "  var s = document.createElement('script');\n",
       "  s.src = url;\n",
       "  s.async = true;\n",
       "  s.onreadystatechange = s.onload = callback;\n",
       "  s.onerror = function(){console.warn(\"failed to load library \" + url);};\n",
       "  document.getElementsByTagName(\"head\")[0].appendChild(s);\n",
       "}\n",
       "\n",
       "if(typeof(LDAvis) !== \"undefined\"){\n",
       "   // already loaded: just create the visualization\n",
       "   !function(LDAvis){\n",
       "       new LDAvis(\"#\" + \"ldavis_el1166423572240525445730010995\", ldavis_el1166423572240525445730010995_data);\n",
       "   }(LDAvis);\n",
       "}else if(typeof define === \"function\" && define.amd){\n",
       "   // require.js is available: use it to load d3/LDAvis\n",
       "   require.config({paths: {d3: \"https://d3js.org/d3.v5\"}});\n",
       "   require([\"d3\"], function(d3){\n",
       "      window.d3 = d3;\n",
       "      LDAvis_load_lib(\"https://cdn.jsdelivr.net/gh/bmabey/pyLDAvis@3.3.1/pyLDAvis/js/ldavis.v3.0.0.js\", function(){\n",
       "        new LDAvis(\"#\" + \"ldavis_el1166423572240525445730010995\", ldavis_el1166423572240525445730010995_data);\n",
       "      });\n",
       "    });\n",
       "}else{\n",
       "    // require.js not available: dynamically load d3 & LDAvis\n",
       "    LDAvis_load_lib(\"https://d3js.org/d3.v5.js\", function(){\n",
       "         LDAvis_load_lib(\"https://cdn.jsdelivr.net/gh/bmabey/pyLDAvis@3.3.1/pyLDAvis/js/ldavis.v3.0.0.js\", function(){\n",
       "                 new LDAvis(\"#\" + \"ldavis_el1166423572240525445730010995\", ldavis_el1166423572240525445730010995_data);\n",
       "            })\n",
       "         });\n",
       "}\n",
       "</script>"
      ],
      "text/plain": [
       "PreparedData(topic_coordinates=                x           y  topics  cluster       Freq\n",
       "topic                                                    \n",
       "3      269.562408 -124.803398       1        1  27.659232\n",
       "2        1.782994 -295.079681       2        1  24.934058\n",
       "1      220.811432 -343.832123       3        1  24.811541\n",
       "0       50.533993  -76.050934       4        1  22.595170, topic_info=           Term         Freq        Total Category  logprob  loglift\n",
       "169      believ  3079.000000  3079.000000  Default  30.0000  30.0000\n",
       "1579        say  2704.000000  2704.000000  Default  29.0000  29.0000\n",
       "284   christian  2777.000000  2777.000000  Default  28.0000  28.0000\n",
       "1085       love  1944.000000  1944.000000  Default  27.0000  27.0000\n",
       "419      cultur  1344.000000  1344.000000  Default  26.0000  26.0000\n",
       "...         ...          ...          ...      ...      ...      ...\n",
       "291       claim   362.169219   649.463533   Topic4  -5.3394   0.9034\n",
       "1024       know   584.116118  2850.017056   Topic4  -4.8614  -0.0975\n",
       "1912        use   426.417519  1294.649345   Topic4  -5.1761   0.3769\n",
       "390     countri   456.194694  1736.107090   Topic4  -5.1086   0.1510\n",
       "722      follow   415.713082  1269.237980   Topic4  -5.2015   0.3713\n",
       "\n",
       "[329 rows x 6 columns], token_table=      Topic      Freq      Term\n",
       "term                           \n",
       "17        1  0.009341     accus\n",
       "17        3  0.037365     accus\n",
       "17        4  0.952817     accus\n",
       "45        2  0.991733   african\n",
       "46        3  0.981575  afterlif\n",
       "...     ...       ...       ...\n",
       "2002      3  0.275007     wrong\n",
       "2002      4  0.467051     wrong\n",
       "2003      1  0.987508      year\n",
       "2003      2  0.006782      year\n",
       "2003      4  0.004069      year\n",
       "\n",
       "[664 rows x 3 columns], R=30, lambda_step=0.01, plot_opts={'xlab': 'PC1', 'ylab': 'PC2'}, topic_order=[4, 3, 2, 1])"
      ]
     },
     "execution_count": 33,
     "metadata": {},
     "output_type": "execute_result"
    }
   ],
   "source": [
    "pyLDAvis.enable_notebook()\n",
    "panel = pyLDAvis.sklearn.prepare(best_lda_model, data_vectorized, vectorizer, mds='tsne')\n",
    "panel"
   ]
  },
  {
   "cell_type": "code",
   "execution_count": 34,
   "metadata": {
    "ExecuteTime": {
     "end_time": "2022-01-18T17:45:39.541561Z",
     "start_time": "2022-01-18T17:45:39.510319Z"
    }
   },
   "outputs": [
    {
     "data": {
      "text/html": [
       "<div>\n",
       "<style scoped>\n",
       "    .dataframe tbody tr th:only-of-type {\n",
       "        vertical-align: middle;\n",
       "    }\n",
       "\n",
       "    .dataframe tbody tr th {\n",
       "        vertical-align: top;\n",
       "    }\n",
       "\n",
       "    .dataframe thead th {\n",
       "        text-align: right;\n",
       "    }\n",
       "</style>\n",
       "<table border=\"1\" class=\"dataframe\">\n",
       "  <thead>\n",
       "    <tr style=\"text-align: right;\">\n",
       "      <th></th>\n",
       "      <th>abandon</th>\n",
       "      <th>abid</th>\n",
       "      <th>abil</th>\n",
       "      <th>abl</th>\n",
       "      <th>abolish</th>\n",
       "      <th>abort</th>\n",
       "      <th>abraham</th>\n",
       "      <th>absolut</th>\n",
       "      <th>absurd</th>\n",
       "      <th>abus</th>\n",
       "      <th>...</th>\n",
       "      <th>wrong</th>\n",
       "      <th>year</th>\n",
       "      <th>yesterday</th>\n",
       "      <th>yoga</th>\n",
       "      <th>young</th>\n",
       "      <th>youth</th>\n",
       "      <th>youtub</th>\n",
       "      <th>zealot</th>\n",
       "      <th>zionism</th>\n",
       "      <th>zionist</th>\n",
       "    </tr>\n",
       "  </thead>\n",
       "  <tbody>\n",
       "    <tr>\n",
       "      <th>Topic0</th>\n",
       "      <td>12.271970</td>\n",
       "      <td>2.654357</td>\n",
       "      <td>14.650275</td>\n",
       "      <td>6.304231</td>\n",
       "      <td>5.660348</td>\n",
       "      <td>26.694477</td>\n",
       "      <td>0.260158</td>\n",
       "      <td>109.835227</td>\n",
       "      <td>55.995874</td>\n",
       "      <td>3.461683</td>\n",
       "      <td>...</td>\n",
       "      <td>607.773220</td>\n",
       "      <td>3.344617</td>\n",
       "      <td>1.979468</td>\n",
       "      <td>0.253940</td>\n",
       "      <td>5.193992</td>\n",
       "      <td>0.255970</td>\n",
       "      <td>0.256964</td>\n",
       "      <td>13.676760</td>\n",
       "      <td>48.922586</td>\n",
       "      <td>35.830104</td>\n",
       "    </tr>\n",
       "    <tr>\n",
       "      <th>Topic1</th>\n",
       "      <td>15.042003</td>\n",
       "      <td>17.084362</td>\n",
       "      <td>10.247424</td>\n",
       "      <td>2.267023</td>\n",
       "      <td>3.655368</td>\n",
       "      <td>122.381248</td>\n",
       "      <td>31.143923</td>\n",
       "      <td>119.349317</td>\n",
       "      <td>0.261277</td>\n",
       "      <td>173.413145</td>\n",
       "      <td>...</td>\n",
       "      <td>358.932079</td>\n",
       "      <td>0.499653</td>\n",
       "      <td>0.251917</td>\n",
       "      <td>0.254750</td>\n",
       "      <td>75.311709</td>\n",
       "      <td>0.302570</td>\n",
       "      <td>0.254851</td>\n",
       "      <td>17.170134</td>\n",
       "      <td>0.253623</td>\n",
       "      <td>0.255599</td>\n",
       "    </tr>\n",
       "    <tr>\n",
       "      <th>Topic2</th>\n",
       "      <td>0.312367</td>\n",
       "      <td>5.673682</td>\n",
       "      <td>40.410639</td>\n",
       "      <td>48.065289</td>\n",
       "      <td>0.263536</td>\n",
       "      <td>32.341326</td>\n",
       "      <td>125.319292</td>\n",
       "      <td>32.261979</td>\n",
       "      <td>1.742853</td>\n",
       "      <td>0.747997</td>\n",
       "      <td>...</td>\n",
       "      <td>67.424332</td>\n",
       "      <td>5.109433</td>\n",
       "      <td>5.247771</td>\n",
       "      <td>48.237376</td>\n",
       "      <td>32.968234</td>\n",
       "      <td>31.712412</td>\n",
       "      <td>0.254446</td>\n",
       "      <td>22.256848</td>\n",
       "      <td>13.570240</td>\n",
       "      <td>1.662417</td>\n",
       "    </tr>\n",
       "    <tr>\n",
       "      <th>Topic3</th>\n",
       "      <td>32.373660</td>\n",
       "      <td>10.587598</td>\n",
       "      <td>12.691662</td>\n",
       "      <td>99.363458</td>\n",
       "      <td>21.420747</td>\n",
       "      <td>50.582949</td>\n",
       "      <td>0.276627</td>\n",
       "      <td>43.553477</td>\n",
       "      <td>4.999996</td>\n",
       "      <td>192.377176</td>\n",
       "      <td>...</td>\n",
       "      <td>272.870369</td>\n",
       "      <td>741.046297</td>\n",
       "      <td>21.520844</td>\n",
       "      <td>0.253935</td>\n",
       "      <td>71.526065</td>\n",
       "      <td>24.729049</td>\n",
       "      <td>46.233739</td>\n",
       "      <td>1.896258</td>\n",
       "      <td>0.253551</td>\n",
       "      <td>0.251879</td>\n",
       "    </tr>\n",
       "  </tbody>\n",
       "</table>\n",
       "<p>4 rows × 2012 columns</p>\n",
       "</div>"
      ],
      "text/plain": [
       "          abandon       abid       abil        abl    abolish       abort  \\\n",
       "Topic0  12.271970   2.654357  14.650275   6.304231   5.660348   26.694477   \n",
       "Topic1  15.042003  17.084362  10.247424   2.267023   3.655368  122.381248   \n",
       "Topic2   0.312367   5.673682  40.410639  48.065289   0.263536   32.341326   \n",
       "Topic3  32.373660  10.587598  12.691662  99.363458  21.420747   50.582949   \n",
       "\n",
       "           abraham     absolut     absurd        abus  ...       wrong  \\\n",
       "Topic0    0.260158  109.835227  55.995874    3.461683  ...  607.773220   \n",
       "Topic1   31.143923  119.349317   0.261277  173.413145  ...  358.932079   \n",
       "Topic2  125.319292   32.261979   1.742853    0.747997  ...   67.424332   \n",
       "Topic3    0.276627   43.553477   4.999996  192.377176  ...  272.870369   \n",
       "\n",
       "              year  yesterday       yoga      young      youth     youtub  \\\n",
       "Topic0    3.344617   1.979468   0.253940   5.193992   0.255970   0.256964   \n",
       "Topic1    0.499653   0.251917   0.254750  75.311709   0.302570   0.254851   \n",
       "Topic2    5.109433   5.247771  48.237376  32.968234  31.712412   0.254446   \n",
       "Topic3  741.046297  21.520844   0.253935  71.526065  24.729049  46.233739   \n",
       "\n",
       "           zealot    zionism    zionist  \n",
       "Topic0  13.676760  48.922586  35.830104  \n",
       "Topic1  17.170134   0.253623   0.255599  \n",
       "Topic2  22.256848  13.570240   1.662417  \n",
       "Topic3   1.896258   0.253551   0.251879  \n",
       "\n",
       "[4 rows x 2012 columns]"
      ]
     },
     "execution_count": 34,
     "metadata": {},
     "output_type": "execute_result"
    }
   ],
   "source": [
    "# Topic-Keyword Matrix\n",
    "df_topic_keywords = pd.DataFrame(best_lda_model.components_)\n",
    "\n",
    "# Assign Column and Index\n",
    "df_topic_keywords.columns = vectorizer.get_feature_names()\n",
    "df_topic_keywords.index = topicnames\n",
    "\n",
    "# View\n",
    "df_topic_keywords.head()"
   ]
  },
  {
   "cell_type": "code",
   "execution_count": 35,
   "metadata": {
    "ExecuteTime": {
     "end_time": "2022-01-18T17:45:40.024091Z",
     "start_time": "2022-01-18T17:45:39.542453Z"
    }
   },
   "outputs": [
    {
     "data": {
      "text/html": [
       "<div>\n",
       "<style scoped>\n",
       "    .dataframe tbody tr th:only-of-type {\n",
       "        vertical-align: middle;\n",
       "    }\n",
       "\n",
       "    .dataframe tbody tr th {\n",
       "        vertical-align: top;\n",
       "    }\n",
       "\n",
       "    .dataframe thead th {\n",
       "        text-align: right;\n",
       "    }\n",
       "</style>\n",
       "<table border=\"1\" class=\"dataframe\">\n",
       "  <thead>\n",
       "    <tr style=\"text-align: right;\">\n",
       "      <th></th>\n",
       "      <th>Word 0</th>\n",
       "      <th>Word 1</th>\n",
       "      <th>Word 2</th>\n",
       "      <th>Word 3</th>\n",
       "      <th>Word 4</th>\n",
       "      <th>Word 5</th>\n",
       "      <th>Word 6</th>\n",
       "      <th>Word 7</th>\n",
       "      <th>Word 8</th>\n",
       "      <th>Word 9</th>\n",
       "      <th>Word 10</th>\n",
       "      <th>Word 11</th>\n",
       "      <th>Word 12</th>\n",
       "      <th>Word 13</th>\n",
       "      <th>Word 14</th>\n",
       "    </tr>\n",
       "  </thead>\n",
       "  <tbody>\n",
       "    <tr>\n",
       "      <th>Topic 0</th>\n",
       "      <td>say</td>\n",
       "      <td>peopl</td>\n",
       "      <td>christian</td>\n",
       "      <td>race</td>\n",
       "      <td>think</td>\n",
       "      <td>make</td>\n",
       "      <td>nation</td>\n",
       "      <td>want</td>\n",
       "      <td>tell</td>\n",
       "      <td>wrong</td>\n",
       "      <td>atheist</td>\n",
       "      <td>know</td>\n",
       "      <td>muslim</td>\n",
       "      <td>kill</td>\n",
       "      <td>tri</td>\n",
       "    </tr>\n",
       "    <tr>\n",
       "      <th>Topic 1</th>\n",
       "      <td>believ</td>\n",
       "      <td>peopl</td>\n",
       "      <td>love</td>\n",
       "      <td>hate</td>\n",
       "      <td>belief</td>\n",
       "      <td>faith</td>\n",
       "      <td>good</td>\n",
       "      <td>scienc</td>\n",
       "      <td>human</td>\n",
       "      <td>life</td>\n",
       "      <td>make</td>\n",
       "      <td>person</td>\n",
       "      <td>base</td>\n",
       "      <td>reason</td>\n",
       "      <td>evil</td>\n",
       "    </tr>\n",
       "    <tr>\n",
       "      <th>Topic 2</th>\n",
       "      <td>christian</td>\n",
       "      <td>cultur</td>\n",
       "      <td>differ</td>\n",
       "      <td>freedom</td>\n",
       "      <td>church</td>\n",
       "      <td>practic</td>\n",
       "      <td>polit</td>\n",
       "      <td>state</td>\n",
       "      <td>peopl</td>\n",
       "      <td>chang</td>\n",
       "      <td>world</td>\n",
       "      <td>teach</td>\n",
       "      <td>power</td>\n",
       "      <td>make</td>\n",
       "      <td>use</td>\n",
       "    </tr>\n",
       "    <tr>\n",
       "      <th>Topic 3</th>\n",
       "      <td>right</td>\n",
       "      <td>peopl</td>\n",
       "      <td>think</td>\n",
       "      <td>thing</td>\n",
       "      <td>know</td>\n",
       "      <td>peac</td>\n",
       "      <td>race</td>\n",
       "      <td>time</td>\n",
       "      <td>good</td>\n",
       "      <td>world</td>\n",
       "      <td>countri</td>\n",
       "      <td>realli</td>\n",
       "      <td>talk</td>\n",
       "      <td>make</td>\n",
       "      <td>need</td>\n",
       "    </tr>\n",
       "  </tbody>\n",
       "</table>\n",
       "</div>"
      ],
      "text/plain": [
       "            Word 0  Word 1     Word 2   Word 3  Word 4   Word 5  Word 6  \\\n",
       "Topic 0        say   peopl  christian     race   think     make  nation   \n",
       "Topic 1     believ   peopl       love     hate  belief    faith    good   \n",
       "Topic 2  christian  cultur     differ  freedom  church  practic   polit   \n",
       "Topic 3      right   peopl      think    thing    know     peac    race   \n",
       "\n",
       "         Word 7 Word 8 Word 9  Word 10 Word 11 Word 12 Word 13 Word 14  \n",
       "Topic 0    want   tell  wrong  atheist    know  muslim    kill     tri  \n",
       "Topic 1  scienc  human   life     make  person    base  reason    evil  \n",
       "Topic 2   state  peopl  chang    world   teach   power    make     use  \n",
       "Topic 3    time   good  world  countri  realli    talk    make    need  "
      ]
     },
     "execution_count": 35,
     "metadata": {},
     "output_type": "execute_result"
    }
   ],
   "source": [
    "# Show top n keywords for each topic\n",
    "def show_topics(vectorizer=vectorizer, lda_model=lda_model, n_words=15):\n",
    "    keywords = np.array(vectorizer.get_feature_names())\n",
    "    topic_keywords = []\n",
    "    for topic_weights in lda_model.components_:\n",
    "        top_keyword_locs = (-topic_weights).argsort()[:n_words]\n",
    "        topic_keywords.append(keywords.take(top_keyword_locs))\n",
    "    return topic_keywords\n",
    "\n",
    "topic_keywords = show_topics(vectorizer=vectorizer, lda_model=best_lda_model, n_words=15)        \n",
    "\n",
    "# Topic - Keywords Dataframe\n",
    "df_topic_keywords = pd.DataFrame(topic_keywords)\n",
    "df_topic_keywords.columns = ['Word '+str(i) for i in range(df_topic_keywords.shape[1])]\n",
    "df_topic_keywords.index = ['Topic '+str(i) for i in range(df_topic_keywords.shape[0])]\n",
    "df_topic_keywords"
   ]
  },
  {
   "cell_type": "code",
   "execution_count": 36,
   "metadata": {
    "ExecuteTime": {
     "end_time": "2022-01-18T17:45:43.523507Z",
     "start_time": "2022-01-18T17:45:40.024091Z"
    }
   },
   "outputs": [
    {
     "name": "stdout",
     "output_type": "stream",
     "text": [
      "Component's weights: \n",
      " [[ 0.44  0.48  0.47  0.6 ]\n",
      " [-0.23 -0.45 -0.34  0.79]]\n",
      "Perc of Variance Explained: \n",
      " [0.01 0.36]\n"
     ]
    }
   ],
   "source": [
    "# Construct the k-means clusters\n",
    "from sklearn.cluster import KMeans\n",
    "clusters = KMeans(n_clusters=4, random_state=100).fit_predict(lda_output)\n",
    "\n",
    "# Build the Singular Value Decomposition(SVD) model\n",
    "svd_model = TruncatedSVD(n_components=2)  # 2 components\n",
    "lda_output_svd = svd_model.fit_transform(lda_output)\n",
    "\n",
    "# X and Y axes of the plot using SVD decomposition\n",
    "x = lda_output_svd[:, 0]\n",
    "y = lda_output_svd[:, 1]\n",
    "\n",
    "# Weights for the 15 columns of lda_output, for each component\n",
    "print(\"Component's weights: \\n\", np.round(svd_model.components_, 2))\n",
    "\n",
    "# Percentage of total information in 'lda_output' explained by the two components\n",
    "print(\"Perc of Variance Explained: \\n\", np.round(svd_model.explained_variance_ratio_, 2))"
   ]
  },
  {
   "cell_type": "code",
   "execution_count": 37,
   "metadata": {
    "ExecuteTime": {
     "end_time": "2022-01-18T17:45:45.755899Z",
     "start_time": "2022-01-18T17:45:43.523507Z"
    }
   },
   "outputs": [
    {
     "data": {
      "text/plain": [
       "Text(0.5, 1.0, 'Segregation of Topic Clusters')"
      ]
     },
     "execution_count": 37,
     "metadata": {},
     "output_type": "execute_result"
    },
    {
     "data": {
      "image/png": "[encoded data removed]",
      "text/plain": [
       "<Figure size 864x864 with 1 Axes>"
      ]
     },
     "metadata": {
      "needs_background": "light"
     },
     "output_type": "display_data"
    }
   ],
   "source": [
    "# Plot\n",
    "plt.figure(figsize=(12, 12))\n",
    "plt.scatter(x, y, c=clusters)\n",
    "plt.xlabel('Component 1')\n",
    "plt.ylabel('Component 2')\n",
    "plt.title(\"Segregation of Topic Clusters\", )"
   ]
  }
 ],
 "metadata": {
  "kernelspec": {
   "display_name": "Python 3",
   "language": "python",
   "name": "python3"
  },
  "language_info": {
   "codemirror_mode": {
    "name": "ipython",
    "version": 3
   },
   "file_extension": ".py",
   "mimetype": "text/x-python",
   "name": "python",
   "nbconvert_exporter": "python",
   "pygments_lexer": "ipython3",
   "version": "3.9.7"
  },
  "varInspector": {
   "cols": {
    "lenName": 16,
    "lenType": 16,
    "lenVar": 40
   },
   "kernels_config": {
    "python": {
     "delete_cmd_postfix": "",
     "delete_cmd_prefix": "del ",
     "library": "var_list.py",
     "varRefreshCmd": "print(var_dic_list())"
    },
    "r": {
     "delete_cmd_postfix": ") ",
     "delete_cmd_prefix": "rm(",
     "library": "var_list.r",
     "varRefreshCmd": "cat(var_dic_list()) "
    }
   },
   "types_to_exclude": [
    "module",
    "function",
    "builtin_function_or_method",
    "instance",
    "_Feature"
   ],
   "window_display": false
  }
 },
 "nbformat": 4,
 "nbformat_minor": 2
}
